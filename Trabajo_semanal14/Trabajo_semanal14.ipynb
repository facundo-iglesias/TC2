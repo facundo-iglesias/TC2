{
 "cells": [
  {
   "cell_type": "markdown",
   "id": "8038ccfb",
   "metadata": {},
   "source": [
    "<div class=\"alert alert-success text-left\">\n",
    "<img src=\"./rsc/logo_UTN.svg\" align=\"right\" width=\"150\" /> \n",
    "<center> <h1>Tarea Semanal 12: Sintesis doblemente cargada</h1></center>\n",
    "<h3> Teoría de circuitos 2 </h3>\n",
    "<h3> 2do Cuatrimestre 2023 </h3>    \n",
    "<h3> Facundo N. Iglesias </h3>    \n",
    "</div>"
   ]
  },
  {
   "cell_type": "markdown",
   "id": "8495b5dc",
   "metadata": {},
   "source": [
    "<div class=\"alert alert-success text-left\">\n",
    "\n",
    "<img src=\"./rsc/logo_UTN.svg\" align=\"right\" width=\"150\" /> \n",
    "\n",
    "<center> <h1>INDICE</h1></center>\n",
    "    \n",
    "</div>"
   ]
  },
  {
   "cell_type": "markdown",
   "id": "82e4c404",
   "metadata": {},
   "source": [
    "0. [LIBRERIAS](#lib)\n",
    "\n",
    "1. [PARTE 1](#parte1)\n",
    "\n",
    "2. [PARTE 2](#parte2)\n",
    "    \n",
    "3. [ANEXO](#anexo)\n",
    "    "
   ]
  },
  {
   "cell_type": "markdown",
   "id": "fffaf2b2",
   "metadata": {},
   "source": [
    "<div class=\"alert alert-success text-left\">\n",
    "<img src=\"./rsc/logo_UTN.svg\" align=\"right\" width=\"150\" /> \n",
    "<center> \n",
    "    <a name=\"lib\">\n",
    "        <h1> LIBRERIAS</h1>\n",
    "    </a> \n",
    "</center>\n",
    "</div>"
   ]
  },
  {
   "cell_type": "code",
   "execution_count": 4,
   "id": "b9186352",
   "metadata": {},
   "outputs": [],
   "source": [
    "#Numeric\n",
    "import numpy as np\n",
    "from numpy import sqrt\n",
    "#Simbolic\n",
    "import sympy as sp\n",
    "from sympy.abc import s\n",
    "from sympy.parsing.sympy_parser import parse_expr\n",
    "from sympy.solvers import solve\n",
    "#Visual & graphs\n",
    "from IPython.display import IFrame, display, Math\n",
    "import matplotlib.pyplot as plt\n",
    "import matplotlib as mpl\n",
    "from IPython.display import IFrame, display, Math\n",
    "from sympy.physics.control.lti import TransferFunction\n",
    "from sympy.physics.control.control_plots import pole_zero_plot\n",
    "#Simulation\n",
    "import scipy.signal as sig\n",
    "from pytc2.sistemas_lineales import analyze_sys,  tf2sos_analog\n",
    "from pytc2.sistemas_lineales import plot_plantilla, group_delay\n",
    "import scipy.io as sio\n",
    "import warnings\n",
    "warnings.filterwarnings('ignore')\n",
    "#Sintesis\n",
    "from pytc2.sintesis_dipolo import foster, cauer_LC\n",
    "from pytc2.dibujar import dibujar_foster_serie, dibujar_foster_derivacion, dibujar_cauer_LC\n",
    "from pytc2.general import print_latex\n",
    "from pytc2.remociones import remover_valor, remover_polo_sigma, remover_valor_en_infinito, remover_polo_infinito, remover_polo_dc \n",
    "from pytc2.remociones import remover_polo_jw,remover_valor_en_dc\n",
    "from pytc2.dibujar import display, dibujar_puerto_entrada, dibujar_funcion_exc_abajo,  dibujar_elemento_serie, dibujar_espacio_derivacion, Resistor,dibujar_tanque_RC_derivacion, dibujar_elemento_derivacion\n",
    "from pytc2.dibujar import Capacitor, Inductor, dibujar_elemento_derivacion, dibujar_tanque_derivacion, dibujar_tanque_RC_serie, dibujar_puerto_salida\n",
    "from pytc2.remociones import remover_polo_infinito"
   ]
  },
  {
   "cell_type": "markdown",
   "id": "0e889da1",
   "metadata": {},
   "source": [
    "Diseñar un filtro con las siguientes caracteristicas:\n",
    "\n",
    "* Pasa bajos\n",
    "* Bessel (Retardo Cte.)\n",
    "* Orden 3\n",
    "* No disipativo\n",
    "* Que respete la siguiente topología:\n",
    "\n",
    "<img src=\"./rsc/consigna1.png\" align=\"center\" width=\"443\" height=\"184\" /> "
   ]
  },
  {
   "cell_type": "markdown",
   "id": "604528a6",
   "metadata": {},
   "source": [
    "<a name=\"1\">\n",
    "   <h3> 1) Impedancia de entrada al cuadripolo A cargado con un resistor de 1 Ohm a la salida</h3>\n",
    "</a>"
   ]
  },
  {
   "cell_type": "markdown",
   "id": "c48e978c",
   "metadata": {},
   "source": [
    "En primer lugar planteamos la transferencia de tensión de un filtro Bessell de tercer orden:\n",
    "\n",
    "\\begin{equation}\n",
    "H(s)|_{B_{n=3}} = \\frac{15}{s³+6s²+15s+15}\n",
    "\\end{equation}\n",
    "\n",
    "En redes no disipativas se cumple:\n",
    "\n",
    "\\begin{equation}\n",
    "|s_{11}|²+|s_{21}|² = 1\n",
    "\\end{equation}\n",
    "\n",
    "Calculamos los parámetros s por definición:\n",
    "\n",
    "La transferencia directa de potencia se calcula como:\n",
    "\n",
    "\\begin{equation}\n",
    "s_{21} = \\frac{b_2}{a_1}|_{a_2=0} = 2\\frac{V_2}{V_{g1}}\\sqrt{\\frac{R_{01}}{R_{02}}} = 2\\frac{V_2}{V_{g1}}\n",
    "\\end{equation}\n",
    "\n",
    "como la salida está adaptada:\n",
    "\n",
    "\\begin{equation}\n",
    "V_g = 2 V_1 \n",
    "\\end{equation}\n",
    "\n",
    "entonces:\n",
    "\n",
    "\\begin{equation}\n",
    "s_{21} = \\frac{V_2}{V_1} = \\frac{15}{s³+6s²+15s+15}\n",
    "\\end{equation}\n",
    "\n",
    "\n",
    "\n"
   ]
  },
  {
   "cell_type": "markdown",
   "id": "49ee3b21",
   "metadata": {},
   "source": [
    "Utilizando la herramienta de calculo simbólico \"sympy\" calculamos S11.\n",
    "\n",
    "Por propiedad del modulo de la transferencia se cumple que:\n",
    "\n",
    "\\begin{equation}\n",
    "|s_{21}|²= s_{21}(s) * s_{21}(-s) \n",
    "\\end{equation}"
   ]
  },
  {
   "cell_type": "code",
   "execution_count": 12,
   "id": "7969a212",
   "metadata": {},
   "outputs": [
    {
     "data": {
      "text/latex": [
       "$\\displaystyle \\frac{15}{s^{3} + 6 s^{2} + 15 s + 15}$"
      ],
      "text/plain": [
       "15/(s**3 + 6*s**2 + 15*s + 15)"
      ]
     },
     "metadata": {},
     "output_type": "display_data"
    },
    {
     "data": {
      "text/latex": [
       "$\\displaystyle \\frac{15}{- s^{3} + 6 s^{2} - 15 s + 15}$"
      ],
      "text/plain": [
       "15/(-s**3 + 6*s**2 - 15*s + 15)"
      ]
     },
     "metadata": {},
     "output_type": "display_data"
    }
   ],
   "source": [
    "s21  = 15/(s**3+6*s**2+15*s+15)\n",
    "display(s21)\n",
    "_s21 = s21.subs(s,-s)\n",
    "display(_s21)"
   ]
  },
  {
   "cell_type": "code",
   "execution_count": 34,
   "id": "0f51bde3",
   "metadata": {},
   "outputs": [
    {
     "data": {
      "text/latex": [
       "$\\displaystyle \\frac{225}{- s^{6} + 6 s^{4} - 45 s^{2} + 225}$"
      ],
      "text/plain": [
       "225/(-s**6 + 6*s**4 - 45*s**2 + 225)"
      ]
     },
     "metadata": {},
     "output_type": "display_data"
    }
   ],
   "source": [
    "s21_2 = sp.expand(s21*_s21)\n",
    "display(s21_2)"
   ]
  },
  {
   "cell_type": "markdown",
   "id": "b27be1fa",
   "metadata": {},
   "source": [
    "Utilizando la condición de redes no disipativas calculamos el modulo del coeficiente de reflexión s11:\n",
    "\n",
    "\\begin{equation}\n",
    "|s_{11}|²=1-|s_{21}|² \n",
    "\\end{equation}"
   ]
  },
  {
   "cell_type": "code",
   "execution_count": 65,
   "id": "2bf2cd9d",
   "metadata": {},
   "outputs": [
    {
     "data": {
      "text/latex": [
       "$\\displaystyle \\frac{s^{2} \\left(s^{4} - 6 s^{2} + 45\\right)}{s^{6} - 6 s^{4} + 45 s^{2} - 225}$"
      ],
      "text/plain": [
       "s**2*(s**4 - 6*s**2 + 45)/(s**6 - 6*s**4 + 45*s**2 - 225)"
      ]
     },
     "metadata": {},
     "output_type": "display_data"
    }
   ],
   "source": [
    "s11_2 = 1-s21_2\n",
    "s11_2 = sp.simplify(s11_2)\n",
    "display(s11_2)"
   ]
  },
  {
   "cell_type": "markdown",
   "id": "a600a17d",
   "metadata": {},
   "source": [
    "Separamos numerador del denominador:"
   ]
  },
  {
   "cell_type": "code",
   "execution_count": 76,
   "id": "97b8d12b",
   "metadata": {},
   "outputs": [
    {
     "data": {
      "text/latex": [
       "$\\displaystyle s^{2} \\left(s^{4} - 6 s^{2} + 45\\right)$"
      ],
      "text/plain": [
       "s**2*(s**4 - 6*s**2 + 45)"
      ]
     },
     "metadata": {},
     "output_type": "display_data"
    },
    {
     "data": {
      "text/latex": [
       "$\\displaystyle s^{6} - 6 s^{4} + 45 s^{2} - 225$"
      ],
      "text/plain": [
       "s**6 - 6*s**4 + 45*s**2 - 225"
      ]
     },
     "metadata": {},
     "output_type": "display_data"
    }
   ],
   "source": [
    "num = s**2*(s**4-6*s**2+45)\n",
    "den = 1/(s11_2/num)\n",
    "display(num)\n",
    "display(den)"
   ]
  },
  {
   "cell_type": "markdown",
   "id": "bf9bdeea",
   "metadata": {},
   "source": [
    "Obtenemos las raices y nos quedamos con las que están en el semiplano izquierdo:"
   ]
  },
  {
   "cell_type": "code",
   "execution_count": 78,
   "id": "2de90e0a",
   "metadata": {},
   "outputs": [
    {
     "data": {
      "text/plain": [
       "[0,\n",
       " -sqrt(3)*5**(1/4)*cos(atan(2)/2) - sqrt(3)*5**(1/4)*I*sin(atan(2)/2),\n",
       " -sqrt(3)*5**(1/4)*cos(atan(2)/2) + sqrt(3)*5**(1/4)*I*sin(atan(2)/2),\n",
       " sqrt(3)*5**(1/4)*cos(atan(2)/2) - sqrt(3)*5**(1/4)*I*sin(atan(2)/2),\n",
       " sqrt(3)*5**(1/4)*cos(atan(2)/2) + sqrt(3)*5**(1/4)*I*sin(atan(2)/2)]"
      ]
     },
     "execution_count": 78,
     "metadata": {},
     "output_type": "execute_result"
    }
   ],
   "source": [
    "roots = sp.solve(num)\n",
    "roots"
   ]
  },
  {
   "cell_type": "code",
   "execution_count": 86,
   "id": "ed38e874",
   "metadata": {},
   "outputs": [
    {
     "data": {
      "text/latex": [
       "$\\displaystyle s^{2} + \\sqrt{3} \\cdot \\sqrt[4]{5} s \\cos{\\left(\\frac{\\operatorname{atan}{\\left(2 \\right)}}{2} \\right)} + \\sqrt{3} \\cdot \\sqrt[4]{5} i s \\sin{\\left(\\frac{\\operatorname{atan}{\\left(2 \\right)}}{2} \\right)}$"
      ],
      "text/plain": [
       "s**2 + sqrt(3)*5**(1/4)*s*cos(atan(2)/2) + sqrt(3)*5**(1/4)*I*s*sin(atan(2)/2)"
      ]
     },
     "execution_count": 86,
     "metadata": {},
     "output_type": "execute_result"
    }
   ],
   "source": [
    "sp.expand((s-roots[0])*(s-roots[1]))"
   ]
  },
  {
   "cell_type": "code",
   "execution_count": 64,
   "id": "8db014e7",
   "metadata": {},
   "outputs": [
    {
     "data": {
      "text/plain": [
       "-2.2032026611843234"
      ]
     },
     "execution_count": 64,
     "metadata": {},
     "output_type": "execute_result"
    }
   ],
   "source": []
  },
  {
   "cell_type": "code",
   "execution_count": 84,
   "id": "082ab5b0",
   "metadata": {},
   "outputs": [
    {
     "name": "stdout",
     "output_type": "stream",
     "text": [
      "[-2.20320266+1.36165413j -2.20320266-1.36165413j  2.20320266+1.36165413j\n",
      "  2.20320266-1.36165413j  0.        +0.j          0.        +0.j        ]\n",
      "[-2.32218535+0.j         -1.83890732+1.75438096j -1.83890732-1.75438096j\n",
      "  1.83890732+1.75438096j  1.83890732-1.75438096j  2.32218535+0.j        ]\n"
     ]
    },
    {
     "data": {
      "text/plain": [
       "(-2.2032026611843234+1.3616541287161297j)"
      ]
     },
     "execution_count": 84,
     "metadata": {},
     "output_type": "execute_result"
    }
   ],
   "source": [
    "\n",
    "\n",
    "import numpy as np\n",
    "from IPython.display import display, Markdown\n",
    "import matplotlib.pyplot as plt\n",
    "from scipy import signal as signal\n",
    "from pytc2.sistemas_lineales import bodePlot, pzmap, GroupDelay, analyze_sys, tf2sos_analog, pretty_print_SOS\n",
    "from pytc2.dibujar import display, dibujar_puerto_entrada, dibujar_funcion_exc_abajo,  dibujar_elemento_serie, dibujar_elemento_derivacion,  dibujar_tanque_derivacion, dibujar_tanque_RC_serie,  dibujar_espacio_derivacion, Capacitor, Resistor, Inductor\n",
    "\n",
    "## setear en True para ver logs de dev\n",
    "dev = True\n",
    "\n",
    "num = np.array([-1, 0, 6, 0, -45, 0, 0])\n",
    "den = np.array([-1, 0, 6, 0, -45, 0, 225])\n",
    "roots_num = np.roots(num)\n",
    "num_poly_result = np.polymul(np.array([-1, roots_num[0]]), np.array([-1, roots_num[1]]))\n",
    "roots_den = np.roots(den)\n",
    "sos_den = np.polymul(np.array([-1, roots_den[1]]), np.array([-1, roots_den[2]])).real\n",
    "fos_den = np.polymul(-1, roots_den[0]).real\n",
    "\n",
    "if dev == True:\n",
    "    print(roots_num)\n",
    "    print(roots_den)\n",
    "    #print(num_poly_result)\n",
    "    #print(num_poly_result.real)\n",
    "   # print(sos_den)\n",
    "    #print(fos_den)\n",
    "\n",
    "    \n",
    "roots_num[0]\n"
   ]
  },
  {
   "cell_type": "code",
   "execution_count": 71,
   "id": "91debb7a",
   "metadata": {},
   "outputs": [
    {
     "data": {
      "text/plain": [
       "array([-2.20320266+1.36165413j, -2.20320266-1.36165413j,\n",
       "        2.20320266+1.36165413j,  2.20320266-1.36165413j,\n",
       "        0.        +0.j        ,  0.        +0.j        ])"
      ]
     },
     "execution_count": 71,
     "metadata": {},
     "output_type": "execute_result"
    }
   ],
   "source": [
    "roots_num"
   ]
  },
  {
   "cell_type": "code",
   "execution_count": null,
   "id": "5e3686e4",
   "metadata": {},
   "outputs": [],
   "source": []
  },
  {
   "cell_type": "code",
   "execution_count": null,
   "id": "70cdd6d8",
   "metadata": {},
   "outputs": [],
   "source": []
  },
  {
   "cell_type": "code",
   "execution_count": null,
   "id": "27ef5e03",
   "metadata": {},
   "outputs": [],
   "source": []
  },
  {
   "cell_type": "code",
   "execution_count": null,
   "id": "e5b446d8",
   "metadata": {},
   "outputs": [],
   "source": []
  },
  {
   "cell_type": "code",
   "execution_count": null,
   "id": "d5ea6f6e",
   "metadata": {},
   "outputs": [],
   "source": []
  },
  {
   "cell_type": "code",
   "execution_count": null,
   "id": "d85a9e2a",
   "metadata": {},
   "outputs": [],
   "source": []
  },
  {
   "cell_type": "code",
   "execution_count": null,
   "id": "e25facdd",
   "metadata": {},
   "outputs": [],
   "source": []
  },
  {
   "cell_type": "markdown",
   "id": "c2d23f19",
   "metadata": {},
   "source": [
    "<a name=\"1\">\n",
    "   <h2>Simulación simbólica</h2>\n",
    "</a>\n",
    "\n",
    "A continuación se realizará la verificación paso por paso del método gráfico y el algebra realizada a mano (ver anexo al final del documento). Para ello se emplean funciones de la librería de la catedra \"PyTc2\" para calcular los residuos y las inmitancias obtenidas en cada remoción."
   ]
  },
  {
   "cell_type": "markdown",
   "id": "98c8325d",
   "metadata": {},
   "source": [
    "Premisas que condicionan la sintesis:\n",
    "\n",
    "1)  Red cargada con RL:\n",
    "\n",
    "\\begin{equation}\n",
    "V_2 = (-I_2)*R_L\n",
    "\\end{equation}\n",
    "\n",
    "2) Parámetros Z: Normalización a nivel de impedancia\n",
    "\n",
    "\\begin{equation}\n",
    "\\frac{-I_2}{I_1} = \\frac{Z_{21}}{R+Z_{22}} = \\frac{Z_{21}}{1+Z_{22}} \n",
    "\\end{equation}\n",
    "\n",
    "\\begin{equation}\n",
    "\\frac{-I_2}{I_1} = \\frac{Z_{21}}{1+Z_{22}}\n",
    "\\end{equation}\n",
    "\n",
    "3) Z22: Sintesis desde la salida\n",
    "\n",
    "\\begin{equation}\n",
    "Z_{22}=\\frac{5s²+43s+68}{s²+5s+4}\n",
    "\\end{equation}\n",
    "\n",
    "\n",
    "4) Generador de corriente (I1): Primer elemento en derivación.\n",
    "\n",
    "5) Condición de medición en corto circuito (V2=0): Último elemento en serie.\n",
    "\n",
    "6) Sintesis disipativa: ZRC\n",
    "\\begin{equation}\n",
    "Z_{0}>Z{\\infty}\n",
    "\\end{equation}\n",
    "\n",
    "Se procederá a realizar la sintesis de Z22 a partir de los ceros de transmisión de la transferencia que coinciden con los de Z21."
   ]
  },
  {
   "cell_type": "markdown",
   "id": "bb2d1306",
   "metadata": {},
   "source": [
    "### Resolución simbólica\n",
    "\n",
    "En primer lugar definimos la función Z22:"
   ]
  },
  {
   "cell_type": "code",
   "execution_count": 3,
   "id": "0cbc3e80",
   "metadata": {},
   "outputs": [
    {
     "data": {
      "text/latex": [
       "$\\displaystyle \\frac{5 s^{2} + 43 s + 68}{s^{2} + 5 s + 4}$"
      ],
      "text/plain": [
       "(5*s**2 + 43*s + 68)/(s**2 + 5*s + 4)"
      ]
     },
     "execution_count": 3,
     "metadata": {},
     "output_type": "execute_result"
    }
   ],
   "source": [
    "s = sp.symbols('s ', complex=True)\n",
    "Z22 = (5*s**2+43*s+68)/(s**2+5*s+4)\n",
    "Z22"
   ]
  },
  {
   "cell_type": "markdown",
   "id": "1e019936",
   "metadata": {},
   "source": [
    "##### 1era remoción TOTAL: Tanque RC serie resonante en 1 rad/s"
   ]
  },
  {
   "cell_type": "code",
   "execution_count": 6,
   "id": "100a8ae0",
   "metadata": {},
   "outputs": [
    {
     "name": "stdout",
     "output_type": "stream",
     "text": [
      "Se removió el siguiente tanque RC serie:\n"
     ]
    },
    {
     "data": {
      "text/latex": [
       "$\\displaystyle \\frac{10}{s + 1}$"
      ],
      "text/plain": [
       "10/(s + 1)"
      ]
     },
     "metadata": {},
     "output_type": "display_data"
    },
    {
     "name": "stdout",
     "output_type": "stream",
     "text": [
      "Obteniendo un resistor de valor:\n"
     ]
    },
    {
     "data": {
      "text/latex": [
       "$\\displaystyle 10$"
      ],
      "text/plain": [
       "10"
      ]
     },
     "metadata": {},
     "output_type": "display_data"
    },
    {
     "name": "stdout",
     "output_type": "stream",
     "text": [
      "Y un capacitor de valor:\n"
     ]
    },
    {
     "data": {
      "text/latex": [
       "$\\displaystyle \\frac{1}{10}$"
      ],
      "text/plain": [
       "1/10"
      ]
     },
     "metadata": {},
     "output_type": "display_data"
    },
    {
     "name": "stdout",
     "output_type": "stream",
     "text": [
      "Quedando la impedancia:\n"
     ]
    },
    {
     "data": {
      "text/latex": [
       "$\\displaystyle \\frac{5 s + 28}{s + 4}$"
      ],
      "text/plain": [
       "(5*s + 28)/(s + 4)"
      ]
     },
     "metadata": {},
     "output_type": "display_data"
    }
   ],
   "source": [
    "Z2, Z1, R1, C1 =remover_polo_sigma(Z22, sigma=1, isImpedance=True)\n",
    "print(\"Se removió el siguiente tanque RC serie:\")\n",
    "display(Z1)\n",
    "print(\"Obteniendo un resistor de valor:\")\n",
    "display(R1)\n",
    "print(\"Y un capacitor de valor:\")\n",
    "display(C1)\n",
    "print(\"Quedando la impedancia:\")\n",
    "display(Z2)"
   ]
  },
  {
   "cell_type": "markdown",
   "id": "81f04275",
   "metadata": {},
   "source": [
    "##### 2da remoción TOTAL: Tanque RC serie resonante en 4 rad/s"
   ]
  },
  {
   "cell_type": "code",
   "execution_count": 9,
   "id": "7106bf7b",
   "metadata": {},
   "outputs": [
    {
     "name": "stdout",
     "output_type": "stream",
     "text": [
      "Se removió el siguiente tanque RC serie:\n"
     ]
    },
    {
     "data": {
      "text/latex": [
       "$\\displaystyle \\frac{8}{s + 4}$"
      ],
      "text/plain": [
       "8/(s + 4)"
      ]
     },
     "metadata": {},
     "output_type": "display_data"
    },
    {
     "name": "stdout",
     "output_type": "stream",
     "text": [
      "Obteniendo un resistor de valor:\n"
     ]
    },
    {
     "data": {
      "text/latex": [
       "$\\displaystyle 2$"
      ],
      "text/plain": [
       "2"
      ]
     },
     "metadata": {},
     "output_type": "display_data"
    },
    {
     "name": "stdout",
     "output_type": "stream",
     "text": [
      "Y un capacitor de valor:\n"
     ]
    },
    {
     "data": {
      "text/latex": [
       "$\\displaystyle \\frac{1}{8}$"
      ],
      "text/plain": [
       "1/8"
      ]
     },
     "metadata": {},
     "output_type": "display_data"
    },
    {
     "name": "stdout",
     "output_type": "stream",
     "text": [
      "Quedando la impedancia:\n"
     ]
    },
    {
     "data": {
      "text/latex": [
       "$\\displaystyle 5$"
      ],
      "text/plain": [
       "5"
      ]
     },
     "metadata": {},
     "output_type": "display_data"
    }
   ],
   "source": [
    "Z4, Z3, R2, C2 =remover_polo_sigma(Z2, sigma=4, isImpedance=True)\n",
    "print(\"Se removió el siguiente tanque RC serie:\")\n",
    "display(Z3)\n",
    "print(\"Obteniendo un resistor de valor:\")\n",
    "display(R2)\n",
    "print(\"Y un capacitor de valor:\")\n",
    "display(C2)\n",
    "print(\"Quedando la impedancia:\")\n",
    "display(Z4)"
   ]
  },
  {
   "cell_type": "markdown",
   "id": "5bc5ef9a",
   "metadata": {},
   "source": [
    "##### 3era remoción TOTAL: Valor constante en infinito (resistor en derivación)"
   ]
  },
  {
   "cell_type": "code",
   "execution_count": 15,
   "id": "3819a750",
   "metadata": {},
   "outputs": [
    {
     "name": "stdout",
     "output_type": "stream",
     "text": [
      "Finalmente se remueve un resistor en derivación de valor:\n"
     ]
    },
    {
     "data": {
      "text/latex": [
       "$\\displaystyle 5$"
      ],
      "text/plain": [
       "5"
      ]
     },
     "metadata": {},
     "output_type": "display_data"
    }
   ],
   "source": [
    "R3 = Z4\n",
    "print(\"Finalmente se remueve un resistor en derivación de valor:\")\n",
    "display(R3)"
   ]
  },
  {
   "cell_type": "markdown",
   "id": "5b14b5c6",
   "metadata": {},
   "source": [
    "<a name=\"1\">\n",
    "   <h2>Red Resultante</h2>\n",
    "</a>\n",
    "Dibujamos la red utilizando las funciones de la librería de la catedra:"
   ]
  },
  {
   "cell_type": "code",
   "execution_count": 27,
   "id": "b6bd73a7",
   "metadata": {},
   "outputs": [
    {
     "data": {
      "image/png": "[encoded data removed]",
      "image/svg+xml": [
       "<?xml version=\"1.0\" encoding=\"utf-8\" standalone=\"no\"?>\n",
       "<!DOCTYPE svg PUBLIC \"-//W3C//DTD SVG 1.1//EN\"\n",
       "  \"http://www.w3.org/Graphics/SVG/1.1/DTD/svg11.dtd\">\n",
       "<svg xmlns:xlink=\"http://www.w3.org/1999/xlink\" width=\"673.5546pt\" height=\"299.15pt\" viewBox=\"0 0 673.5546 299.15\" xmlns=\"http://www.w3.org/2000/svg\" version=\"1.1\">\n",
       " <metadata>\n",
       "  <rdf:RDF xmlns:dc=\"http://purl.org/dc/elements/1.1/\" xmlns:cc=\"http://creativecommons.org/ns#\" xmlns:rdf=\"http://www.w3.org/1999/02/22-rdf-syntax-ns#\">\n",
       "   <cc:Work>\n",
       "    <dc:type rdf:resource=\"http://purl.org/dc/dcmitype/StillImage\"/>\n",
       "    <dc:date>2023-11-20T19:43:12.271329</dc:date>\n",
       "    <dc:format>image/svg+xml</dc:format>\n",
       "    <dc:creator>\n",
       "     <cc:Agent>\n",
       "      <dc:title>Matplotlib v3.7.1, https://matplotlib.org/</dc:title>\n",
       "     </cc:Agent>\n",
       "    </dc:creator>\n",
       "   </cc:Work>\n",
       "  </rdf:RDF>\n",
       " </metadata>\n",
       " <defs>\n",
       "  <style type=\"text/css\">*{stroke-linejoin: round; stroke-linecap: butt}</style>\n",
       " </defs>\n",
       " <g id=\"figure_1\">\n",
       "  <g id=\"patch_1\">\n",
       "   <path d=\"M 0 299.15 \n",
       "L 673.5546 299.15 \n",
       "L 673.5546 0 \n",
       "L 0 0 \n",
       "z\n",
       "\" style=\"fill: #ffffff\"/>\n",
       "  </g>\n",
       "  <g id=\"axes_1\">\n",
       "   <g id=\"line2d_1\">\n",
       "    <path d=\"M 20.9496 227.69 \n",
       "L 51.5496 227.69 \n",
       "L 82.1496 227.69 \n",
       "\" clip-path=\"url(#p554344d797)\" style=\"fill: none; stroke: #000000; stroke-width: 2; stroke-linecap: round\"/>\n",
       "   </g>\n",
       "   <g id=\"line2d_2\">\n",
       "    <path d=\"M 82.1496 105.29 \n",
       "L 66.8496 105.29 \n",
       "L 51.5496 105.29 \n",
       "\" clip-path=\"url(#p554344d797)\" style=\"fill: none; stroke: #000000; stroke-width: 2; stroke-linecap: round\"/>\n",
       "   </g>\n",
       "   <g id=\"line2d_3\">\n",
       "    <path d=\"M 43.8996 105.29 \n",
       "L 36.2496 105.29 \n",
       "L 20.9496 105.29 \n",
       "\" clip-path=\"url(#p554344d797)\" style=\"fill: none; stroke: #000000; stroke-width: 2; stroke-linecap: round\"/>\n",
       "   </g>\n",
       "   <g id=\"patch_2\">\n",
       "    <path d=\"M 43.8996 102.995 \n",
       "L 51.5496 105.29 \n",
       "L 43.8996 107.585 \n",
       "z\n",
       "\" clip-path=\"url(#p554344d797)\"/>\n",
       "   </g>\n",
       "   <g id=\"line2d_4\">\n",
       "    <path d=\"M 82.1496 105.29 \n",
       "L 82.1496 151.19 \n",
       "L 89.7996 153.74 \n",
       "L 74.4996 158.84 \n",
       "L 89.7996 163.94 \n",
       "L 74.4996 169.04 \n",
       "L 89.7996 174.14 \n",
       "L 74.4996 179.24 \n",
       "L 82.1496 181.79 \n",
       "L 82.1496 227.69 \n",
       "\" clip-path=\"url(#p554344d797)\" style=\"fill: none; stroke: #000000; stroke-width: 2; stroke-linecap: round\"/>\n",
       "   </g>\n",
       "   <g id=\"line2d_5\">\n",
       "    <path d=\"M 82.1496 105.29 \n",
       "L 112.7496 105.29 \n",
       "L 143.3496 105.29 \n",
       "\" clip-path=\"url(#p554344d797)\" style=\"fill: none; stroke: #000000; stroke-width: 2; stroke-linecap: round\"/>\n",
       "   </g>\n",
       "   <g id=\"line2d_6\">\n",
       "    <path d=\"M 143.3496 227.69 \n",
       "L 112.7496 227.69 \n",
       "L 82.1496 227.69 \n",
       "\" clip-path=\"url(#p554344d797)\" style=\"fill: none; stroke: #000000; stroke-width: 2; stroke-linecap: round\"/>\n",
       "   </g>\n",
       "   <g id=\"line2d_7\">\n",
       "    <path d=\"M 143.3496 105.29 \n",
       "L 201.7956 105.29 \n",
       "M 201.7956 97.64 \n",
       "L 201.7956 112.94 \n",
       "M 207.3036 97.64 \n",
       "L 207.3036 112.94 \n",
       "M 207.3036 105.29 \n",
       "L 265.7496 105.29 \n",
       "\" clip-path=\"url(#p554344d797)\" style=\"fill: none; stroke: #000000; stroke-width: 2; stroke-linecap: round\"/>\n",
       "   </g>\n",
       "   <g id=\"line2d_8\">\n",
       "    <path d=\"M 143.3496 105.29 \n",
       "L 143.3496 74.69 \n",
       "L 143.3496 44.09 \n",
       "\" clip-path=\"url(#p554344d797)\" style=\"fill: none; stroke: #000000; stroke-width: 2; stroke-linecap: round\"/>\n",
       "   </g>\n",
       "   <g id=\"line2d_9\">\n",
       "    <path d=\"M 143.3496 44.09 \n",
       "L 189.2496 44.09 \n",
       "L 191.7996 36.44 \n",
       "L 196.8996 51.74 \n",
       "L 201.9996 36.44 \n",
       "L 207.0996 51.74 \n",
       "L 212.1996 36.44 \n",
       "L 217.2996 51.74 \n",
       "L 219.8496 44.09 \n",
       "L 265.7496 44.09 \n",
       "\" clip-path=\"url(#p554344d797)\" style=\"fill: none; stroke: #000000; stroke-width: 2; stroke-linecap: round\"/>\n",
       "   </g>\n",
       "   <g id=\"line2d_10\">\n",
       "    <path d=\"M 265.7496 44.09 \n",
       "L 265.7496 74.69 \n",
       "L 265.7496 105.29 \n",
       "\" clip-path=\"url(#p554344d797)\" style=\"fill: none; stroke: #000000; stroke-width: 2; stroke-linecap: round\"/>\n",
       "   </g>\n",
       "   <g id=\"line2d_11\">\n",
       "    <path d=\"M 265.7496 227.69 \n",
       "L 204.5496 227.69 \n",
       "L 143.3496 227.69 \n",
       "\" clip-path=\"url(#p554344d797)\" style=\"fill: none; stroke: #000000; stroke-width: 2; stroke-linecap: round\"/>\n",
       "   </g>\n",
       "   <g id=\"line2d_12\">\n",
       "    <path d=\"M 265.7496 105.29 \n",
       "L 296.3496 105.29 \n",
       "L 326.9496 105.29 \n",
       "\" clip-path=\"url(#p554344d797)\" style=\"fill: none; stroke: #000000; stroke-width: 2; stroke-linecap: round\"/>\n",
       "   </g>\n",
       "   <g id=\"line2d_13\">\n",
       "    <path d=\"M 326.9496 227.69 \n",
       "L 296.3496 227.69 \n",
       "L 265.7496 227.69 \n",
       "\" clip-path=\"url(#p554344d797)\" style=\"fill: none; stroke: #000000; stroke-width: 2; stroke-linecap: round\"/>\n",
       "   </g>\n",
       "   <g id=\"line2d_14\">\n",
       "    <path d=\"M 326.9496 105.29 \n",
       "L 385.3956 105.29 \n",
       "M 385.3956 97.64 \n",
       "L 385.3956 112.94 \n",
       "M 390.9036 97.64 \n",
       "L 390.9036 112.94 \n",
       "M 390.9036 105.29 \n",
       "L 449.3496 105.29 \n",
       "\" clip-path=\"url(#p554344d797)\" style=\"fill: none; stroke: #000000; stroke-width: 2; stroke-linecap: round\"/>\n",
       "   </g>\n",
       "   <g id=\"line2d_15\">\n",
       "    <path d=\"M 326.9496 105.29 \n",
       "L 326.9496 74.69 \n",
       "L 326.9496 44.09 \n",
       "\" clip-path=\"url(#p554344d797)\" style=\"fill: none; stroke: #000000; stroke-width: 2; stroke-linecap: round\"/>\n",
       "   </g>\n",
       "   <g id=\"line2d_16\">\n",
       "    <path d=\"M 326.9496 44.09 \n",
       "L 372.8496 44.09 \n",
       "L 375.3996 36.44 \n",
       "L 380.4996 51.74 \n",
       "L 385.5996 36.44 \n",
       "L 390.6996 51.74 \n",
       "L 395.7996 36.44 \n",
       "L 400.8996 51.74 \n",
       "L 403.4496 44.09 \n",
       "L 449.3496 44.09 \n",
       "\" clip-path=\"url(#p554344d797)\" style=\"fill: none; stroke: #000000; stroke-width: 2; stroke-linecap: round\"/>\n",
       "   </g>\n",
       "   <g id=\"line2d_17\">\n",
       "    <path d=\"M 449.3496 44.09 \n",
       "L 449.3496 74.69 \n",
       "L 449.3496 105.29 \n",
       "\" clip-path=\"url(#p554344d797)\" style=\"fill: none; stroke: #000000; stroke-width: 2; stroke-linecap: round\"/>\n",
       "   </g>\n",
       "   <g id=\"line2d_18\">\n",
       "    <path d=\"M 449.3496 227.69 \n",
       "L 388.1496 227.69 \n",
       "L 326.9496 227.69 \n",
       "\" clip-path=\"url(#p554344d797)\" style=\"fill: none; stroke: #000000; stroke-width: 2; stroke-linecap: round\"/>\n",
       "   </g>\n",
       "   <g id=\"line2d_19\">\n",
       "    <path d=\"M 449.3496 105.29 \n",
       "L 464.6496 105.29 \n",
       "L 479.9496 105.29 \n",
       "\" clip-path=\"url(#p554344d797)\" style=\"fill: none; stroke: #000000; stroke-width: 2; stroke-linecap: round\"/>\n",
       "   </g>\n",
       "   <g id=\"line2d_20\">\n",
       "    <path d=\"M 479.9496 233.81 \n",
       "L 479.9496 218.51 \n",
       "L 479.9496 203.21 \n",
       "\" clip-path=\"url(#p554344d797)\" style=\"fill: none; stroke: #000000; stroke-linecap: round\"/>\n",
       "   </g>\n",
       "   <g id=\"line2d_21\">\n",
       "    <path d=\"M 479.9496 203.21 \n",
       "L 472.2996 203.21 \n",
       "L 472.2996 203.21 \n",
       "\" clip-path=\"url(#p554344d797)\" style=\"fill: none; stroke: #000000; stroke-linecap: round\"/>\n",
       "   </g>\n",
       "   <g id=\"patch_3\">\n",
       "    <path d=\"M 472.2996 205.505 \n",
       "L 464.6496 203.21 \n",
       "L 472.2996 200.915 \n",
       "z\n",
       "\" clip-path=\"url(#p554344d797)\"/>\n",
       "   </g>\n",
       "   <g id=\"line2d_22\">\n",
       "    <path d=\"M 479.9496 227.69 \n",
       "L 464.6496 227.69 \n",
       "L 449.3496 227.69 \n",
       "\" clip-path=\"url(#p554344d797)\" style=\"fill: none; stroke: #000000; stroke-width: 2; stroke-linecap: round\"/>\n",
       "   </g>\n",
       "   <g id=\"line2d_23\">\n",
       "    <path d=\"M 479.9496 227.69 \n",
       "L 495.2496 227.69 \n",
       "L 510.5496 227.69 \n",
       "\" clip-path=\"url(#p554344d797)\" style=\"fill: none; stroke: #000000; stroke-width: 2; stroke-linecap: round\"/>\n",
       "   </g>\n",
       "   <g id=\"line2d_24\">\n",
       "    <path d=\"M 479.9496 105.29 \n",
       "L 495.2496 105.29 \n",
       "L 510.5496 105.29 \n",
       "\" clip-path=\"url(#p554344d797)\" style=\"fill: none; stroke: #000000; stroke-width: 2; stroke-linecap: round\"/>\n",
       "   </g>\n",
       "   <g id=\"text_1\">\n",
       "    <g clip-path=\"url(#p554344d797)\">\n",
       "     <!-- + -->\n",
       "     <g transform=\"translate(14.874327 139.891094) scale(0.145 -0.145)\">\n",
       "      <defs>\n",
       "       <path id=\"DejaVuSans-2b\" d=\"M 2944 4013 \n",
       "L 2944 2272 \n",
       "L 4684 2272 \n",
       "L 4684 1741 \n",
       "L 2944 1741 \n",
       "L 2944 0 \n",
       "L 2419 0 \n",
       "L 2419 1741 \n",
       "L 678 1741 \n",
       "L 678 2272 \n",
       "L 2419 2272 \n",
       "L 2419 4013 \n",
       "L 2944 4013 \n",
       "z\n",
       "\" transform=\"scale(0.015625)\"/>\n",
       "      </defs>\n",
       "      <use xlink:href=\"#DejaVuSans-2b\"/>\n",
       "     </g>\n",
       "    </g>\n",
       "   </g>\n",
       "   <g id=\"text_2\">\n",
       "    <g clip-path=\"url(#p554344d797)\">\n",
       "     <!-- $V$ -->\n",
       "     <g transform=\"translate(15.9471 170.491094) scale(0.145 -0.145)\">\n",
       "      <defs>\n",
       "       <path id=\"DejaVuSans-Oblique-56\" d=\"M 1319 0 \n",
       "L 500 4666 \n",
       "L 1119 4666 \n",
       "L 1797 653 \n",
       "L 4063 4666 \n",
       "L 4750 4666 \n",
       "L 2053 0 \n",
       "L 1319 0 \n",
       "z\n",
       "\" transform=\"scale(0.015625)\"/>\n",
       "      </defs>\n",
       "      <use xlink:href=\"#DejaVuSans-Oblique-56\" transform=\"translate(0 0.09375)\"/>\n",
       "     </g>\n",
       "    </g>\n",
       "   </g>\n",
       "   <g id=\"text_3\">\n",
       "    <g clip-path=\"url(#p554344d797)\">\n",
       "     <!-- - -->\n",
       "     <g transform=\"translate(18.333936 201.091094) scale(0.145 -0.145)\">\n",
       "      <defs>\n",
       "       <path id=\"DejaVuSans-2d\" d=\"M 313 2009 \n",
       "L 1997 2009 \n",
       "L 1997 1497 \n",
       "L 313 1497 \n",
       "L 313 2009 \n",
       "z\n",
       "\" transform=\"scale(0.015625)\"/>\n",
       "      </defs>\n",
       "      <use xlink:href=\"#DejaVuSans-2d\"/>\n",
       "     </g>\n",
       "    </g>\n",
       "   </g>\n",
       "   <g id=\"text_4\">\n",
       "    <g clip-path=\"url(#p554344d797)\">\n",
       "     <!-- $I$ -->\n",
       "     <g transform=\"translate(34.0746 99.214453) scale(0.145 -0.145)\">\n",
       "      <defs>\n",
       "       <path id=\"DejaVuSans-Oblique-49\" d=\"M 1081 4666 \n",
       "L 1716 4666 \n",
       "L 806 0 \n",
       "L 172 0 \n",
       "L 1081 4666 \n",
       "z\n",
       "\" transform=\"scale(0.015625)\"/>\n",
       "      </defs>\n",
       "      <use xlink:href=\"#DejaVuSans-Oblique-49\" transform=\"translate(0 0.09375)\"/>\n",
       "     </g>\n",
       "    </g>\n",
       "   </g>\n",
       "   <g id=\"text_5\">\n",
       "    <g clip-path=\"url(#p554344d797)\">\n",
       "     <!-- $5$ -->\n",
       "     <g transform=\"translate(62.1596 170.491094) scale(0.145 -0.145)\">\n",
       "      <defs>\n",
       "       <path id=\"DejaVuSans-35\" d=\"M 691 4666 \n",
       "L 3169 4666 \n",
       "L 3169 4134 \n",
       "L 1269 4134 \n",
       "L 1269 2991 \n",
       "Q 1406 3038 1543 3061 \n",
       "Q 1681 3084 1819 3084 \n",
       "Q 2600 3084 3056 2656 \n",
       "Q 3513 2228 3513 1497 \n",
       "Q 3513 744 3044 326 \n",
       "Q 2575 -91 1722 -91 \n",
       "Q 1428 -91 1123 -41 \n",
       "Q 819 9 494 109 \n",
       "L 494 744 \n",
       "Q 775 591 1075 516 \n",
       "Q 1375 441 1709 441 \n",
       "Q 2250 441 2565 725 \n",
       "Q 2881 1009 2881 1497 \n",
       "Q 2881 1984 2565 2268 \n",
       "Q 2250 2553 1709 2553 \n",
       "Q 1456 2553 1204 2497 \n",
       "Q 953 2441 691 2322 \n",
       "L 691 4666 \n",
       "z\n",
       "\" transform=\"scale(0.015625)\"/>\n",
       "      </defs>\n",
       "      <use xlink:href=\"#DejaVuSans-35\" transform=\"translate(0 0.09375)\"/>\n",
       "     </g>\n",
       "    </g>\n",
       "   </g>\n",
       "   <g id=\"text_6\">\n",
       "    <g clip-path=\"url(#p554344d797)\">\n",
       "     <!-- $\\frac{1}{8}$ -->\n",
       "     <g transform=\"translate(200.3446 88.635) scale(0.145 -0.145)\">\n",
       "      <defs>\n",
       "       <path id=\"DejaVuSans-31\" d=\"M 794 531 \n",
       "L 1825 531 \n",
       "L 1825 4091 \n",
       "L 703 3866 \n",
       "L 703 4441 \n",
       "L 1819 4666 \n",
       "L 2450 4666 \n",
       "L 2450 531 \n",
       "L 3481 531 \n",
       "L 3481 0 \n",
       "L 794 0 \n",
       "L 794 531 \n",
       "z\n",
       "\" transform=\"scale(0.015625)\"/>\n",
       "       <path id=\"DejaVuSans-38\" d=\"M 2034 2216 \n",
       "Q 1584 2216 1326 1975 \n",
       "Q 1069 1734 1069 1313 \n",
       "Q 1069 891 1326 650 \n",
       "Q 1584 409 2034 409 \n",
       "Q 2484 409 2743 651 \n",
       "Q 3003 894 3003 1313 \n",
       "Q 3003 1734 2745 1975 \n",
       "Q 2488 2216 2034 2216 \n",
       "z\n",
       "M 1403 2484 \n",
       "Q 997 2584 770 2862 \n",
       "Q 544 3141 544 3541 \n",
       "Q 544 4100 942 4425 \n",
       "Q 1341 4750 2034 4750 \n",
       "Q 2731 4750 3128 4425 \n",
       "Q 3525 4100 3525 3541 \n",
       "Q 3525 3141 3298 2862 \n",
       "Q 3072 2584 2669 2484 \n",
       "Q 3125 2378 3379 2068 \n",
       "Q 3634 1759 3634 1313 \n",
       "Q 3634 634 3220 271 \n",
       "Q 2806 -91 2034 -91 \n",
       "Q 1263 -91 848 271 \n",
       "Q 434 634 434 1313 \n",
       "Q 434 1759 690 2068 \n",
       "Q 947 2378 1403 2484 \n",
       "z\n",
       "M 1172 3481 \n",
       "Q 1172 3119 1398 2916 \n",
       "Q 1625 2713 2034 2713 \n",
       "Q 2441 2713 2670 2916 \n",
       "Q 2900 3119 2900 3481 \n",
       "Q 2900 3844 2670 4047 \n",
       "Q 2441 4250 2034 4250 \n",
       "Q 1625 4250 1398 4047 \n",
       "Q 1172 3844 1172 3481 \n",
       "z\n",
       "\" transform=\"scale(0.015625)\"/>\n",
       "      </defs>\n",
       "      <use xlink:href=\"#DejaVuSans-31\" transform=\"translate(0 43.965625) scale(0.7)\"/>\n",
       "      <use xlink:href=\"#DejaVuSans-38\" transform=\"translate(0 -39.2375) scale(0.7)\"/>\n",
       "      <path d=\"M 0 18.965625 \n",
       "L 0 25.215625 \n",
       "L 44.536133 25.215625 \n",
       "L 44.536133 18.965625 \n",
       "L 0 18.965625 \n",
       "z\n",
       "\"/>\n",
       "     </g>\n",
       "    </g>\n",
       "   </g>\n",
       "   <g id=\"text_7\">\n",
       "    <g clip-path=\"url(#p554344d797)\">\n",
       "     <!-- $2$ -->\n",
       "     <g transform=\"translate(199.9096 30.364453) scale(0.145 -0.145)\">\n",
       "      <defs>\n",
       "       <path id=\"DejaVuSans-32\" d=\"M 1228 531 \n",
       "L 3431 531 \n",
       "L 3431 0 \n",
       "L 469 0 \n",
       "L 469 531 \n",
       "Q 828 903 1448 1529 \n",
       "Q 2069 2156 2228 2338 \n",
       "Q 2531 2678 2651 2914 \n",
       "Q 2772 3150 2772 3378 \n",
       "Q 2772 3750 2511 3984 \n",
       "Q 2250 4219 1831 4219 \n",
       "Q 1534 4219 1204 4116 \n",
       "Q 875 4013 500 3803 \n",
       "L 500 4441 \n",
       "Q 881 4594 1212 4672 \n",
       "Q 1544 4750 1819 4750 \n",
       "Q 2544 4750 2975 4387 \n",
       "Q 3406 4025 3406 3419 \n",
       "Q 3406 3131 3298 2873 \n",
       "Q 3191 2616 2906 2266 \n",
       "Q 2828 2175 2409 1742 \n",
       "Q 1991 1309 1228 531 \n",
       "z\n",
       "\" transform=\"scale(0.015625)\"/>\n",
       "      </defs>\n",
       "      <use xlink:href=\"#DejaVuSans-32\" transform=\"translate(0 0.78125)\"/>\n",
       "     </g>\n",
       "    </g>\n",
       "   </g>\n",
       "   <g id=\"text_8\">\n",
       "    <g clip-path=\"url(#p554344d797)\">\n",
       "     <!-- $\\frac{1}{10}$ -->\n",
       "     <g transform=\"translate(380.7546 88.635) scale(0.145 -0.145)\">\n",
       "      <defs>\n",
       "       <path id=\"DejaVuSans-30\" d=\"M 2034 4250 \n",
       "Q 1547 4250 1301 3770 \n",
       "Q 1056 3291 1056 2328 \n",
       "Q 1056 1369 1301 889 \n",
       "Q 1547 409 2034 409 \n",
       "Q 2525 409 2770 889 \n",
       "Q 3016 1369 3016 2328 \n",
       "Q 3016 3291 2770 3770 \n",
       "Q 2525 4250 2034 4250 \n",
       "z\n",
       "M 2034 4750 \n",
       "Q 2819 4750 3233 4129 \n",
       "Q 3647 3509 3647 2328 \n",
       "Q 3647 1150 3233 529 \n",
       "Q 2819 -91 2034 -91 \n",
       "Q 1250 -91 836 529 \n",
       "Q 422 1150 422 2328 \n",
       "Q 422 3509 836 4129 \n",
       "Q 1250 4750 2034 4750 \n",
       "z\n",
       "\" transform=\"scale(0.015625)\"/>\n",
       "      </defs>\n",
       "      <use xlink:href=\"#DejaVuSans-31\" transform=\"translate(22 43.965625) scale(0.7)\"/>\n",
       "      <use xlink:href=\"#DejaVuSans-31\" transform=\"translate(0 -39.2375) scale(0.7)\"/>\n",
       "      <use xlink:href=\"#DejaVuSans-30\" transform=\"translate(44.536133 -39.2375) scale(0.7)\"/>\n",
       "      <path d=\"M 0 18.965625 \n",
       "L 0 25.215625 \n",
       "L 89.072266 25.215625 \n",
       "L 89.072266 18.965625 \n",
       "L 0 18.965625 \n",
       "z\n",
       "\"/>\n",
       "     </g>\n",
       "    </g>\n",
       "   </g>\n",
       "   <g id=\"text_9\">\n",
       "    <g clip-path=\"url(#p554344d797)\">\n",
       "     <!-- $10$ -->\n",
       "     <g transform=\"translate(378.8696 30.364453) scale(0.145 -0.145)\">\n",
       "      <use xlink:href=\"#DejaVuSans-31\" transform=\"translate(0 0.78125)\"/>\n",
       "      <use xlink:href=\"#DejaVuSans-30\" transform=\"translate(63.623047 0.78125)\"/>\n",
       "     </g>\n",
       "    </g>\n",
       "   </g>\n",
       "   <g id=\"text_10\">\n",
       "    <g clip-path=\"url(#p554344d797)\">\n",
       "     <!-- $ Z22 = \\frac{5 s^{2} + 43 s + 68}{s^{2} + 5 s + 4} $ -->\n",
       "     <g transform=\"translate(394.3621 265.13) scale(0.205 -0.205)\">\n",
       "      <defs>\n",
       "       <path id=\"DejaVuSans-Oblique-5a\" d=\"M 838 4666 \n",
       "L 4500 4666 \n",
       "L 4409 4184 \n",
       "L 794 531 \n",
       "L 3769 531 \n",
       "L 3669 0 \n",
       "L -141 0 \n",
       "L -50 481 \n",
       "L 3566 4134 \n",
       "L 738 4134 \n",
       "L 838 4666 \n",
       "z\n",
       "\" transform=\"scale(0.015625)\"/>\n",
       "       <path id=\"DejaVuSans-3d\" d=\"M 678 2906 \n",
       "L 4684 2906 \n",
       "L 4684 2381 \n",
       "L 678 2381 \n",
       "L 678 2906 \n",
       "z\n",
       "M 678 1631 \n",
       "L 4684 1631 \n",
       "L 4684 1100 \n",
       "L 678 1100 \n",
       "L 678 1631 \n",
       "z\n",
       "\" transform=\"scale(0.015625)\"/>\n",
       "       <path id=\"DejaVuSans-Oblique-73\" d=\"M 3200 3397 \n",
       "L 3091 2853 \n",
       "Q 2863 2978 2609 3040 \n",
       "Q 2356 3103 2088 3103 \n",
       "Q 1634 3103 1373 2948 \n",
       "Q 1113 2794 1113 2528 \n",
       "Q 1113 2219 1719 2053 \n",
       "Q 1766 2041 1788 2034 \n",
       "L 1972 1978 \n",
       "Q 2547 1819 2739 1644 \n",
       "Q 2931 1469 2931 1166 \n",
       "Q 2931 609 2489 259 \n",
       "Q 2047 -91 1331 -91 \n",
       "Q 1053 -91 747 -37 \n",
       "Q 441 16 72 128 \n",
       "L 184 722 \n",
       "Q 500 559 806 475 \n",
       "Q 1113 391 1394 391 \n",
       "Q 1816 391 2080 572 \n",
       "Q 2344 753 2344 1031 \n",
       "Q 2344 1331 1650 1516 \n",
       "L 1591 1531 \n",
       "L 1394 1581 \n",
       "Q 956 1697 753 1886 \n",
       "Q 550 2075 550 2369 \n",
       "Q 550 2928 970 3256 \n",
       "Q 1391 3584 2113 3584 \n",
       "Q 2397 3584 2667 3537 \n",
       "Q 2938 3491 3200 3397 \n",
       "z\n",
       "\" transform=\"scale(0.015625)\"/>\n",
       "       <path id=\"DejaVuSans-34\" d=\"M 2419 4116 \n",
       "L 825 1625 \n",
       "L 2419 1625 \n",
       "L 2419 4116 \n",
       "z\n",
       "M 2253 4666 \n",
       "L 3047 4666 \n",
       "L 3047 1625 \n",
       "L 3713 1625 \n",
       "L 3713 1100 \n",
       "L 3047 1100 \n",
       "L 3047 0 \n",
       "L 2419 0 \n",
       "L 2419 1100 \n",
       "L 313 1100 \n",
       "L 313 1709 \n",
       "L 2253 4666 \n",
       "z\n",
       "\" transform=\"scale(0.015625)\"/>\n",
       "       <path id=\"DejaVuSans-33\" d=\"M 2597 2516 \n",
       "Q 3050 2419 3304 2112 \n",
       "Q 3559 1806 3559 1356 \n",
       "Q 3559 666 3084 287 \n",
       "Q 2609 -91 1734 -91 \n",
       "Q 1441 -91 1130 -33 \n",
       "Q 819 25 488 141 \n",
       "L 488 750 \n",
       "Q 750 597 1062 519 \n",
       "Q 1375 441 1716 441 \n",
       "Q 2309 441 2620 675 \n",
       "Q 2931 909 2931 1356 \n",
       "Q 2931 1769 2642 2001 \n",
       "Q 2353 2234 1838 2234 \n",
       "L 1294 2234 \n",
       "L 1294 2753 \n",
       "L 1863 2753 \n",
       "Q 2328 2753 2575 2939 \n",
       "Q 2822 3125 2822 3475 \n",
       "Q 2822 3834 2567 4026 \n",
       "Q 2313 4219 1838 4219 \n",
       "Q 1578 4219 1281 4162 \n",
       "Q 984 4106 628 3988 \n",
       "L 628 4550 \n",
       "Q 988 4650 1302 4700 \n",
       "Q 1616 4750 1894 4750 \n",
       "Q 2613 4750 3031 4423 \n",
       "Q 3450 4097 3450 3541 \n",
       "Q 3450 3153 3228 2886 \n",
       "Q 3006 2619 2597 2516 \n",
       "z\n",
       "\" transform=\"scale(0.015625)\"/>\n",
       "       <path id=\"DejaVuSans-36\" d=\"M 2113 2584 \n",
       "Q 1688 2584 1439 2293 \n",
       "Q 1191 2003 1191 1497 \n",
       "Q 1191 994 1439 701 \n",
       "Q 1688 409 2113 409 \n",
       "Q 2538 409 2786 701 \n",
       "Q 3034 994 3034 1497 \n",
       "Q 3034 2003 2786 2293 \n",
       "Q 2538 2584 2113 2584 \n",
       "z\n",
       "M 3366 4563 \n",
       "L 3366 3988 \n",
       "Q 3128 4100 2886 4159 \n",
       "Q 2644 4219 2406 4219 \n",
       "Q 1781 4219 1451 3797 \n",
       "Q 1122 3375 1075 2522 \n",
       "Q 1259 2794 1537 2939 \n",
       "Q 1816 3084 2150 3084 \n",
       "Q 2853 3084 3261 2657 \n",
       "Q 3669 2231 3669 1497 \n",
       "Q 3669 778 3244 343 \n",
       "Q 2819 -91 2113 -91 \n",
       "Q 1303 -91 875 529 \n",
       "Q 447 1150 447 2328 \n",
       "Q 447 3434 972 4092 \n",
       "Q 1497 4750 2381 4750 \n",
       "Q 2619 4750 2861 4703 \n",
       "Q 3103 4656 3366 4563 \n",
       "z\n",
       "\" transform=\"scale(0.015625)\"/>\n",
       "      </defs>\n",
       "      <use xlink:href=\"#DejaVuSans-Oblique-5a\" transform=\"translate(0 0.04375)\"/>\n",
       "      <use xlink:href=\"#DejaVuSans-32\" transform=\"translate(68.505859 0.04375)\"/>\n",
       "      <use xlink:href=\"#DejaVuSans-32\" transform=\"translate(132.128906 0.04375)\"/>\n",
       "      <use xlink:href=\"#DejaVuSans-3d\" transform=\"translate(215.234375 0.04375)\"/>\n",
       "      <use xlink:href=\"#DejaVuSans-35\" transform=\"translate(318.505859 44.835938) scale(0.7)\"/>\n",
       "      <use xlink:href=\"#DejaVuSans-Oblique-73\" transform=\"translate(363.041992 44.835938) scale(0.7)\"/>\n",
       "      <use xlink:href=\"#DejaVuSans-32\" transform=\"translate(402.766646 71.632812) scale(0.49)\"/>\n",
       "      <use xlink:href=\"#DejaVuSans-2b\" transform=\"translate(449.493697 44.835938) scale(0.7)\"/>\n",
       "      <use xlink:href=\"#DejaVuSans-34\" transform=\"translate(521.783736 44.835938) scale(0.7)\"/>\n",
       "      <use xlink:href=\"#DejaVuSans-33\" transform=\"translate(566.319868 44.835938) scale(0.7)\"/>\n",
       "      <use xlink:href=\"#DejaVuSans-Oblique-73\" transform=\"translate(610.856001 44.835938) scale(0.7)\"/>\n",
       "      <use xlink:href=\"#DejaVuSans-2b\" transform=\"translate(660.963423 44.835938) scale(0.7)\"/>\n",
       "      <use xlink:href=\"#DejaVuSans-36\" transform=\"translate(733.253462 44.835938) scale(0.7)\"/>\n",
       "      <use xlink:href=\"#DejaVuSans-38\" transform=\"translate(777.789595 44.835938) scale(0.7)\"/>\n",
       "      <use xlink:href=\"#DejaVuSans-Oblique-73\" transform=\"translate(385.505859 -50.573437) scale(0.7)\"/>\n",
       "      <use xlink:href=\"#DejaVuSans-32\" transform=\"translate(425.230513 -23.776562) scale(0.49)\"/>\n",
       "      <use xlink:href=\"#DejaVuSans-2b\" transform=\"translate(471.957564 -50.573437) scale(0.7)\"/>\n",
       "      <use xlink:href=\"#DejaVuSans-35\" transform=\"translate(544.247603 -50.573437) scale(0.7)\"/>\n",
       "      <use xlink:href=\"#DejaVuSans-Oblique-73\" transform=\"translate(588.783736 -50.573437) scale(0.7)\"/>\n",
       "      <use xlink:href=\"#DejaVuSans-2b\" transform=\"translate(638.891158 -50.573437) scale(0.7)\"/>\n",
       "      <use xlink:href=\"#DejaVuSans-34\" transform=\"translate(711.181197 -50.573437) scale(0.7)\"/>\n",
       "      <path d=\"M 318.505859 18.840625 \n",
       "L 318.505859 25.090625 \n",
       "L 822.325728 25.090625 \n",
       "L 822.325728 18.840625 \n",
       "L 318.505859 18.840625 \n",
       "z\n",
       "\"/>\n",
       "     </g>\n",
       "    </g>\n",
       "   </g>\n",
       "   <g id=\"patch_4\">\n",
       "    <path d=\"M 20.9496 107.585 \n",
       "C 21.558241 107.585 22.142036 107.343184 22.57241 106.91281 \n",
       "C 23.002784 106.482436 23.2446 105.898641 23.2446 105.29 \n",
       "C 23.2446 104.681359 23.002784 104.097564 22.57241 103.66719 \n",
       "C 22.142036 103.236816 21.558241 102.995 20.9496 102.995 \n",
       "C 20.340959 102.995 19.757164 103.236816 19.32679 103.66719 \n",
       "C 18.896416 104.097564 18.6546 104.681359 18.6546 105.29 \n",
       "C 18.6546 105.898641 18.896416 106.482436 19.32679 106.91281 \n",
       "C 19.757164 107.343184 20.340959 107.585 20.9496 107.585 \n",
       "z\n",
       "\" clip-path=\"url(#p554344d797)\" style=\"fill: #ffffff; stroke: #000000; stroke-width: 2; stroke-linejoin: miter\"/>\n",
       "   </g>\n",
       "   <g id=\"patch_5\">\n",
       "    <path d=\"M 20.9496 229.985 \n",
       "C 21.558241 229.985 22.142036 229.743184 22.57241 229.31281 \n",
       "C 23.002784 228.882436 23.2446 228.298641 23.2446 227.69 \n",
       "C 23.2446 227.081359 23.002784 226.497564 22.57241 226.06719 \n",
       "C 22.142036 225.636816 21.558241 225.395 20.9496 225.395 \n",
       "C 20.340959 225.395 19.757164 225.636816 19.32679 226.06719 \n",
       "C 18.896416 226.497564 18.6546 227.081359 18.6546 227.69 \n",
       "C 18.6546 228.298641 18.896416 228.882436 19.32679 229.31281 \n",
       "C 19.757164 229.743184 20.340959 229.985 20.9496 229.985 \n",
       "z\n",
       "\" clip-path=\"url(#p554344d797)\" style=\"fill: #ffffff; stroke: #000000; stroke-width: 2; stroke-linejoin: miter\"/>\n",
       "   </g>\n",
       "   <g id=\"patch_6\">\n",
       "    <path d=\"M 82.1496 107.585 \n",
       "C 82.758241 107.585 83.342036 107.343184 83.77241 106.91281 \n",
       "C 84.202784 106.482436 84.4446 105.898641 84.4446 105.29 \n",
       "C 84.4446 104.681359 84.202784 104.097564 83.77241 103.66719 \n",
       "C 83.342036 103.236816 82.758241 102.995 82.1496 102.995 \n",
       "C 81.540959 102.995 80.957164 103.236816 80.52679 103.66719 \n",
       "C 80.096416 104.097564 79.8546 104.681359 79.8546 105.29 \n",
       "C 79.8546 105.898641 80.096416 106.482436 80.52679 106.91281 \n",
       "C 80.957164 107.343184 81.540959 107.585 82.1496 107.585 \n",
       "z\n",
       "\" clip-path=\"url(#p554344d797)\" style=\"stroke: #000000; stroke-width: 2; stroke-linejoin: miter\"/>\n",
       "   </g>\n",
       "   <g id=\"patch_7\">\n",
       "    <path d=\"M 82.1496 229.985 \n",
       "C 82.758241 229.985 83.342036 229.743184 83.77241 229.31281 \n",
       "C 84.202784 228.882436 84.4446 228.298641 84.4446 227.69 \n",
       "C 84.4446 227.081359 84.202784 226.497564 83.77241 226.06719 \n",
       "C 83.342036 225.636816 82.758241 225.395 82.1496 225.395 \n",
       "C 81.540959 225.395 80.957164 225.636816 80.52679 226.06719 \n",
       "C 80.096416 226.497564 79.8546 227.081359 79.8546 227.69 \n",
       "C 79.8546 228.298641 80.096416 228.882436 80.52679 229.31281 \n",
       "C 80.957164 229.743184 81.540959 229.985 82.1496 229.985 \n",
       "z\n",
       "\" clip-path=\"url(#p554344d797)\" style=\"stroke: #000000; stroke-width: 2; stroke-linejoin: miter\"/>\n",
       "   </g>\n",
       "   <g id=\"patch_8\">\n",
       "    <path d=\"M 143.3496 107.585 \n",
       "C 143.958241 107.585 144.542036 107.343184 144.97241 106.91281 \n",
       "C 145.402784 106.482436 145.6446 105.898641 145.6446 105.29 \n",
       "C 145.6446 104.681359 145.402784 104.097564 144.97241 103.66719 \n",
       "C 144.542036 103.236816 143.958241 102.995 143.3496 102.995 \n",
       "C 142.740959 102.995 142.157164 103.236816 141.72679 103.66719 \n",
       "C 141.296416 104.097564 141.0546 104.681359 141.0546 105.29 \n",
       "C 141.0546 105.898641 141.296416 106.482436 141.72679 106.91281 \n",
       "C 142.157164 107.343184 142.740959 107.585 143.3496 107.585 \n",
       "z\n",
       "\" clip-path=\"url(#p554344d797)\" style=\"stroke: #000000; stroke-width: 2; stroke-linejoin: miter\"/>\n",
       "   </g>\n",
       "   <g id=\"patch_9\">\n",
       "    <path d=\"M 265.7496 107.585 \n",
       "C 266.358241 107.585 266.942036 107.343184 267.37241 106.91281 \n",
       "C 267.802784 106.482436 268.0446 105.898641 268.0446 105.29 \n",
       "C 268.0446 104.681359 267.802784 104.097564 267.37241 103.66719 \n",
       "C 266.942036 103.236816 266.358241 102.995 265.7496 102.995 \n",
       "C 265.140959 102.995 264.557164 103.236816 264.12679 103.66719 \n",
       "C 263.696416 104.097564 263.4546 104.681359 263.4546 105.29 \n",
       "C 263.4546 105.898641 263.696416 106.482436 264.12679 106.91281 \n",
       "C 264.557164 107.343184 265.140959 107.585 265.7496 107.585 \n",
       "z\n",
       "\" clip-path=\"url(#p554344d797)\" style=\"stroke: #000000; stroke-width: 2; stroke-linejoin: miter\"/>\n",
       "   </g>\n",
       "   <g id=\"patch_10\">\n",
       "    <path d=\"M 326.9496 107.585 \n",
       "C 327.558241 107.585 328.142036 107.343184 328.57241 106.91281 \n",
       "C 329.002784 106.482436 329.2446 105.898641 329.2446 105.29 \n",
       "C 329.2446 104.681359 329.002784 104.097564 328.57241 103.66719 \n",
       "C 328.142036 103.236816 327.558241 102.995 326.9496 102.995 \n",
       "C 326.340959 102.995 325.757164 103.236816 325.32679 103.66719 \n",
       "C 324.896416 104.097564 324.6546 104.681359 324.6546 105.29 \n",
       "C 324.6546 105.898641 324.896416 106.482436 325.32679 106.91281 \n",
       "C 325.757164 107.343184 326.340959 107.585 326.9496 107.585 \n",
       "z\n",
       "\" clip-path=\"url(#p554344d797)\" style=\"stroke: #000000; stroke-width: 2; stroke-linejoin: miter\"/>\n",
       "   </g>\n",
       "   <g id=\"patch_11\">\n",
       "    <path d=\"M 449.3496 107.585 \n",
       "C 449.958241 107.585 450.542036 107.343184 450.97241 106.91281 \n",
       "C 451.402784 106.482436 451.6446 105.898641 451.6446 105.29 \n",
       "C 451.6446 104.681359 451.402784 104.097564 450.97241 103.66719 \n",
       "C 450.542036 103.236816 449.958241 102.995 449.3496 102.995 \n",
       "C 448.740959 102.995 448.157164 103.236816 447.72679 103.66719 \n",
       "C 447.296416 104.097564 447.0546 104.681359 447.0546 105.29 \n",
       "C 447.0546 105.898641 447.296416 106.482436 447.72679 106.91281 \n",
       "C 448.157164 107.343184 448.740959 107.585 449.3496 107.585 \n",
       "z\n",
       "\" clip-path=\"url(#p554344d797)\" style=\"stroke: #000000; stroke-width: 2; stroke-linejoin: miter\"/>\n",
       "   </g>\n",
       "  </g>\n",
       " </g>\n",
       " <defs>\n",
       "  <clipPath id=\"p554344d797\">\n",
       "   <rect x=\"7.2\" y=\"7.2\" width=\"659.1546\" height=\"284.75\"/>\n",
       "  </clipPath>\n",
       " </defs>\n",
       "</svg>\n"
      ],
      "text/plain": [
       "<schemdraw.schemdraw.Drawing at 0x7f75b122ecb0>"
      ]
     },
     "metadata": {},
     "output_type": "display_data"
    }
   ],
   "source": [
    "d = dibujar_puerto_entrada('',\n",
    "                        voltage_lbl = ('+', '$V$', '-'), \n",
    "                        current_lbl = '$I$')\n",
    "d = dibujar_elemento_derivacion(d, Resistor, R3)\n",
    "d = dibujar_espacio_derivacion(d)\n",
    "d = dibujar_tanque_RC_serie(d, R2, C2)\n",
    "d = dibujar_espacio_derivacion(d)\n",
    "d = dibujar_tanque_RC_serie(d, R1, C1)\n",
    "d, zz_lbl = dibujar_funcion_exc_abajo(d, \n",
    "                                          'Z22',  \n",
    "                                          Z22, \n",
    "                                          hacia_entrada=  True,\n",
    "                                          k_gap_width = 0.5)\n",
    "display(d)"
   ]
  },
  {
   "cell_type": "markdown",
   "id": "02797cd2",
   "metadata": {},
   "source": [
    "<a name=\"1\">\n",
    "   <h2>Simulación circuital</h2>\n",
    "</a>\n",
    "Se realiza una simulación circuital en LtSpice para verificar los parámetros de red:"
   ]
  },
  {
   "cell_type": "markdown",
   "id": "5cf98985",
   "metadata": {},
   "source": [
    "<img src=\"./rsc/sim/ej1.png\" align=\"center\" width=\"1196\" height=\"599\" />   "
   ]
  },
  {
   "cell_type": "markdown",
   "id": "c5cf48c3",
   "metadata": {},
   "source": [
    "Analizando la respuesta en frecuencia de la transferencia de corriente, vemos que se comporta como un filtro pasa-altos con una atenuación de 1,58 dB en la banda de paso y frecuencia de corte en 585 mHz."
   ]
  },
  {
   "cell_type": "markdown",
   "id": "72944374",
   "metadata": {},
   "source": [
    "-----"
   ]
  },
  {
   "cell_type": "markdown",
   "id": "6f1bcb66",
   "metadata": {},
   "source": [
    "<div class=\"alert alert-success text-left\">\n",
    "<img src=\"./rsc/logo_UTN.svg\" align=\"right\" width=\"150\" /> \n",
    "<center> \n",
    "    <a name=\"parte2\">\n",
    "        <h1> PARTE 2</h1>\n",
    "    </a> \n",
    "</center>\n",
    "</div>\n"
   ]
  },
  {
   "cell_type": "markdown",
   "id": "5e1e7e6e",
   "metadata": {},
   "source": [
    "<img src=\"./rsc/consigna2.png\" align=\"center\" width=\"1196\" height=\"599\" />   "
   ]
  },
  {
   "cell_type": "markdown",
   "id": "a96a37e4",
   "metadata": {},
   "source": [
    "<a name=\"1\">\n",
    "   <h2>Simulación simbólica</h2>\n",
    "</a>"
   ]
  },
  {
   "cell_type": "markdown",
   "id": "b5ccde2f",
   "metadata": {},
   "source": [
    "Premisas que condicionan la sintesis:\n",
    "\n",
    "1)  Red cargada con RL:\n",
    "\n",
    "\\begin{equation}\n",
    "V_2 = (-I_2)*R_L\n",
    "\\end{equation}\n",
    "\n",
    "2) Parámetros Z: Normalización a nivel de impedancia\n",
    "\n",
    "\\begin{equation}\n",
    "\\frac{-I_2}{I_1} = \\frac{Z_{21}}{R+Z_{22}} = \\frac{Z_{21}}{1+Z_{22}} \n",
    "\\end{equation}\n",
    "\n",
    "\\begin{equation}\n",
    "\\frac{-I_2}{I_1} = \\frac{Z_{21}}{1+Z_{22}}\n",
    "\\end{equation}\n",
    "\n",
    "3) Z22: Sintesis desde la salida\n",
    "\n",
    "\\begin{equation}\n",
    "Z_{22}=\\frac{s³+2s}{2s²+1}\n",
    "\\end{equation}\n",
    "\n",
    "\n",
    "4) Generador de corriente (I1): Primer elemento en derivación.\n",
    "\n",
    "5) Condición de medición a circuito abierto (-I2=0): Último elemento en derivación.\n",
    "\n",
    "6) Sintesis No disipativa: \n",
    "\n",
    "Se procederá a realizar la sintesis de Z22 a partir de los ceros de transmisión de la transferencia que coinciden con los de Z21."
   ]
  },
  {
   "cell_type": "markdown",
   "id": "04680b27",
   "metadata": {},
   "source": [
    "Primero definimos la función de excitación simbólica"
   ]
  },
  {
   "cell_type": "code",
   "execution_count": 29,
   "id": "f4ba5be8",
   "metadata": {},
   "outputs": [
    {
     "data": {
      "text/latex": [
       "$\\displaystyle \\frac{s^{3} + 2 s}{2 s^{2} + 1}$"
      ],
      "text/plain": [
       "(s**3 + 2*s)/(2*s**2 + 1)"
      ]
     },
     "execution_count": 29,
     "metadata": {},
     "output_type": "execute_result"
    }
   ],
   "source": [
    "s = sp.symbols('s ', complex=True)\n",
    "Z22 = (s**3+2*s)/(2*s**2+1)\n",
    "Z22"
   ]
  },
  {
   "cell_type": "markdown",
   "id": "a07527b5",
   "metadata": {},
   "source": [
    "##### 1ra remoción TOTAL:  Inductor en derivación (polo de admitancia en 0)"
   ]
  },
  {
   "cell_type": "code",
   "execution_count": 37,
   "id": "7319c32a",
   "metadata": {},
   "outputs": [
    {
     "name": "stdout",
     "output_type": "stream",
     "text": [
      "Se removió un inductor de valor:\n"
     ]
    },
    {
     "data": {
      "text/latex": [
       "$\\displaystyle 2$"
      ],
      "text/plain": [
       "2"
      ]
     },
     "metadata": {},
     "output_type": "display_data"
    },
    {
     "name": "stdout",
     "output_type": "stream",
     "text": [
      "La admitancia resultante es igual a: \n"
     ]
    },
    {
     "data": {
      "text/latex": [
       "$\\displaystyle \\frac{3 s}{2 \\left(s^{2} + 2\\right)}$"
      ],
      "text/plain": [
       "3*s/(2*(s**2 + 2))"
      ]
     },
     "metadata": {},
     "output_type": "display_data"
    }
   ],
   "source": [
    "Y=1/Z22\n",
    "Y2, Y1 = remover_polo_dc(Y)\n",
    "L1 = 1/Y1/s\n",
    "print(\"Se removió un inductor de valor:\")\n",
    "display(L1)\n",
    "print(\"La admitancia resultante es igual a: \")\n",
    "display(Y2)"
   ]
  },
  {
   "cell_type": "markdown",
   "id": "4878f7fa",
   "metadata": {},
   "source": [
    "##### 2da remoción TOTAL: Inductor en serie (polo de impedancia en infinito)"
   ]
  },
  {
   "cell_type": "code",
   "execution_count": 41,
   "id": "505e7b96",
   "metadata": {},
   "outputs": [
    {
     "name": "stdout",
     "output_type": "stream",
     "text": [
      "Se removió un inductor en serie de valor: \n"
     ]
    },
    {
     "data": {
      "text/latex": [
       "$\\displaystyle \\frac{2}{3}$"
      ],
      "text/plain": [
       "2/3"
      ]
     },
     "metadata": {},
     "output_type": "display_data"
    },
    {
     "name": "stdout",
     "output_type": "stream",
     "text": [
      "Quedando una impedancia resultante: \n"
     ]
    },
    {
     "data": {
      "text/latex": [
       "$\\displaystyle \\frac{4}{3 s}$"
      ],
      "text/plain": [
       "4/(3*s)"
      ]
     },
     "metadata": {},
     "output_type": "display_data"
    }
   ],
   "source": [
    "Z2 = 1/Y2\n",
    "Z4, Z3 = remover_polo_infinito(Z2)\n",
    "L2 = Z3/s\n",
    "print(\"Se removió un inductor en serie de valor: \")\n",
    "display(L2)\n",
    "print(\"Quedando una impedancia resultante: \")\n",
    "display(Z4)"
   ]
  },
  {
   "cell_type": "markdown",
   "id": "3d813636",
   "metadata": {},
   "source": [
    "##### 3ra remoción TOTAL: Capacitor en derivación (Polo de admitancia en infinito)"
   ]
  },
  {
   "cell_type": "code",
   "execution_count": 45,
   "id": "0272adb3",
   "metadata": {},
   "outputs": [
    {
     "name": "stdout",
     "output_type": "stream",
     "text": [
      "Se removió un capacitor de valor: \n"
     ]
    },
    {
     "data": {
      "text/latex": [
       "$\\displaystyle \\frac{3}{4}$"
      ],
      "text/plain": [
       "3/4"
      ]
     },
     "metadata": {},
     "output_type": "display_data"
    },
    {
     "name": "stdout",
     "output_type": "stream",
     "text": [
      "Quedando una admitancia resultante: \n"
     ]
    },
    {
     "data": {
      "text/latex": [
       "$\\displaystyle 0$"
      ],
      "text/plain": [
       "0"
      ]
     },
     "metadata": {},
     "output_type": "display_data"
    }
   ],
   "source": [
    "Y4 = 1/Z4\n",
    "Y6, Y5 = remover_polo_infinito(Y4)\n",
    "C1 = Y5/s\n",
    "print(\"Se removió un capacitor de valor: \")\n",
    "display(C1)\n",
    "print(\"Quedando una admitancia resultante: \")\n",
    "display(Y6)"
   ]
  },
  {
   "cell_type": "markdown",
   "id": "55b885e7",
   "metadata": {},
   "source": [
    "### Red resultante:"
   ]
  },
  {
   "cell_type": "code",
   "execution_count": 49,
   "id": "efa28765",
   "metadata": {},
   "outputs": [
    {
     "data": {
      "image/png": "[encoded data removed]",
      "image/svg+xml": [
       "<?xml version=\"1.0\" encoding=\"utf-8\" standalone=\"no\"?>\n",
       "<!DOCTYPE svg PUBLIC \"-//W3C//DTD SVG 1.1//EN\"\n",
       "  \"http://www.w3.org/Graphics/SVG/1.1/DTD/svg11.dtd\">\n",
       "<svg xmlns:xlink=\"http://www.w3.org/1999/xlink\" width=\"511.803pt\" height=\"234.124981pt\" viewBox=\"0 0 511.803 234.124981\" xmlns=\"http://www.w3.org/2000/svg\" version=\"1.1\">\n",
       " <metadata>\n",
       "  <rdf:RDF xmlns:dc=\"http://purl.org/dc/elements/1.1/\" xmlns:cc=\"http://creativecommons.org/ns#\" xmlns:rdf=\"http://www.w3.org/1999/02/22-rdf-syntax-ns#\">\n",
       "   <cc:Work>\n",
       "    <dc:type rdf:resource=\"http://purl.org/dc/dcmitype/StillImage\"/>\n",
       "    <dc:date>2023-11-20T21:14:36.360450</dc:date>\n",
       "    <dc:format>image/svg+xml</dc:format>\n",
       "    <dc:creator>\n",
       "     <cc:Agent>\n",
       "      <dc:title>Matplotlib v3.7.1, https://matplotlib.org/</dc:title>\n",
       "     </cc:Agent>\n",
       "    </dc:creator>\n",
       "   </cc:Work>\n",
       "  </rdf:RDF>\n",
       " </metadata>\n",
       " <defs>\n",
       "  <style type=\"text/css\">*{stroke-linejoin: round; stroke-linecap: butt}</style>\n",
       " </defs>\n",
       " <g id=\"figure_1\">\n",
       "  <g id=\"patch_1\">\n",
       "   <path d=\"M -0 234.124981 \n",
       "L 511.803 234.124981 \n",
       "L 511.803 0 \n",
       "L -0 0 \n",
       "z\n",
       "\" style=\"fill: #ffffff\"/>\n",
       "  </g>\n",
       "  <g id=\"axes_1\">\n",
       "   <g id=\"patch_2\">\n",
       "    <path d=\"M 143.472 40.264981 \n",
       "C 143.472 39.250917 143.068735 38.277349 142.351683 37.560298 \n",
       "C 141.634632 36.843246 140.661064 36.439981 139.647 36.439981 \n",
       "C 138.632936 36.439981 137.659368 36.843246 136.942317 37.560298 \n",
       "C 136.225265 38.277349 135.822 39.250917 135.822 40.264981 \n",
       "\" clip-path=\"url(#pf624a357ee)\" style=\"fill: none; stroke: #000000; stroke-width: 2; stroke-linejoin: miter\"/>\n",
       "   </g>\n",
       "   <g id=\"patch_3\">\n",
       "    <path d=\"M 151.122 40.264981 \n",
       "C 151.122 39.250917 150.718735 38.277349 150.001683 37.560298 \n",
       "C 149.284632 36.843246 148.311064 36.439981 147.297 36.439981 \n",
       "C 146.282936 36.439981 145.309368 36.843246 144.592317 37.560298 \n",
       "C 143.875265 38.277349 143.472 39.250917 143.472 40.264981 \n",
       "\" clip-path=\"url(#pf624a357ee)\" style=\"fill: none; stroke: #000000; stroke-width: 2; stroke-linejoin: miter\"/>\n",
       "   </g>\n",
       "   <g id=\"patch_4\">\n",
       "    <path d=\"M 158.772 40.264981 \n",
       "C 158.772 39.250917 158.368735 38.277349 157.651683 37.560298 \n",
       "C 156.934632 36.843246 155.961064 36.439981 154.947 36.439981 \n",
       "C 153.932936 36.439981 152.959368 36.843246 152.242317 37.560298 \n",
       "C 151.525265 38.277349 151.122 39.250917 151.122 40.264981 \n",
       "\" clip-path=\"url(#pf624a357ee)\" style=\"fill: none; stroke: #000000; stroke-width: 2; stroke-linejoin: miter\"/>\n",
       "   </g>\n",
       "   <g id=\"patch_5\">\n",
       "    <path d=\"M 166.422 40.264981 \n",
       "C 166.422 39.250917 166.018735 38.277349 165.301683 37.560298 \n",
       "C 164.584632 36.843246 163.611064 36.439981 162.597 36.439981 \n",
       "C 161.582936 36.439981 160.609368 36.843246 159.892317 37.560298 \n",
       "C 159.175265 38.277349 158.772 39.250917 158.772 40.264981 \n",
       "\" clip-path=\"url(#pf624a357ee)\" style=\"fill: none; stroke: #000000; stroke-width: 2; stroke-linejoin: miter\"/>\n",
       "   </g>\n",
       "   <g id=\"patch_6\">\n",
       "    <path d=\"M 212.322 93.814981 \n",
       "C 213.336064 93.814981 214.309632 93.411716 215.026683 92.694664 \n",
       "C 215.743735 91.977613 216.147 91.004045 216.147 89.989981 \n",
       "C 216.147 88.975917 215.743735 88.002349 215.026683 87.285298 \n",
       "C 214.309632 86.568246 213.336064 86.164981 212.322 86.164981 \n",
       "\" clip-path=\"url(#pf624a357ee)\" style=\"fill: none; stroke: #000000; stroke-width: 2; stroke-linejoin: miter\"/>\n",
       "   </g>\n",
       "   <g id=\"patch_7\">\n",
       "    <path d=\"M 212.322 101.464981 \n",
       "C 213.336064 101.464981 214.309632 101.061716 215.026683 100.344664 \n",
       "C 215.743735 99.627613 216.147 98.654045 216.147 97.639981 \n",
       "C 216.147 96.625917 215.743735 95.652349 215.026683 94.935298 \n",
       "C 214.309632 94.218246 213.336064 93.814981 212.322 93.814981 \n",
       "\" clip-path=\"url(#pf624a357ee)\" style=\"fill: none; stroke: #000000; stroke-width: 2; stroke-linejoin: miter\"/>\n",
       "   </g>\n",
       "   <g id=\"patch_8\">\n",
       "    <path d=\"M 212.322 109.114981 \n",
       "C 213.336064 109.114981 214.309632 108.711716 215.026683 107.994664 \n",
       "C 215.743735 107.277613 216.147 106.304045 216.147 105.289981 \n",
       "C 216.147 104.275917 215.743735 103.302349 215.026683 102.585298 \n",
       "C 214.309632 101.868246 213.336064 101.464981 212.322 101.464981 \n",
       "\" clip-path=\"url(#pf624a357ee)\" style=\"fill: none; stroke: #000000; stroke-width: 2; stroke-linejoin: miter\"/>\n",
       "   </g>\n",
       "   <g id=\"patch_9\">\n",
       "    <path d=\"M 212.322 116.764981 \n",
       "C 213.336064 116.764981 214.309632 116.361716 215.026683 115.644664 \n",
       "C 215.743735 114.927613 216.147 113.954045 216.147 112.939981 \n",
       "C 216.147 111.925917 215.743735 110.952349 215.026683 110.235298 \n",
       "C 214.309632 109.518246 213.336064 109.114981 212.322 109.114981 \n",
       "\" clip-path=\"url(#pf624a357ee)\" style=\"fill: none; stroke: #000000; stroke-width: 2; stroke-linejoin: miter\"/>\n",
       "   </g>\n",
       "   <g id=\"line2d_1\">\n",
       "    <path d=\"M 28.722 162.664981 \n",
       "L 59.322 162.664981 \n",
       "L 89.922 162.664981 \n",
       "\" clip-path=\"url(#pf624a357ee)\" style=\"fill: none; stroke: #000000; stroke-width: 2; stroke-linecap: round\"/>\n",
       "   </g>\n",
       "   <g id=\"line2d_2\">\n",
       "    <path d=\"M 89.922 40.264981 \n",
       "L 74.622 40.264981 \n",
       "L 59.322 40.264981 \n",
       "\" clip-path=\"url(#pf624a357ee)\" style=\"fill: none; stroke: #000000; stroke-width: 2; stroke-linecap: round\"/>\n",
       "   </g>\n",
       "   <g id=\"line2d_3\">\n",
       "    <path d=\"M 51.672 40.264981 \n",
       "L 44.022 40.264981 \n",
       "L 28.722 40.264981 \n",
       "\" clip-path=\"url(#pf624a357ee)\" style=\"fill: none; stroke: #000000; stroke-width: 2; stroke-linecap: round\"/>\n",
       "   </g>\n",
       "   <g id=\"patch_10\">\n",
       "    <path d=\"M 51.672 37.969981 \n",
       "L 59.322 40.264981 \n",
       "L 51.672 42.559981 \n",
       "z\n",
       "\" clip-path=\"url(#pf624a357ee)\"/>\n",
       "   </g>\n",
       "   <g id=\"line2d_4\">\n",
       "    <path d=\"M 89.922 40.264981 \n",
       "L 89.922 98.710981 \n",
       "M 97.572 98.710981 \n",
       "L 82.272 98.710981 \n",
       "M 97.572 104.218981 \n",
       "L 82.272 104.218981 \n",
       "M 89.922 104.218981 \n",
       "L 89.922 162.664981 \n",
       "\" clip-path=\"url(#pf624a357ee)\" style=\"fill: none; stroke: #000000; stroke-width: 2; stroke-linecap: round\"/>\n",
       "   </g>\n",
       "   <g id=\"line2d_5\">\n",
       "    <path d=\"M 89.922 40.264981 \n",
       "L 135.822 40.264981 \n",
       "M 166.422 40.264981 \n",
       "L 212.322 40.264981 \n",
       "\" clip-path=\"url(#pf624a357ee)\" style=\"fill: none; stroke: #000000; stroke-width: 2; stroke-linecap: round\"/>\n",
       "   </g>\n",
       "   <g id=\"line2d_6\">\n",
       "    <path d=\"M 212.322 162.664981 \n",
       "L 151.122 162.664981 \n",
       "L 89.922 162.664981 \n",
       "\" clip-path=\"url(#pf624a357ee)\" style=\"fill: none; stroke: #000000; stroke-width: 2; stroke-linecap: round\"/>\n",
       "   </g>\n",
       "   <g id=\"line2d_7\">\n",
       "    <path d=\"M 212.322 40.264981 \n",
       "L 212.322 86.164981 \n",
       "M 212.322 116.764981 \n",
       "L 212.322 162.664981 \n",
       "\" clip-path=\"url(#pf624a357ee)\" style=\"fill: none; stroke: #000000; stroke-width: 2; stroke-linecap: round\"/>\n",
       "   </g>\n",
       "   <g id=\"line2d_8\">\n",
       "    <path d=\"M 212.322 40.264981 \n",
       "L 242.922 40.264981 \n",
       "L 273.522 40.264981 \n",
       "\" clip-path=\"url(#pf624a357ee)\" style=\"fill: none; stroke: #000000; stroke-width: 2; stroke-linecap: round\"/>\n",
       "   </g>\n",
       "   <g id=\"line2d_9\">\n",
       "    <path d=\"M 273.522 162.664981 \n",
       "L 242.922 162.664981 \n",
       "L 212.322 162.664981 \n",
       "\" clip-path=\"url(#pf624a357ee)\" style=\"fill: none; stroke: #000000; stroke-width: 2; stroke-linecap: round\"/>\n",
       "   </g>\n",
       "   <g id=\"line2d_10\">\n",
       "    <path d=\"M 273.522 40.264981 \n",
       "L 288.822 40.264981 \n",
       "L 304.122 40.264981 \n",
       "\" clip-path=\"url(#pf624a357ee)\" style=\"fill: none; stroke: #000000; stroke-width: 2; stroke-linecap: round\"/>\n",
       "   </g>\n",
       "   <g id=\"line2d_11\">\n",
       "    <path d=\"M 311.772 40.264981 \n",
       "L 319.422 40.264981 \n",
       "L 334.722 40.264981 \n",
       "\" clip-path=\"url(#pf624a357ee)\" style=\"fill: none; stroke: #000000; stroke-width: 2; stroke-linecap: round\"/>\n",
       "   </g>\n",
       "   <g id=\"patch_11\">\n",
       "    <path d=\"M 311.772 42.559981 \n",
       "L 304.122 40.264981 \n",
       "L 311.772 37.969981 \n",
       "z\n",
       "\" clip-path=\"url(#pf624a357ee)\"/>\n",
       "   </g>\n",
       "   <g id=\"line2d_12\">\n",
       "    <path d=\"M 334.722 162.664981 \n",
       "L 304.122 162.664981 \n",
       "L 273.522 162.664981 \n",
       "\" clip-path=\"url(#pf624a357ee)\" style=\"fill: none; stroke: #000000; stroke-width: 2; stroke-linecap: round\"/>\n",
       "   </g>\n",
       "   <g id=\"line2d_13\">\n",
       "    <path d=\"M 334.722 40.264981 \n",
       "L 350.022 40.264981 \n",
       "L 365.322 40.264981 \n",
       "\" clip-path=\"url(#pf624a357ee)\" style=\"fill: none; stroke: #000000; stroke-width: 2; stroke-linecap: round\"/>\n",
       "   </g>\n",
       "   <g id=\"line2d_14\">\n",
       "    <path d=\"M 365.322 168.784981 \n",
       "L 365.322 153.484981 \n",
       "L 365.322 138.184981 \n",
       "\" clip-path=\"url(#pf624a357ee)\" style=\"fill: none; stroke: #000000; stroke-linecap: round\"/>\n",
       "   </g>\n",
       "   <g id=\"line2d_15\">\n",
       "    <path d=\"M 365.322 138.184981 \n",
       "L 357.672 138.184981 \n",
       "L 357.672 138.184981 \n",
       "\" clip-path=\"url(#pf624a357ee)\" style=\"fill: none; stroke: #000000; stroke-linecap: round\"/>\n",
       "   </g>\n",
       "   <g id=\"patch_12\">\n",
       "    <path d=\"M 357.672 140.479981 \n",
       "L 350.022 138.184981 \n",
       "L 357.672 135.889981 \n",
       "z\n",
       "\" clip-path=\"url(#pf624a357ee)\"/>\n",
       "   </g>\n",
       "   <g id=\"line2d_16\">\n",
       "    <path d=\"M 365.322 162.664981 \n",
       "L 350.022 162.664981 \n",
       "L 334.722 162.664981 \n",
       "\" clip-path=\"url(#pf624a357ee)\" style=\"fill: none; stroke: #000000; stroke-width: 2; stroke-linecap: round\"/>\n",
       "   </g>\n",
       "   <g id=\"line2d_17\">\n",
       "    <path d=\"M 365.322 162.664981 \n",
       "L 380.622 162.664981 \n",
       "L 395.922 162.664981 \n",
       "\" clip-path=\"url(#pf624a357ee)\" style=\"fill: none; stroke: #000000; stroke-width: 2; stroke-linecap: round\"/>\n",
       "   </g>\n",
       "   <g id=\"line2d_18\">\n",
       "    <path d=\"M 365.322 40.264981 \n",
       "L 380.622 40.264981 \n",
       "L 395.922 40.264981 \n",
       "\" clip-path=\"url(#pf624a357ee)\" style=\"fill: none; stroke: #000000; stroke-width: 2; stroke-linecap: round\"/>\n",
       "   </g>\n",
       "   <g id=\"text_1\">\n",
       "    <g clip-path=\"url(#pf624a357ee)\">\n",
       "     <!-- + -->\n",
       "     <g transform=\"translate(22.646727 74.866075) scale(0.145 -0.145)\">\n",
       "      <defs>\n",
       "       <path id=\"DejaVuSans-2b\" d=\"M 2944 4013 \n",
       "L 2944 2272 \n",
       "L 4684 2272 \n",
       "L 4684 1741 \n",
       "L 2944 1741 \n",
       "L 2944 0 \n",
       "L 2419 0 \n",
       "L 2419 1741 \n",
       "L 678 1741 \n",
       "L 678 2272 \n",
       "L 2419 2272 \n",
       "L 2419 4013 \n",
       "L 2944 4013 \n",
       "z\n",
       "\" transform=\"scale(0.015625)\"/>\n",
       "      </defs>\n",
       "      <use xlink:href=\"#DejaVuSans-2b\"/>\n",
       "     </g>\n",
       "    </g>\n",
       "   </g>\n",
       "   <g id=\"text_2\">\n",
       "    <g clip-path=\"url(#pf624a357ee)\">\n",
       "     <!-- $V$ -->\n",
       "     <g transform=\"translate(23.7195 105.466075) scale(0.145 -0.145)\">\n",
       "      <defs>\n",
       "       <path id=\"DejaVuSans-Oblique-56\" d=\"M 1319 0 \n",
       "L 500 4666 \n",
       "L 1119 4666 \n",
       "L 1797 653 \n",
       "L 4063 4666 \n",
       "L 4750 4666 \n",
       "L 2053 0 \n",
       "L 1319 0 \n",
       "z\n",
       "\" transform=\"scale(0.015625)\"/>\n",
       "      </defs>\n",
       "      <use xlink:href=\"#DejaVuSans-Oblique-56\" transform=\"translate(0 0.09375)\"/>\n",
       "     </g>\n",
       "    </g>\n",
       "   </g>\n",
       "   <g id=\"text_3\">\n",
       "    <g clip-path=\"url(#pf624a357ee)\">\n",
       "     <!-- - -->\n",
       "     <g transform=\"translate(26.106336 136.066075) scale(0.145 -0.145)\">\n",
       "      <defs>\n",
       "       <path id=\"DejaVuSans-2d\" d=\"M 313 2009 \n",
       "L 1997 2009 \n",
       "L 1997 1497 \n",
       "L 313 1497 \n",
       "L 313 2009 \n",
       "z\n",
       "\" transform=\"scale(0.015625)\"/>\n",
       "      </defs>\n",
       "      <use xlink:href=\"#DejaVuSans-2d\"/>\n",
       "     </g>\n",
       "    </g>\n",
       "   </g>\n",
       "   <g id=\"text_4\">\n",
       "    <g clip-path=\"url(#pf624a357ee)\">\n",
       "     <!-- $I$ -->\n",
       "     <g transform=\"translate(41.847 34.189434) scale(0.145 -0.145)\">\n",
       "      <defs>\n",
       "       <path id=\"DejaVuSans-Oblique-49\" d=\"M 1081 4666 \n",
       "L 1716 4666 \n",
       "L 806 0 \n",
       "L 172 0 \n",
       "L 1081 4666 \n",
       "z\n",
       "\" transform=\"scale(0.015625)\"/>\n",
       "      </defs>\n",
       "      <use xlink:href=\"#DejaVuSans-Oblique-49\" transform=\"translate(0 0.09375)\"/>\n",
       "     </g>\n",
       "    </g>\n",
       "   </g>\n",
       "   <g id=\"text_5\">\n",
       "    <g clip-path=\"url(#pf624a357ee)\">\n",
       "     <!-- $\\frac{3}{4}$ -->\n",
       "     <g transform=\"translate(70.802 105.669981) scale(0.145 -0.145)\">\n",
       "      <defs>\n",
       "       <path id=\"DejaVuSans-33\" d=\"M 2597 2516 \n",
       "Q 3050 2419 3304 2112 \n",
       "Q 3559 1806 3559 1356 \n",
       "Q 3559 666 3084 287 \n",
       "Q 2609 -91 1734 -91 \n",
       "Q 1441 -91 1130 -33 \n",
       "Q 819 25 488 141 \n",
       "L 488 750 \n",
       "Q 750 597 1062 519 \n",
       "Q 1375 441 1716 441 \n",
       "Q 2309 441 2620 675 \n",
       "Q 2931 909 2931 1356 \n",
       "Q 2931 1769 2642 2001 \n",
       "Q 2353 2234 1838 2234 \n",
       "L 1294 2234 \n",
       "L 1294 2753 \n",
       "L 1863 2753 \n",
       "Q 2328 2753 2575 2939 \n",
       "Q 2822 3125 2822 3475 \n",
       "Q 2822 3834 2567 4026 \n",
       "Q 2313 4219 1838 4219 \n",
       "Q 1578 4219 1281 4162 \n",
       "Q 984 4106 628 3988 \n",
       "L 628 4550 \n",
       "Q 988 4650 1302 4700 \n",
       "Q 1616 4750 1894 4750 \n",
       "Q 2613 4750 3031 4423 \n",
       "Q 3450 4097 3450 3541 \n",
       "Q 3450 3153 3228 2886 \n",
       "Q 3006 2619 2597 2516 \n",
       "z\n",
       "\" transform=\"scale(0.015625)\"/>\n",
       "       <path id=\"DejaVuSans-34\" d=\"M 2419 4116 \n",
       "L 825 1625 \n",
       "L 2419 1625 \n",
       "L 2419 4116 \n",
       "z\n",
       "M 2253 4666 \n",
       "L 3047 4666 \n",
       "L 3047 1625 \n",
       "L 3713 1625 \n",
       "L 3713 1100 \n",
       "L 3047 1100 \n",
       "L 3047 0 \n",
       "L 2419 0 \n",
       "L 2419 1100 \n",
       "L 313 1100 \n",
       "L 313 1709 \n",
       "L 2253 4666 \n",
       "z\n",
       "\" transform=\"scale(0.015625)\"/>\n",
       "      </defs>\n",
       "      <use xlink:href=\"#DejaVuSans-33\" transform=\"translate(0 45.046875) scale(0.7)\"/>\n",
       "      <use xlink:href=\"#DejaVuSans-34\" transform=\"translate(0 -38.232812) scale(0.7)\"/>\n",
       "      <path d=\"M 0 19.051563 \n",
       "L 0 25.301563 \n",
       "L 44.536133 25.301563 \n",
       "L 44.536133 19.051563 \n",
       "L 0 19.051563 \n",
       "z\n",
       "\"/>\n",
       "     </g>\n",
       "    </g>\n",
       "   </g>\n",
       "   <g id=\"text_6\">\n",
       "    <g clip-path=\"url(#pf624a357ee)\">\n",
       "     <!-- $\\frac{2}{3}$ -->\n",
       "     <g transform=\"translate(146.917 27.435) scale(0.145 -0.145)\">\n",
       "      <defs>\n",
       "       <path id=\"DejaVuSans-32\" d=\"M 1228 531 \n",
       "L 3431 531 \n",
       "L 3431 0 \n",
       "L 469 0 \n",
       "L 469 531 \n",
       "Q 828 903 1448 1529 \n",
       "Q 2069 2156 2228 2338 \n",
       "Q 2531 2678 2651 2914 \n",
       "Q 2772 3150 2772 3378 \n",
       "Q 2772 3750 2511 3984 \n",
       "Q 2250 4219 1831 4219 \n",
       "Q 1534 4219 1204 4116 \n",
       "Q 875 4013 500 3803 \n",
       "L 500 4441 \n",
       "Q 881 4594 1212 4672 \n",
       "Q 1544 4750 1819 4750 \n",
       "Q 2544 4750 2975 4387 \n",
       "Q 3406 4025 3406 3419 \n",
       "Q 3406 3131 3298 2873 \n",
       "Q 3191 2616 2906 2266 \n",
       "Q 2828 2175 2409 1742 \n",
       "Q 1991 1309 1228 531 \n",
       "z\n",
       "\" transform=\"scale(0.015625)\"/>\n",
       "      </defs>\n",
       "      <use xlink:href=\"#DejaVuSans-32\" transform=\"translate(0 44.046875) scale(0.7)\"/>\n",
       "      <use xlink:href=\"#DejaVuSans-33\" transform=\"translate(0 -39.15625) scale(0.7)\"/>\n",
       "      <path d=\"M 0 19.046875 \n",
       "L 0 25.296875 \n",
       "L 44.536133 25.296875 \n",
       "L 44.536133 19.046875 \n",
       "L 0 19.046875 \n",
       "z\n",
       "\"/>\n",
       "     </g>\n",
       "    </g>\n",
       "   </g>\n",
       "   <g id=\"text_7\">\n",
       "    <g clip-path=\"url(#pf624a357ee)\">\n",
       "     <!-- $2$ -->\n",
       "     <g transform=\"translate(199.982 105.466075) scale(0.145 -0.145)\">\n",
       "      <use xlink:href=\"#DejaVuSans-32\" transform=\"translate(0 0.78125)\"/>\n",
       "     </g>\n",
       "    </g>\n",
       "   </g>\n",
       "   <g id=\"text_8\">\n",
       "    <g clip-path=\"url(#pf624a357ee)\">\n",
       "     <!-- $I2$ -->\n",
       "     <g transform=\"translate(312.607 34.189434) scale(0.145 -0.145)\">\n",
       "      <use xlink:href=\"#DejaVuSans-Oblique-49\" transform=\"translate(0 0.78125)\"/>\n",
       "      <use xlink:href=\"#DejaVuSans-32\" transform=\"translate(29.492188 0.78125)\"/>\n",
       "     </g>\n",
       "    </g>\n",
       "   </g>\n",
       "   <g id=\"text_9\">\n",
       "    <g clip-path=\"url(#pf624a357ee)\">\n",
       "     <!-- + -->\n",
       "     <g transform=\"translate(328.646727 74.866075) scale(0.145 -0.145)\">\n",
       "      <use xlink:href=\"#DejaVuSans-2b\"/>\n",
       "     </g>\n",
       "    </g>\n",
       "   </g>\n",
       "   <g id=\"text_10\">\n",
       "    <g clip-path=\"url(#pf624a357ee)\">\n",
       "     <!-- $V2$ -->\n",
       "     <g transform=\"translate(325.0795 105.466075) scale(0.145 -0.145)\">\n",
       "      <use xlink:href=\"#DejaVuSans-Oblique-56\" transform=\"translate(0 0.78125)\"/>\n",
       "      <use xlink:href=\"#DejaVuSans-32\" transform=\"translate(68.408203 0.78125)\"/>\n",
       "     </g>\n",
       "    </g>\n",
       "   </g>\n",
       "   <g id=\"text_11\">\n",
       "    <g clip-path=\"url(#pf624a357ee)\">\n",
       "     <!-- - -->\n",
       "     <g transform=\"translate(332.106336 136.066075) scale(0.145 -0.145)\">\n",
       "      <use xlink:href=\"#DejaVuSans-2d\"/>\n",
       "     </g>\n",
       "    </g>\n",
       "   </g>\n",
       "   <g id=\"text_12\">\n",
       "    <g clip-path=\"url(#pf624a357ee)\">\n",
       "     <!-- $ Z22 = \\frac{s^{3} + 2 s}{2 s^{2} + 1} $ -->\n",
       "     <g transform=\"translate(305.9745 200.104981) scale(0.205 -0.205)\">\n",
       "      <defs>\n",
       "       <path id=\"DejaVuSans-Oblique-5a\" d=\"M 838 4666 \n",
       "L 4500 4666 \n",
       "L 4409 4184 \n",
       "L 794 531 \n",
       "L 3769 531 \n",
       "L 3669 0 \n",
       "L -141 0 \n",
       "L -50 481 \n",
       "L 3566 4134 \n",
       "L 738 4134 \n",
       "L 838 4666 \n",
       "z\n",
       "\" transform=\"scale(0.015625)\"/>\n",
       "       <path id=\"DejaVuSans-3d\" d=\"M 678 2906 \n",
       "L 4684 2906 \n",
       "L 4684 2381 \n",
       "L 678 2381 \n",
       "L 678 2906 \n",
       "z\n",
       "M 678 1631 \n",
       "L 4684 1631 \n",
       "L 4684 1100 \n",
       "L 678 1100 \n",
       "L 678 1631 \n",
       "z\n",
       "\" transform=\"scale(0.015625)\"/>\n",
       "       <path id=\"DejaVuSans-Oblique-73\" d=\"M 3200 3397 \n",
       "L 3091 2853 \n",
       "Q 2863 2978 2609 3040 \n",
       "Q 2356 3103 2088 3103 \n",
       "Q 1634 3103 1373 2948 \n",
       "Q 1113 2794 1113 2528 \n",
       "Q 1113 2219 1719 2053 \n",
       "Q 1766 2041 1788 2034 \n",
       "L 1972 1978 \n",
       "Q 2547 1819 2739 1644 \n",
       "Q 2931 1469 2931 1166 \n",
       "Q 2931 609 2489 259 \n",
       "Q 2047 -91 1331 -91 \n",
       "Q 1053 -91 747 -37 \n",
       "Q 441 16 72 128 \n",
       "L 184 722 \n",
       "Q 500 559 806 475 \n",
       "Q 1113 391 1394 391 \n",
       "Q 1816 391 2080 572 \n",
       "Q 2344 753 2344 1031 \n",
       "Q 2344 1331 1650 1516 \n",
       "L 1591 1531 \n",
       "L 1394 1581 \n",
       "Q 956 1697 753 1886 \n",
       "Q 550 2075 550 2369 \n",
       "Q 550 2928 970 3256 \n",
       "Q 1391 3584 2113 3584 \n",
       "Q 2397 3584 2667 3537 \n",
       "Q 2938 3491 3200 3397 \n",
       "z\n",
       "\" transform=\"scale(0.015625)\"/>\n",
       "       <path id=\"DejaVuSans-31\" d=\"M 794 531 \n",
       "L 1825 531 \n",
       "L 1825 4091 \n",
       "L 703 3866 \n",
       "L 703 4441 \n",
       "L 1819 4666 \n",
       "L 2450 4666 \n",
       "L 2450 531 \n",
       "L 3481 531 \n",
       "L 3481 0 \n",
       "L 794 0 \n",
       "L 794 531 \n",
       "z\n",
       "\" transform=\"scale(0.015625)\"/>\n",
       "      </defs>\n",
       "      <use xlink:href=\"#DejaVuSans-Oblique-5a\" transform=\"translate(0 0.04375)\"/>\n",
       "      <use xlink:href=\"#DejaVuSans-32\" transform=\"translate(68.505859 0.04375)\"/>\n",
       "      <use xlink:href=\"#DejaVuSans-32\" transform=\"translate(132.128906 0.04375)\"/>\n",
       "      <use xlink:href=\"#DejaVuSans-3d\" transform=\"translate(215.234375 0.04375)\"/>\n",
       "      <use xlink:href=\"#DejaVuSans-Oblique-73\" transform=\"translate(322.505859 44.835938) scale(0.7)\"/>\n",
       "      <use xlink:href=\"#DejaVuSans-33\" transform=\"translate(362.230513 71.632812) scale(0.49)\"/>\n",
       "      <use xlink:href=\"#DejaVuSans-2b\" transform=\"translate(408.957564 44.835938) scale(0.7)\"/>\n",
       "      <use xlink:href=\"#DejaVuSans-32\" transform=\"translate(481.247603 44.835938) scale(0.7)\"/>\n",
       "      <use xlink:href=\"#DejaVuSans-Oblique-73\" transform=\"translate(525.783736 44.835938) scale(0.7)\"/>\n",
       "      <use xlink:href=\"#DejaVuSans-32\" transform=\"translate(318.505859 -50.573437) scale(0.7)\"/>\n",
       "      <use xlink:href=\"#DejaVuSans-Oblique-73\" transform=\"translate(363.041992 -50.573437) scale(0.7)\"/>\n",
       "      <use xlink:href=\"#DejaVuSans-32\" transform=\"translate(402.766646 -23.776562) scale(0.49)\"/>\n",
       "      <use xlink:href=\"#DejaVuSans-2b\" transform=\"translate(449.493697 -50.573437) scale(0.7)\"/>\n",
       "      <use xlink:href=\"#DejaVuSans-31\" transform=\"translate(521.783736 -50.573437) scale(0.7)\"/>\n",
       "      <path d=\"M 318.505859 18.840625 \n",
       "L 318.505859 25.090625 \n",
       "L 566.319868 25.090625 \n",
       "L 566.319868 18.840625 \n",
       "L 318.505859 18.840625 \n",
       "z\n",
       "\"/>\n",
       "     </g>\n",
       "    </g>\n",
       "   </g>\n",
       "   <g id=\"patch_13\">\n",
       "    <path d=\"M 28.722 42.559981 \n",
       "C 29.330641 42.559981 29.914436 42.318165 30.34481 41.887791 \n",
       "C 30.775184 41.457417 31.017 40.873622 31.017 40.264981 \n",
       "C 31.017 39.65634 30.775184 39.072545 30.34481 38.642171 \n",
       "C 29.914436 38.211797 29.330641 37.969981 28.722 37.969981 \n",
       "C 28.113359 37.969981 27.529564 38.211797 27.09919 38.642171 \n",
       "C 26.668816 39.072545 26.427 39.65634 26.427 40.264981 \n",
       "C 26.427 40.873622 26.668816 41.457417 27.09919 41.887791 \n",
       "C 27.529564 42.318165 28.113359 42.559981 28.722 42.559981 \n",
       "z\n",
       "\" clip-path=\"url(#pf624a357ee)\" style=\"fill: #ffffff; stroke: #000000; stroke-width: 2; stroke-linejoin: miter\"/>\n",
       "   </g>\n",
       "   <g id=\"patch_14\">\n",
       "    <path d=\"M 28.722 164.959981 \n",
       "C 29.330641 164.959981 29.914436 164.718165 30.34481 164.287791 \n",
       "C 30.775184 163.857417 31.017 163.273622 31.017 162.664981 \n",
       "C 31.017 162.05634 30.775184 161.472545 30.34481 161.042171 \n",
       "C 29.914436 160.611797 29.330641 160.369981 28.722 160.369981 \n",
       "C 28.113359 160.369981 27.529564 160.611797 27.09919 161.042171 \n",
       "C 26.668816 161.472545 26.427 162.05634 26.427 162.664981 \n",
       "C 26.427 163.273622 26.668816 163.857417 27.09919 164.287791 \n",
       "C 27.529564 164.718165 28.113359 164.959981 28.722 164.959981 \n",
       "z\n",
       "\" clip-path=\"url(#pf624a357ee)\" style=\"fill: #ffffff; stroke: #000000; stroke-width: 2; stroke-linejoin: miter\"/>\n",
       "   </g>\n",
       "   <g id=\"patch_15\">\n",
       "    <path d=\"M 89.922 42.559981 \n",
       "C 90.530641 42.559981 91.114436 42.318165 91.54481 41.887791 \n",
       "C 91.975184 41.457417 92.217 40.873622 92.217 40.264981 \n",
       "C 92.217 39.65634 91.975184 39.072545 91.54481 38.642171 \n",
       "C 91.114436 38.211797 90.530641 37.969981 89.922 37.969981 \n",
       "C 89.313359 37.969981 88.729564 38.211797 88.29919 38.642171 \n",
       "C 87.868816 39.072545 87.627 39.65634 87.627 40.264981 \n",
       "C 87.627 40.873622 87.868816 41.457417 88.29919 41.887791 \n",
       "C 88.729564 42.318165 89.313359 42.559981 89.922 42.559981 \n",
       "z\n",
       "\" clip-path=\"url(#pf624a357ee)\" style=\"stroke: #000000; stroke-width: 2; stroke-linejoin: miter\"/>\n",
       "   </g>\n",
       "   <g id=\"patch_16\">\n",
       "    <path d=\"M 89.922 164.959981 \n",
       "C 90.530641 164.959981 91.114436 164.718165 91.54481 164.287791 \n",
       "C 91.975184 163.857417 92.217 163.273622 92.217 162.664981 \n",
       "C 92.217 162.05634 91.975184 161.472545 91.54481 161.042171 \n",
       "C 91.114436 160.611797 90.530641 160.369981 89.922 160.369981 \n",
       "C 89.313359 160.369981 88.729564 160.611797 88.29919 161.042171 \n",
       "C 87.868816 161.472545 87.627 162.05634 87.627 162.664981 \n",
       "C 87.627 163.273622 87.868816 163.857417 88.29919 164.287791 \n",
       "C 88.729564 164.718165 89.313359 164.959981 89.922 164.959981 \n",
       "z\n",
       "\" clip-path=\"url(#pf624a357ee)\" style=\"stroke: #000000; stroke-width: 2; stroke-linejoin: miter\"/>\n",
       "   </g>\n",
       "   <g id=\"patch_17\">\n",
       "    <path d=\"M 212.322 42.559981 \n",
       "C 212.930641 42.559981 213.514436 42.318165 213.94481 41.887791 \n",
       "C 214.375184 41.457417 214.617 40.873622 214.617 40.264981 \n",
       "C 214.617 39.65634 214.375184 39.072545 213.94481 38.642171 \n",
       "C 213.514436 38.211797 212.930641 37.969981 212.322 37.969981 \n",
       "C 211.713359 37.969981 211.129564 38.211797 210.69919 38.642171 \n",
       "C 210.268816 39.072545 210.027 39.65634 210.027 40.264981 \n",
       "C 210.027 40.873622 210.268816 41.457417 210.69919 41.887791 \n",
       "C 211.129564 42.318165 211.713359 42.559981 212.322 42.559981 \n",
       "z\n",
       "\" clip-path=\"url(#pf624a357ee)\" style=\"stroke: #000000; stroke-width: 2; stroke-linejoin: miter\"/>\n",
       "   </g>\n",
       "   <g id=\"patch_18\">\n",
       "    <path d=\"M 212.322 164.959981 \n",
       "C 212.930641 164.959981 213.514436 164.718165 213.94481 164.287791 \n",
       "C 214.375184 163.857417 214.617 163.273622 214.617 162.664981 \n",
       "C 214.617 162.05634 214.375184 161.472545 213.94481 161.042171 \n",
       "C 213.514436 160.611797 212.930641 160.369981 212.322 160.369981 \n",
       "C 211.713359 160.369981 211.129564 160.611797 210.69919 161.042171 \n",
       "C 210.268816 161.472545 210.027 162.05634 210.027 162.664981 \n",
       "C 210.027 163.273622 210.268816 163.857417 210.69919 164.287791 \n",
       "C 211.129564 164.718165 211.713359 164.959981 212.322 164.959981 \n",
       "z\n",
       "\" clip-path=\"url(#pf624a357ee)\" style=\"stroke: #000000; stroke-width: 2; stroke-linejoin: miter\"/>\n",
       "   </g>\n",
       "   <g id=\"patch_19\">\n",
       "    <path d=\"M 334.722 42.559981 \n",
       "C 335.330641 42.559981 335.914436 42.318165 336.34481 41.887791 \n",
       "C 336.775184 41.457417 337.017 40.873622 337.017 40.264981 \n",
       "C 337.017 39.65634 336.775184 39.072545 336.34481 38.642171 \n",
       "C 335.914436 38.211797 335.330641 37.969981 334.722 37.969981 \n",
       "C 334.113359 37.969981 333.529564 38.211797 333.09919 38.642171 \n",
       "C 332.668816 39.072545 332.427 39.65634 332.427 40.264981 \n",
       "C 332.427 40.873622 332.668816 41.457417 333.09919 41.887791 \n",
       "C 333.529564 42.318165 334.113359 42.559981 334.722 42.559981 \n",
       "z\n",
       "\" clip-path=\"url(#pf624a357ee)\" style=\"fill: #ffffff; stroke: #000000; stroke-width: 2; stroke-linejoin: miter\"/>\n",
       "   </g>\n",
       "   <g id=\"patch_20\">\n",
       "    <path d=\"M 334.722 164.959981 \n",
       "C 335.330641 164.959981 335.914436 164.718165 336.34481 164.287791 \n",
       "C 336.775184 163.857417 337.017 163.273622 337.017 162.664981 \n",
       "C 337.017 162.05634 336.775184 161.472545 336.34481 161.042171 \n",
       "C 335.914436 160.611797 335.330641 160.369981 334.722 160.369981 \n",
       "C 334.113359 160.369981 333.529564 160.611797 333.09919 161.042171 \n",
       "C 332.668816 161.472545 332.427 162.05634 332.427 162.664981 \n",
       "C 332.427 163.273622 332.668816 163.857417 333.09919 164.287791 \n",
       "C 333.529564 164.718165 334.113359 164.959981 334.722 164.959981 \n",
       "z\n",
       "\" clip-path=\"url(#pf624a357ee)\" style=\"fill: #ffffff; stroke: #000000; stroke-width: 2; stroke-linejoin: miter\"/>\n",
       "   </g>\n",
       "  </g>\n",
       " </g>\n",
       " <defs>\n",
       "  <clipPath id=\"pf624a357ee\">\n",
       "   <rect x=\"7.2\" y=\"7.2\" width=\"497.403\" height=\"219.724981\"/>\n",
       "  </clipPath>\n",
       " </defs>\n",
       "</svg>\n"
      ],
      "text/plain": [
       "<schemdraw.schemdraw.Drawing at 0x7f75adef2320>"
      ]
     },
     "metadata": {},
     "output_type": "display_data"
    }
   ],
   "source": [
    "d = dibujar_puerto_entrada('',\n",
    "                        voltage_lbl = ('+', '$V$', '-'), \n",
    "                        current_lbl = '$I$')\n",
    "\n",
    "\n",
    "d = dibujar_elemento_derivacion(d, Capacitor, C1)\n",
    "d = dibujar_elemento_serie(d, Inductor, L2)\n",
    "d = dibujar_elemento_derivacion(d, Inductor, L1)\n",
    "d = dibujar_espacio_derivacion(d)\n",
    "d = dibujar_puerto_salida(d, \n",
    "                        voltage_lbl = ('+', '$V2$', '-'), \n",
    "                        current_lbl = '$I2$')\n",
    "d, zz_lbl = dibujar_funcion_exc_abajo(d, \n",
    "                                          'Z22',  \n",
    "                                          Z22, \n",
    "                                          hacia_entrada= True,\n",
    "                                          k_gap_width = 0.5)\n",
    "display(d)"
   ]
  },
  {
   "cell_type": "markdown",
   "id": "e7ffcf77",
   "metadata": {},
   "source": [
    "### Simulación Circuital:"
   ]
  },
  {
   "cell_type": "markdown",
   "id": "c6afa155",
   "metadata": {},
   "source": [
    "Procedemos a simular la transimpedancia que presenta el circuito:"
   ]
  },
  {
   "cell_type": "markdown",
   "id": "57aa7f81",
   "metadata": {},
   "source": [
    "<img src=\"./rsc/sim/ej2.png\" align=\"center\" width=\"1196\" height=\"599\" />   "
   ]
  },
  {
   "cell_type": "markdown",
   "id": "1444238b",
   "metadata": {},
   "source": [
    "Se observa que se comporta como un filtro pasa-altos con una atenuación de 1,58 dB en la banda de paso y una frecuencia de corte en 598 mHz"
   ]
  },
  {
   "cell_type": "markdown",
   "id": "84421207",
   "metadata": {},
   "source": [
    "<div class=\"alert alert-success text-left\">\n",
    "<img src=\"./rsc/logo_UTN.svg\" align=\"right\" width=\"150\" /> \n",
    "<center> \n",
    "    <a name=\"anexo\">\n",
    "        <h1> ANEXO </h1>\n",
    "    </a> \n",
    "</center>\n",
    "</div>\n"
   ]
  },
  {
   "cell_type": "code",
   "execution_count": 2,
   "id": "21f804d4",
   "metadata": {
    "scrolled": false
   },
   "outputs": [
    {
     "data": {
      "text/html": [
       "\n",
       "        <iframe\n",
       "            width=\"1000\"\n",
       "            height=\"1000\"\n",
       "            src=\"./rsc/resolucion.pdf\"\n",
       "            frameborder=\"0\"\n",
       "            allowfullscreen\n",
       "            \n",
       "        ></iframe>\n",
       "        "
      ],
      "text/plain": [
       "<IPython.lib.display.IFrame at 0x7f2c642828c0>"
      ]
     },
     "execution_count": 2,
     "metadata": {},
     "output_type": "execute_result"
    }
   ],
   "source": [
    "IFrame(\"./rsc/resolucion.pdf\", width=1000, height=1000)"
   ]
  },
  {
   "cell_type": "markdown",
   "id": "fddfe9d3",
   "metadata": {},
   "source": [
    "------------------------"
   ]
  }
 ],
 "metadata": {
  "kernelspec": {
   "display_name": "Python 3 (ipykernel)",
   "language": "python",
   "name": "python3"
  },
  "language_info": {
   "codemirror_mode": {
    "name": "ipython",
    "version": 3
   },
   "file_extension": ".py",
   "mimetype": "text/x-python",
   "name": "python",
   "nbconvert_exporter": "python",
   "pygments_lexer": "ipython3",
   "version": "3.10.7"
  }
 },
 "nbformat": 4,
 "nbformat_minor": 5
}
