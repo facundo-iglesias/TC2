{
 "cells": [
  {
   "cell_type": "markdown",
   "id": "9c0cba7c",
   "metadata": {},
   "source": [
    "<div class=\"alert alert-success text-left\">\n",
    "<img src=\"./rsc/logo_UTN.svg\" align=\"right\" width=\"150\" /> \n",
    "<center> <h1>Tarea Semanal 7</h1></center>\n",
    "<h3> Teoría de circuitos 2 </h3>\n",
    "<h3> 2do Cuatrimestre 2023 </h3>    \n",
    "<h3> Facundo N. Iglesias </h3>    \n",
    "</div>"
   ]
  },
  {
   "cell_type": "markdown",
   "id": "5fc9156e",
   "metadata": {},
   "source": [
    "<div class=\"alert alert-success text-left\">\n",
    "\n",
    "<img src=\"./rsc/logo_UTN.svg\" align=\"right\" width=\"150\" /> \n",
    "\n",
    "<center> <h1>INDICE</h1></center>\n",
    "    \n",
    "</div>"
   ]
  },
  {
   "cell_type": "markdown",
   "id": "ed0656f8",
   "metadata": {},
   "source": [
    "0. [LIBRERIAS](#id0)\n",
    "\n",
    "1. [EJERCICIO 1](#id1)\n",
    "    - [1.1 Interconexión 1](#id1.2)\n",
    "    - [1.2 Interconexión 2](#id1.3)\n",
    "    - [1.3 Parámetros Z  ](#id1.4)\n",
    "    - [1.4 Simulación en LtSpice  ](#id1.5)\n",
    "\n",
    "2. [EJERCICIO 2](#id2)\n",
    "   - [2.1 Parámetros T interconexión en cascada](#id2.1)\n",
    "   - [2.2 Matriz Admitancia Indefinida (MAI)](#id2.2)\n",
    "   - [2.3 Simulación de la transferencia de tensión en LtSpice](#id2.3)\n",
    "   - [2.4 Matriz MAI y propiedades con SimPy](#id2.4)\n",
    "   - [2.5 Computación de transferencia de tensión con MAI utilizando SimPy](#id2.5)\n",
    "   - [2.6 Computación de impedancia de excitación con MAI utilizando SimPy](#id2.6)\n",
    "   \n",
    "3. [ANEXO](#id3)\n",
    "    - [3.1 Cálculos Ejercicio 1](#id3.1)\n",
    "    - [3.2 Cálculos Ejercicio 2](#id3.2)\n",
    "    - [3.3 Código de funciones para calcular matrices de cofactores de orden N](#id3.3)\n",
    "\n"
   ]
  },
  {
   "cell_type": "markdown",
   "id": "f8fd7820",
   "metadata": {},
   "source": [
    "<div class=\"alert alert-success text-left\">\n",
    "<img src=\"./rsc/logo_UTN.svg\" align=\"right\" width=\"150\" /> \n",
    "<center> \n",
    "    <a name=\"id0\">\n",
    "        <h1> LIBRERIAS</h1>\n",
    "    </a> \n",
    "</center>\n",
    "</div>"
   ]
  },
  {
   "cell_type": "code",
   "execution_count": 214,
   "id": "5b258219",
   "metadata": {},
   "outputs": [],
   "source": [
    "from IPython.display import IFrame, display, Math\n",
    "from numpy import sqrt\n",
    "import numpy as np\n",
    "import matplotlib.pyplot as plt\n",
    "from pytc2.general import Chebyshev_polynomials \n",
    "from pytc2.sistemas_lineales import analyze_sys,  tf2sos_analog\n",
    "import scipy.signal as sig\n",
    "import sympy as sp\n",
    "from sympy.abc import s\n",
    "from sympy.parsing.sympy_parser import parse_expr\n",
    "from sympy.solvers import solve\n",
    "from sympy import Matrix"
   ]
  },
  {
   "cell_type": "markdown",
   "id": "f433b501",
   "metadata": {},
   "source": [
    "<div class=\"alert alert-success text-left\">\n",
    "<img src=\"./rsc/logo_UTN.svg\" align=\"right\" width=\"150\" /> \n",
    "<center> \n",
    "    <a name=\"id1\">\n",
    "        <h1>EJERCICIO 1</h1>\n",
    "    </a>    \n",
    "</center>\n",
    "</div>"
   ]
  },
  {
   "cell_type": "markdown",
   "id": "0294f59c",
   "metadata": {},
   "source": [
    "<img src=\"./rsc/ejercicio1.png\" align=\"center\" width=\"518\" height=\"539\" /> \n"
   ]
  },
  {
   "cell_type": "markdown",
   "id": "7ef91864",
   "metadata": {},
   "source": [
    "<a name=\"id1.2\">\n",
    "   <h2>Interconexión 1</h2>\n",
    "</a>\n",
    "En principio se plantea a simple vista la siguiente interconexión en la cual se identifica que el cuadripolo 2 es de tipo PI y se encuentra conectado en paralelo al cuadripolo 1 correspondiente a un transformador ideal:"
   ]
  },
  {
   "cell_type": "markdown",
   "id": "e7e09c47",
   "metadata": {},
   "source": [
    "<img src=\"./rsc/sim/Ej1-Interconexion1.png\" align=\"center\" width=\"600\" height=\"300\" /> \n",
    "\n",
    "Por lo tanto, lo más conveniente resulta:\n",
    "- Calcular los parámetros Y del circuito PI.\n",
    "- Calcular los parámetros T del transformador y convertirlos a Y.\n",
    "- Sumar matricialmente los parámetros Y.\n",
    "- Finalmente convertir a parámetros Z."
   ]
  },
  {
   "cell_type": "markdown",
   "id": "36e09c56",
   "metadata": {},
   "source": [
    "Los parámetros se obtuvieron por definición en el anexo de cálculos, llegando a la siguiente matriz de parámetros Y para el circuito PI:\n",
    "\n",
    "$\n",
    "\\left(\n",
    "\\begin{array}{ll}\n",
    "\\frac{3}{2} & \\frac{-1}{2} \\\\\n",
    "\\frac{-1}{2} & \\frac{5}{6}\n",
    "\\end{array}\n",
    "\\right)\n",
    "$\n"
   ]
  },
  {
   "cell_type": "markdown",
   "id": "adb4ad7d",
   "metadata": {},
   "source": [
    "Para el caso del transformador con bornes homólogos opuestos la matriz T obtenida es:\n",
    "\n",
    "$\n",
    "\\left(\n",
    "\\begin{array}{ll}\n",
    "-a & 0 \\\\\n",
    "0 & \\frac{-1}{a}\n",
    "\\end{array}\n",
    "\\right)\n",
    "$=\n",
    "$\n",
    "\\left(\n",
    "\\begin{array}{ll}\n",
    "-1 & 0 \\\\\n",
    "0 & -1\n",
    "\\end{array}\n",
    "\\right)\n",
    "$\n",
    "\n",
    "a: Relación de transformación.\n"
   ]
  },
  {
   "cell_type": "markdown",
   "id": "3350f476",
   "metadata": {},
   "source": [
    "El problema ocurre al intentar obtener los parámetros Y:\n",
    "\n",
    "\\begin{equation}\n",
    "Y_{11}=\\frac{I_1}{V_1}|_{V_2=0}=\\frac{\\frac{-1}{a}(-I_2)}{-aV_2} = \\infty\n",
    "\\end{equation}\n",
    "\n",
    "Donde se observa que estos no están definidos."
   ]
  },
  {
   "cell_type": "markdown",
   "id": "a5605916",
   "metadata": {},
   "source": [
    "<a name=\"id1.3\">\n",
    "   <h2>Interconexión 2</h2>\n",
    "</a>\n",
    "Como la matriz equivalente del transformador no está definida para parámetros Y, se plantea una nueva interconexión: \n",
    "\n",
    "<img src=\"./rsc/sim/Ej1-Interconexion2.png\" align=\"center\" width=\"600\" height=\"300\" /> \n",
    "\n",
    "Por lo tanto, lo más conveniente resulta:\n",
    "- Calcular los parámetros T de los cuadripolos 1,2 y 4.\n",
    "- Transformar los parámetros T en Y.\n",
    "- Calcular los parametros Y del cuadripolo 3 y sumarlos con el resultante del paso anterior.\n",
    "- Transformar a parámetros Z."
   ]
  },
  {
   "cell_type": "markdown",
   "id": "9d53d063",
   "metadata": {},
   "source": [
    "Los parámetros se obtuvieron por definición en el anexo de cálculos, llegando a las siguientes matrices:\n",
    "\n",
    "TR1=\n",
    "$\n",
    "\\left(\n",
    "\\begin{array}{ll}\n",
    "1 & 0 \\\\\n",
    "1 & 1\n",
    "\\end{array}\n",
    "\\right)\n",
    "$\n",
    "\n",
    "TR3=\n",
    "$\n",
    "\\left(\n",
    "\\begin{array}{ll}\n",
    "1 & 0 \\\\\n",
    "\\frac{1}{3} & 1\n",
    "\\end{array}\n",
    "\\right)\n",
    "$\n",
    "\n",
    "TTrafo=\n",
    "$\n",
    "\\left(\n",
    "\\begin{array}{ll}\n",
    "-1 & 0 \\\\\n",
    "0 & -1\n",
    "\\end{array}\n",
    "\\right)\n",
    "$\n",
    "\n",
    "Nota: Se observa que el determinante es igual a 1 para todas las matrices, algo caracteristico de las matrices de parámetros T cuando la red que representan es pasiva. \n",
    "\n",
    "Como los cuadripolos están conectados en cascada la matriz resultante resulta de la multiplicación de las 3 anteriores:\n",
    "\n",
    "Ttotal=\n",
    "$\n",
    "\\left(\n",
    "\\begin{array}{ll}\n",
    "1 & 0 \\\\\n",
    "1 & 1\n",
    "\\end{array}\n",
    "\\right)\n",
    "$\n",
    ".\n",
    "$\n",
    "\\left(\n",
    "\\begin{array}{ll}\n",
    "-1 & 0 \\\\\n",
    "0 & -1\n",
    "\\end{array}\n",
    "\\right)\n",
    "$\n",
    ".\n",
    "$\n",
    "\\left(\n",
    "\\begin{array}{ll}\n",
    "1 & 0 \\\\\n",
    "\\frac{1}{3} & 1\n",
    "\\end{array}\n",
    "\\right)\n",
    "$\n",
    "=\n",
    "$\n",
    "\\left(\n",
    "\\begin{array}{ll}\n",
    "-1 & 0 \\\\\n",
    "\\frac{-4}{3} & -1\n",
    "\\end{array}\n",
    "\\right)\n",
    "$\n",
    "\n"
   ]
  },
  {
   "cell_type": "markdown",
   "id": "e6938c9d",
   "metadata": {},
   "source": [
    "Se observa que en la matriz T resultante el parámetro \"B\" es nulo y al ser el denominador común de la matriz que resulta de convertir los parámetros en Y, esta termina siendo nuevamente indefinida. La justificación analítica se encuentra en el anexo de cálculos."
   ]
  },
  {
   "cell_type": "markdown",
   "id": "180c31b7",
   "metadata": {},
   "source": [
    "<a name=\"id1.4\">\n",
    "   <h2>Parámetros Z</h2>\n",
    "</a>\n",
    "Se propone analizar el circuito de forma completa obteniendo los parámetros Z por definición y de forma directa:\n",
    "\n",
    "<img src=\"./rsc/sim/Ej1-ParametrosZ.png\" align=\"center\" width=\"600\" height=\"300\" /> \n",
    "\n",
    "Del cual se desprenden las siguientes ecuaciones:\n",
    "\n",
    "\\begin{equation}\n",
    "V1_{trafo} = -V2_{trafo}\n",
    "\\end{equation}\n",
    "\n",
    "\\begin{equation}\n",
    "I1_{trafo} = I2_{trafo}\n",
    "\\end{equation}\n",
    "\n",
    "\\begin{equation}\n",
    "I1 = I_{R2} + I1_{trafo} + I_{R1}\n",
    "\\end{equation}\n",
    "\n",
    "\\begin{equation}\n",
    "I1 = \\frac{V1-V2}{2} + I1_{trafo}+V1\n",
    "\\end{equation}\n",
    "\n",
    "\\begin{equation}\n",
    "I2 = -I_{R2} + I2_{trafo} + I_{R3}\n",
    "\\end{equation}\n",
    "\n",
    "\\begin{equation}\n",
    "I2 = -\\frac{V1-V2}{2} + I2_{trafo} + \\frac{V2}{3}\n",
    "\\end{equation}\n",
    "\n"
   ]
  },
  {
   "cell_type": "markdown",
   "id": "ef56cf0f",
   "metadata": {},
   "source": [
    "A partir de las ecuaciones obtenidas del circuito, se utiliza el modulo de calculo Sympy para resolver el sistema y proceder a calcular los parámetros Z por definición:"
   ]
  },
  {
   "cell_type": "code",
   "execution_count": 60,
   "id": "944def92",
   "metadata": {},
   "outputs": [
    {
     "data": {
      "text/latex": [
       "$\\displaystyle I_{1} - I_{2} - 2 V_{1} + \\frac{4 V_{2}}{3}$"
      ],
      "text/plain": [
       "I1 - I2 - 2*V1 + 4*V2/3"
      ]
     },
     "execution_count": 60,
     "metadata": {},
     "output_type": "execute_result"
    }
   ],
   "source": [
    "V1, V2, I1, I2, V1t, V2t, I1t, I2t = sp.symbols(\"V1, V2, I1, I2, V1t, V2t, I1t, I2t\")\n",
    "R1, R2, R3 = sp.symbols(\"R1, R2, R3\")\n",
    "\n",
    "sistema = sp.solve([\n",
    "                I1-I1t-V1-((V1-V2)/2),\n",
    "                I2-I2t-(V2/3)+(V1-V2)/2\n",
    "            ], \n",
    "            [I1t,I2t])\n",
    "\n",
    "ecuacion = sistema[I1t] - sistema[I2t]\n",
    "ecuacion"
   ]
  },
  {
   "cell_type": "markdown",
   "id": "70c82cc7",
   "metadata": {},
   "source": [
    "#### Parámetro Z11\n",
    "Impedancia de entrada del circuito en vacío:\n",
    "\\begin{equation}\n",
    "Z_{11} = \\frac{V1}{I1}|_{I2=0}\n",
    "\\end{equation}"
   ]
  },
  {
   "cell_type": "code",
   "execution_count": 67,
   "id": "d297db42",
   "metadata": {},
   "outputs": [
    {
     "data": {
      "text/latex": [
       "$\\displaystyle \\frac{3}{10}$"
      ],
      "text/plain": [
       "3/10"
      ]
     },
     "execution_count": 67,
     "metadata": {},
     "output_type": "execute_result"
    }
   ],
   "source": [
    "sistema = sp.solve([\n",
    "                V1+V2,\n",
    "                ecuacion,\n",
    "                ],\n",
    "                [V1,I1])\n",
    "sistema[V1]/sistema[I1].subs(I2,0)"
   ]
  },
  {
   "cell_type": "markdown",
   "id": "bc10eb01",
   "metadata": {},
   "source": [
    "#### Parámetro Z12\n",
    "Transimpedancia o impedancia de transferencia de entrada a salida:\n",
    "\\begin{equation}\n",
    "Z_{12} = \\frac{V1}{I2}|_{I1=0}\n",
    "\\end{equation}"
   ]
  },
  {
   "cell_type": "code",
   "execution_count": 71,
   "id": "ba1c01a4",
   "metadata": {},
   "outputs": [
    {
     "data": {
      "text/latex": [
       "$\\displaystyle - \\frac{3}{10}$"
      ],
      "text/plain": [
       "-3/10"
      ]
     },
     "execution_count": 71,
     "metadata": {},
     "output_type": "execute_result"
    }
   ],
   "source": [
    "sistema = sp.solve([\n",
    "                V1+V2,\n",
    "                ecuacion,\n",
    "                ],\n",
    "                [V1,I2])\n",
    "sistema[V1]/sistema[I2].subs(I1,0)"
   ]
  },
  {
   "cell_type": "markdown",
   "id": "c85cc2ba",
   "metadata": {},
   "source": [
    "#### Parámetro Z21\n",
    "Transimpedancia o impedancia de transferencia de salida a entrada:\n",
    "\\begin{equation}\n",
    "Z_{21} = \\frac{V2}{I1}|_{I2=0}\n",
    "\\end{equation}"
   ]
  },
  {
   "cell_type": "code",
   "execution_count": 74,
   "id": "afe36741",
   "metadata": {},
   "outputs": [
    {
     "data": {
      "text/latex": [
       "$\\displaystyle - \\frac{3}{10}$"
      ],
      "text/plain": [
       "-3/10"
      ]
     },
     "execution_count": 74,
     "metadata": {},
     "output_type": "execute_result"
    }
   ],
   "source": [
    "sistema = sp.solve([\n",
    "                V1+V2,\n",
    "                ecuacion,\n",
    "                ],\n",
    "                [V2,I1])\n",
    "sistema[V2]/sistema[I1].subs(I2,0)"
   ]
  },
  {
   "cell_type": "markdown",
   "id": "f64b3867",
   "metadata": {},
   "source": [
    "#### Parámetro Z22\n",
    "Impedancia de salida:\n",
    "\\begin{equation}\n",
    "Z_{22} = \\frac{V2}{I2}|_{I1=0}\n",
    "\\end{equation}"
   ]
  },
  {
   "cell_type": "code",
   "execution_count": 75,
   "id": "0c544a0e",
   "metadata": {},
   "outputs": [
    {
     "data": {
      "text/latex": [
       "$\\displaystyle \\frac{3}{10}$"
      ],
      "text/plain": [
       "3/10"
      ]
     },
     "execution_count": 75,
     "metadata": {},
     "output_type": "execute_result"
    }
   ],
   "source": [
    "sistema = sp.solve([\n",
    "                V1+V2,\n",
    "                ecuacion,\n",
    "                ],\n",
    "                [V2,I2])\n",
    "sistema[V2]/sistema[I2].subs(I1,0)"
   ]
  },
  {
   "cell_type": "markdown",
   "id": "57a89544",
   "metadata": {},
   "source": [
    "Finalmente, la Matriz de parámetros Z resultante es:\n",
    "\n",
    "$\n",
    "\\left(\n",
    "\\begin{array}{ll}\n",
    "\\frac{3}{10} & \\frac{-3}{10} \\\\\n",
    "\\frac{-3}{10} & \\frac{3}{10}\n",
    "\\end{array}\n",
    "\\right)\n",
    "$\n",
    "=\n",
    "\n",
    "Donde podemos observar que la red es recíproca y también simétrica. \n",
    "\\begin{equation}\n",
    "Reciprocidad: Z_{12} = Z_{21}\n",
    "\\end{equation}\n",
    "\n",
    "Condición que se cumplirá siempre que la red sea pasiva.\n",
    "\n",
    "\\begin{equation}\n",
    "Simetría: Z_{11} = Z_{22}\n",
    "\\end{equation}\n",
    "\n",
    "Condición que se cumplirá siempre y cuando la relación de transformación sea unitaria.\n"
   ]
  },
  {
   "cell_type": "markdown",
   "id": "2ef96af0",
   "metadata": {},
   "source": [
    "<a name=\"id1.5\">\n",
    "   <h2>Simulación en LtSPice</h2>\n",
    "</a>\n",
    "Luego de realizar una análisis de \"network parameters\" en LtSpice se obtuvo la siguiente simulación:\n",
    "\n",
    "<img src=\"./rsc/sim/Ej1-network.png\" align=\"center\" width=\"1288\" height=\"604\" /> \n",
    "\n",
    "En la imagen se puede observar la respuesta de modulo y fase correspondiente a cada uno de los parámetros de red del circuito.\n",
    "Los cursores están puestos sobre Z11 y Z12, indicando una fase de 0° y 180° respectivamente en regimen permanente. El modulo se observa que es de 0,3 Ohm para todos los parámetros y se verifica que los resultados se condicen con la matriz obtenida analiticamente."
   ]
  },
  {
   "cell_type": "markdown",
   "id": "5c052868",
   "metadata": {},
   "source": [
    "<div class=\"alert alert-success text-left\">\n",
    "\n",
    "<img src=\"./rsc/logo_UTN.svg\" align=\"right\" width=\"150\" /> \n",
    "\n",
    "<center> \n",
    "    <a name=\"id2\">\n",
    "       <h1>Ejercicio 2</h1>\n",
    "    </a>    \n",
    "</center>\n",
    "    \n",
    "</div>"
   ]
  },
  {
   "cell_type": "markdown",
   "id": "a9502697",
   "metadata": {},
   "source": [
    "<img src=\"./rsc/ejercicio2.png\" align=\"center\" width=\"1229\" height=\"400\" /> "
   ]
  },
  {
   "cell_type": "markdown",
   "id": "0d397e96",
   "metadata": {},
   "source": [
    "<a name=\"id2.1\">\n",
    "   <h2>Parámetros T interconexión en cascada</h2>\n",
    "</a>"
   ]
  },
  {
   "cell_type": "markdown",
   "id": "fde74879",
   "metadata": {},
   "source": [
    "A simple vista se identifica que el circuito tiene la forma de una red escalera por lo tanto, se puede descomponer en dos etapas interconectadas en cascada. Se propone seguir los siguientes pasos:\n",
    "- Obtener los parametros T de una red genérica compuesta por una impedancia en serie y una admitancia en derivación.\n",
    "- Obtener los parámetros T de ambas redes y\n",
    "- Como las redes están en cascada, multiplicar matricialmente para obtener la matriz final que representa el comportamiento eléctrico del circuito completo."
   ]
  },
  {
   "cell_type": "markdown",
   "id": "0c8dd795",
   "metadata": {},
   "source": [
    "#### Cuadripolo genérico ZY\n",
    "En primer lugar se procede a obtener la matriz de parámetros T del siguiente cuadripolo:\n",
    "<img src=\"./rsc/circuitoZY.png\" align=\"center\" width=\"540\" height=\"480\" /> \n",
    "\n",
    "El calculo de los parámetros por definición se encuentra en el anexo de calculos, donde se arribó al siguiente resultado:\n",
    "\n",
    "$\n",
    "\\left(\n",
    "\\begin{array}{ll}\n",
    "ZY+1 & Z \\\\\n",
    "Y & 1\n",
    "\\end{array}\n",
    "\\right)\n",
    "$\n",
    "=\n"
   ]
  },
  {
   "cell_type": "markdown",
   "id": "eedce7c6",
   "metadata": {},
   "source": [
    "Reemplazando por valores de los componentes del circuito se obtienen las siguientes matrices:\n",
    "\n",
    "T1 = \n",
    "$\n",
    "\\left(\n",
    "\\begin{array}{ll}\n",
    "2s²+1 & \\frac{3}{2}s \\\\\n",
    "\\frac{4}{3} & 1\n",
    "\\end{array}\n",
    "\\right)\n",
    "$\n",
    "y\n",
    "T2=\n",
    "$\n",
    "\\left(\n",
    "\\begin{array}{ll}\n",
    "\\frac{s}{2}+1 & \\frac{s}{2}  \\\\\n",
    "1 & 1\n",
    "\\end{array}\n",
    "\\right)\n",
    "$\n",
    "\n",
    "Luego la matriz del circuito resulta de multiplicar matricialmente T1 y T2:\n",
    "\n",
    "Tt = \n",
    "$\n",
    "\\left(\n",
    "\\begin{array}{ll}\n",
    "2s²+1 & \\frac{3}{2}s \\\\\n",
    "\\frac{4}{3} & 1\n",
    "\\end{array}\n",
    "\\right)\n",
    "$\n",
    "*\n",
    "$\n",
    "\\left(\n",
    "\\begin{array}{ll}\n",
    "\\frac{s}{2}+1 & \\frac{s}{2}  \\\\\n",
    "1 & 1\n",
    "\\end{array}\n",
    "\\right)\n",
    "$\n",
    "=\n",
    "$\n",
    "\\left(\n",
    "\\begin{array}{ll}\n",
    "s³+2s²+2s+1 & s³+2s  \\\\\n",
    "\\frac{2}{3}s²+\\frac{4}{3}s+1 & \\frac{2}{3}s²+1\n",
    "\\end{array}\n",
    "\\right)\n",
    "$\n"
   ]
  },
  {
   "cell_type": "markdown",
   "id": "7e889426",
   "metadata": {},
   "source": [
    "Donde se puede observar que la transferencia de tensión es la inversa del parámetro A:\n",
    "\n",
    "\\begin{equation}\n",
    "A = \\frac{V_1}{V_2}|_{-I_2=0}  \\rightarrow \\boxed{\\frac{V_o}{V_i} = \\frac{1}{s³+2s²+2s+1}}\n",
    "\\end{equation}\n",
    "\n",
    "También se puede expresar como:\n",
    "\\begin{equation}\n",
    "\\boxed{T(s) = \\frac{1}{(s²+s+1)(s+1)}}\n",
    "\\end{equation}\n",
    "\n",
    "En la expresión de la transferencia se puede observar que cumple con lo indicado en la consigna, el polo real tanto como los polos complejos conjugados se encuentran ubicados en una circunferencia de radio unitario. Además es una transferencia normalizada en frecuencia cuyo denominador corresponde a un polinomio de Butterworth de orden 3:\n",
    "\n",
    "<img src=\"./rsc/tablaButter.png\" align=\"center\" width=\"635\" height=\"651\" /> \n",
    "\n",
    "Por lo tanto, el circuito se comporta como un filtro pasa-bajos que presenta máxima planicidad en la banda de paso.\n",
    "\n",
    "Para verificar lo deducido anteriormente a partir de la función transferencia, se procede a realizar una simulación simbólica:"
   ]
  },
  {
   "cell_type": "code",
   "execution_count": 6,
   "id": "00cd25a3",
   "metadata": {},
   "outputs": [
    {
     "data": {
      "image/png": "[encoded data removed]",
      "text/plain": [
       "<Figure size 640x480 with 2 Axes>"
      ]
     },
     "metadata": {},
     "output_type": "display_data"
    },
    {
     "data": {
      "image/png": "[encoded data removed]",
      "text/plain": [
       "<Figure size 640x480 with 1 Axes>"
      ]
     },
     "metadata": {},
     "output_type": "display_data"
    },
    {
     "data": {
      "image/png": "[encoded data removed]",
      "text/plain": [
       "<Figure size 640x480 with 1 Axes>"
      ]
     },
     "metadata": {},
     "output_type": "display_data"
    }
   ],
   "source": [
    "num = [1]\n",
    "den = [1, 2, 2, 1]\n",
    "analyze_sys([sig.TransferFunction(num, den)], ['lp_norm'])"
   ]
  },
  {
   "cell_type": "markdown",
   "id": "753d51af",
   "metadata": {},
   "source": [
    "En la respuesta en frecuencia de modulo y fase podemos ver que se verifica lo deducido a partir de la expresión obtenida."
   ]
  },
  {
   "cell_type": "markdown",
   "id": "f5cc5a30",
   "metadata": {},
   "source": [
    "<a name=\"id2.2\">\n",
    "   <h2>Matriz Admitancia Indefinida (MAI)</h2>\n",
    "</a>\n",
    "\n",
    "La matriz admitancia indefinida se calculó aplicando la primera ley de Kirchhoff en cada uno de los nodos del circuito, el desarrollo se encuentra en el anexo de calculos en el cual se llegó al siguiente resultado:\n",
    "\n",
    "\n",
    "$\n",
    "Y=\n",
    "\\left(\n",
    "\\begin{array}{ll}\n",
    "Y_1 & -Y_1 & 0 & 0  \\\\\n",
    "-Y_1 & Y_1+Y_2+Y_3 & -Y_2 & -Y_4 \\\\\n",
    "0 & -Y_2 & Y_2+Y_3 & -Y_3 \\\\\n",
    "0 & -Y_4 & -Y_3 & Y_3+Y_4\n",
    "\\end{array}\n",
    "\\right)\n",
    "$\n",
    "\\begin{equation}\n",
    "Y_1 = \\frac{1}{sL_1} \\space\\space\\space Y_2= \\frac{1}{L_2} \\space\\space\\space Y_3=\\frac{1}{R}\\space\\space\\space Y_4=sC \n",
    "\\end{equation}\n",
    "\n",
    "La transferencia de tensión es:\n",
    "\n",
    "\\begin{equation}\n",
    "V^{ij}_{mn} = \\frac{V_{ij}}{V_{mn}} = sig(i-j)*sig(m-n)  \\frac{Y^{ij}_{mn}}{Y^{mn}_{mn}}\n",
    "\\end{equation}\n",
    "\n",
    "El termino:\n",
    "\\begin{equation}\n",
    "Y^{ij}_{mn} \n",
    "\\end{equation}\n",
    "Es el determinante de la matriz resultante de suprimir las filas \"i\" y \"j\" y las columnas \"m\" y \"n\", para el caso:\n",
    "\n",
    "\\begin{equation}\n",
    "\\frac{V_{23}}{V_{03}} = sig(-1)*sig(-3)  \\frac{Y^{23}_{03}}{Y^{03}_{03}}\n",
    "\\end{equation}\n",
    "\n",
    "$\n",
    "\\begin{equation}\n",
    "Y^{23}_{03} = det  \n",
    "\\end{equation}\n",
    "\\left(\n",
    "\\begin{array}{ll}\n",
    "-Y_1 & Y_1+Y_2+Y_4 \\\\\n",
    "0 & -Y_2\n",
    "\\end{array}\n",
    "\\right)\n",
    "= Y_1*Y2\n",
    "$\n",
    "\n",
    "$\n",
    "\\begin{equation}\n",
    "Y^{03}_{03} = det  \n",
    "\\end{equation}\n",
    "\\left(\n",
    "\\begin{array}{ll}\n",
    "Y_1 + Y_2+Y_4 & -Y_2 \\\\\n",
    "-Y_2 & Y_2+Y_3\n",
    "\\end{array}\n",
    "\\right)\n",
    "= (Y_1+Y_2+Y_4)*(Y_2+Y_3)-Y_2²\n",
    "$\n"
   ]
  },
  {
   "cell_type": "markdown",
   "id": "bdea5270",
   "metadata": {},
   "source": [
    "El algebra aplicada para llegar al siguiente resultado se encuentra en el anexo de calculos:\n",
    "\\begin{equation}\n",
    "\\boxed{\\frac{V_o}{V_i} = \\frac{1}{s³+2s²+2s+1}}\n",
    "\\end{equation}\n",
    "\n",
    "Donde se puede observar que se llegó al mismo resultado que planteando la interconexión y los parámetros T."
   ]
  },
  {
   "cell_type": "markdown",
   "id": "5349af55",
   "metadata": {},
   "source": [
    "<a name=\"id2.3\">\n",
    "   <h2>Simulación de la transferencia de tensión en LtSpice</h2>\n",
    "</a>"
   ]
  },
  {
   "cell_type": "markdown",
   "id": "10927e19",
   "metadata": {},
   "source": [
    "<img src=\"./rsc/sim/Ej2-simulacion.png\" align=\"center\" width=\"1283\" height=\"580\" /> \n",
    "\n",
    "En la captura de la simulación se observa tal como se indicó en la simulación simbólica:\n",
    "- La caída de 3 dB del modulo para la frecuencia normalizada de 1rad/s.\n",
    "- Máxima planicidad en la banda de paso correspondiente con una transferencia de Butterworth.\n",
    "- Rotación de 0° a 270° debido a que cada uno de los 3 polos aportan 90° cuando la frecuencia tiende a infinito."
   ]
  },
  {
   "cell_type": "markdown",
   "id": "915b119e",
   "metadata": {},
   "source": [
    "<a name=\"id2.4\">\n",
    "   <h2>Matriz MAI y propiedades con SimPy</h2>\n",
    "</a>\n",
    "Se procederá a determinar la impedancia de entrada del circuito y la transferencia de tensión empleando las herramientas de cálculo matricial que brinda la librería SimPy de Python. Para ello, construimos la MAI reemplazando por los valores de los componentes:\n",
    "\n",
    "$\n",
    "Y_{MAI}=\n",
    "\\left(\n",
    "\\begin{array}{ll}\n",
    "\\frac{2}{3s}  & -\\frac{2}{3s}    &   0   &  0 \\\\\n",
    "-\\frac{2}{3s} & \\frac{2}{3s} + \\frac{2}{s} + \\frac{4}{3}s   & -\\frac{2}{s} & -\\frac{4}{3}s     \\\\  \n",
    "0             & -\\frac{2}{s} & \\frac{2}{s} + 1 & -1 \\\\\n",
    "0             & -\\frac{4}{3}s & -1 & 1+\\frac{4}{3}s\n",
    "\\end{array}\n",
    "\\right)\n",
    "$\n",
    "\n",
    "Cargamos la matriz en un array de SimPy:"
   ]
  },
  {
   "cell_type": "code",
   "execution_count": 189,
   "id": "4163babb",
   "metadata": {},
   "outputs": [
    {
     "data": {
      "text/latex": [
       "$\\displaystyle \\left[\\begin{matrix}\\frac{2}{3 s} & - \\frac{2}{3 s} & 0 & 0\\\\- \\frac{2}{3 s} & \\frac{4 s}{3} + \\frac{8}{3 s} & - \\frac{2}{s} & - \\frac{4 s}{3}\\\\0 & - \\frac{2}{s} & 1 + \\frac{2}{s} & -1\\\\0 & - \\frac{4 s}{3} & -1 & \\frac{4 s}{3} + 1\\end{matrix}\\right]$"
      ],
      "text/plain": [
       "Matrix([\n",
       "[ 2/(3*s),        -2/(3*s),       0,         0],\n",
       "[-2/(3*s), 4*s/3 + 8/(3*s),    -2/s,    -4*s/3],\n",
       "[       0,            -2/s, 1 + 2/s,        -1],\n",
       "[       0,          -4*s/3,      -1, 4*s/3 + 1]])"
      ]
     },
     "execution_count": 189,
     "metadata": {},
     "output_type": "execute_result"
    }
   ],
   "source": [
    "Y = Matrix([\n",
    "    [2/(3*s), -2/(3*s), 0, 0], \n",
    "    [-2/(3*s), 2/(3*s) + 2/s+4*s/3, -2/s,-4*s/3], \n",
    "    [0, -2/s, 2/s+1, -1],\n",
    "    [0, -4*s/3, -1, 1+4*s/3]\n",
    "])\n",
    "Y"
   ]
  },
  {
   "cell_type": "markdown",
   "id": "41fe8c6a",
   "metadata": {},
   "source": [
    "Aprovechando la simplicidad de las funciones se puede verificar que cumple con las propiedades de una MAI y de paso constatar que está bien calculada."
   ]
  },
  {
   "cell_type": "code",
   "execution_count": 215,
   "id": "c50c8d34",
   "metadata": {},
   "outputs": [
    {
     "name": "stdout",
     "output_type": "stream",
     "text": [
      "* El determinante de la matriz es igual a: 0 \n",
      "* La sumatoria de la fila 0 es: 0 \n",
      "* La sumatoria de la fila 1 es: 0 \n",
      "* La sumatoria de la fila 2 es: 0 \n",
      "* La sumatoria de la fila 3 es: 0 \n",
      "* La sumatoria de la columna 0 es: 0 \n",
      "* La sumatoria de la columna 1 es: 0 \n",
      "* La sumatoria de la columna 2 es: 0 \n",
      "* La sumatoria de la columna 3 es: 0 \n",
      "\n",
      "* Todos los cofactores de primer orden son iguales: \n"
     ]
    },
    {
     "data": {
      "text/latex": [
       "$\\displaystyle \\left[\\begin{matrix}\\frac{8}{9} + \\frac{16}{9 s} + \\frac{4}{3 s^{2}} & \\frac{8}{9} + \\frac{16}{9 s} + \\frac{4}{3 s^{2}} & \\frac{8}{9} + \\frac{16}{9 s} + \\frac{4}{3 s^{2}} & \\frac{8}{9} + \\frac{16}{9 s} + \\frac{4}{3 s^{2}}\\\\\\frac{8}{9} + \\frac{16}{9 s} + \\frac{4}{3 s^{2}} & \\frac{8}{9} + \\frac{16}{9 s} + \\frac{4}{3 s^{2}} & \\frac{8}{9} + \\frac{16}{9 s} + \\frac{4}{3 s^{2}} & \\frac{8}{9} + \\frac{16}{9 s} + \\frac{4}{3 s^{2}}\\\\\\frac{8}{9} + \\frac{16}{9 s} + \\frac{4}{3 s^{2}} & \\frac{8}{9} + \\frac{16}{9 s} + \\frac{4}{3 s^{2}} & \\frac{8}{9} + \\frac{16}{9 s} + \\frac{4}{3 s^{2}} & \\frac{8}{9} + \\frac{16}{9 s} + \\frac{4}{3 s^{2}}\\\\\\frac{8}{9} + \\frac{16}{9 s} + \\frac{4}{3 s^{2}} & \\frac{8}{9} + \\frac{16}{9 s} + \\frac{4}{3 s^{2}} & \\frac{8}{9} + \\frac{16}{9 s} + \\frac{4}{3 s^{2}} & \\frac{8}{9} + \\frac{16}{9 s} + \\frac{4}{3 s^{2}}\\end{matrix}\\right]$"
      ],
      "text/plain": [
       "Matrix([\n",
       "[8/9 + 16/(9*s) + 4/(3*s**2), 8/9 + 16/(9*s) + 4/(3*s**2), 8/9 + 16/(9*s) + 4/(3*s**2), 8/9 + 16/(9*s) + 4/(3*s**2)],\n",
       "[8/9 + 16/(9*s) + 4/(3*s**2), 8/9 + 16/(9*s) + 4/(3*s**2), 8/9 + 16/(9*s) + 4/(3*s**2), 8/9 + 16/(9*s) + 4/(3*s**2)],\n",
       "[8/9 + 16/(9*s) + 4/(3*s**2), 8/9 + 16/(9*s) + 4/(3*s**2), 8/9 + 16/(9*s) + 4/(3*s**2), 8/9 + 16/(9*s) + 4/(3*s**2)],\n",
       "[8/9 + 16/(9*s) + 4/(3*s**2), 8/9 + 16/(9*s) + 4/(3*s**2), 8/9 + 16/(9*s) + 4/(3*s**2), 8/9 + 16/(9*s) + 4/(3*s**2)]])"
      ]
     },
     "execution_count": 215,
     "metadata": {},
     "output_type": "execute_result"
    }
   ],
   "source": [
    "print('* El determinante de la matriz es igual a: {} '.format(Y.det()))\n",
    "for i in range(4):\n",
    "    print('* La sumatoria de la fila {} es: {} '.format(i,sum(Y.row(i))))\n",
    "for j in range(4):\n",
    "    print('* La sumatoria de la columna {} es: {} '.format(j,sum(Y.col(j))))\n",
    "print('\\n* Todos los cofactores de primer orden son iguales: ')\n",
    "Y.cofactorMatrix()"
   ]
  },
  {
   "cell_type": "markdown",
   "id": "0c96656b",
   "metadata": {},
   "source": [
    "<a name=\"id2.5\">\n",
    "   <h2>Computación de transferencia de tensión con MAI utilizando SimPy</h2>\n",
    "</a> \n",
    "\n",
    "La expresión que determina la transferencia de tensión, como se vió anteriormente, es la siguiente:\n",
    "\n",
    "\\begin{equation}\n",
    "\\frac{V_{23}}{V_{03}} = sig(-1)*sig(-3)  \\frac{Y^{23}_{03}}{Y^{03}_{03}}\n",
    "\\end{equation}\n"
   ]
  },
  {
   "cell_type": "markdown",
   "id": "1d6f7a31",
   "metadata": {},
   "source": [
    "Para calcular los cofactores de segundo orden empleamos una función cuyo código está disponible en el anexo de funciones auxiliares."
   ]
  },
  {
   "cell_type": "code",
   "execution_count": 163,
   "id": "58d04fec",
   "metadata": {},
   "outputs": [
    {
     "data": {
      "text/latex": [
       "$\\displaystyle \\left[\\begin{matrix}- \\frac{2}{3 s} & 0\\\\\\frac{4 s}{3} + \\frac{8}{3 s} & - \\frac{2}{s}\\end{matrix}\\right]$"
      ],
      "text/plain": [
       "Matrix([\n",
       "[       -2/(3*s),    0],\n",
       "[4*s/3 + 8/(3*s), -2/s]])"
      ]
     },
     "execution_count": 163,
     "metadata": {},
     "output_type": "execute_result"
    }
   ],
   "source": [
    "Ynum = obtenenerNcofactor(Y, (2,3), (0,3))\n",
    "Ynum"
   ]
  },
  {
   "cell_type": "code",
   "execution_count": 164,
   "id": "5580adf2",
   "metadata": {},
   "outputs": [
    {
     "data": {
      "text/latex": [
       "$\\displaystyle \\left[\\begin{matrix}\\frac{4 s}{3} + \\frac{8}{3 s} & - \\frac{2}{s}\\\\- \\frac{2}{s} & 1 + \\frac{2}{s}\\end{matrix}\\right]$"
      ],
      "text/plain": [
       "Matrix([\n",
       "[4*s/3 + 8/(3*s),    -2/s],\n",
       "[           -2/s, 1 + 2/s]])"
      ]
     },
     "execution_count": 164,
     "metadata": {},
     "output_type": "execute_result"
    }
   ],
   "source": [
    "Yden = obtenenerNcofactor(Y, (0,3), (0,3))\n",
    "Yden"
   ]
  },
  {
   "cell_type": "code",
   "execution_count": 165,
   "id": "183c36cf",
   "metadata": {},
   "outputs": [],
   "source": [
    "T = np.sign(2-3)*np.sign(0-3)*Ynum.det()/Yden.det()"
   ]
  },
  {
   "cell_type": "code",
   "execution_count": 166,
   "id": "a68268dd",
   "metadata": {},
   "outputs": [
    {
     "data": {
      "text/latex": [
       "$\\displaystyle \\frac{4}{4 s^{3} + 8 s^{2} + 8 s + 4}$"
      ],
      "text/plain": [
       "4/(4*s**3 + 8*s**2 + 8*s + 4)"
      ]
     },
     "execution_count": 166,
     "metadata": {},
     "output_type": "execute_result"
    }
   ],
   "source": [
    "sp.expand(T)"
   ]
  },
  {
   "cell_type": "markdown",
   "id": "ea369f22",
   "metadata": {},
   "source": [
    "Dividiendo numerador y denominador por 4, se verifica que la transferencia es la misma a la que se llegó en los puntos anteriores"
   ]
  },
  {
   "cell_type": "markdown",
   "id": "e5ae1b91",
   "metadata": {},
   "source": [
    "<a name=\"id2.6\">\n",
    "   <h2>Computación de impedancia de excitación con MAI utilizando SimPy</h2>\n",
    "</a> \n",
    "\n",
    "En este caso la expresión de la impedancia de entrada es igual a:\n",
    "\n",
    "\\begin{equation}\n",
    "Z^{ij}_{mn} = \\frac{V_{ij}}{I_{mn}} = sig(i-j)*sig(m-n)  \\frac{Y^{ij}_{mn}}{Y^{n}_{n}}\n",
    "\\end{equation}\n",
    "\n",
    "Para el caso:\n",
    "\n",
    "\\begin{equation}\n",
    "Z^{03}_{mn} = \\frac{V_{03}}{I_{01}} = sig(0-3)*sig(0-1)  \\frac{Y^{03}_{01}}{Y^{1}_{1}}\n",
    "\\end{equation}\n",
    "\n",
    "\n"
   ]
  },
  {
   "cell_type": "code",
   "execution_count": 211,
   "id": "692189f2",
   "metadata": {},
   "outputs": [
    {
     "data": {
      "text/latex": [
       "$\\displaystyle \\left[\\begin{matrix}- \\frac{2}{s} & - \\frac{4 s}{3}\\\\1 + \\frac{2}{s} & -1\\end{matrix}\\right]$"
      ],
      "text/plain": [
       "Matrix([\n",
       "[   -2/s, -4*s/3],\n",
       "[1 + 2/s,     -1]])"
      ]
     },
     "execution_count": 211,
     "metadata": {},
     "output_type": "execute_result"
    }
   ],
   "source": [
    "Ynum = obtenenerNcofactor(Y,(0,3),(0,1))\n",
    "Ynum"
   ]
  },
  {
   "cell_type": "code",
   "execution_count": 212,
   "id": "d34930d5",
   "metadata": {},
   "outputs": [
    {
     "data": {
      "text/latex": [
       "$\\displaystyle \\left[\\begin{matrix}\\frac{2}{3 s} & 0 & 0\\\\0 & 1 + \\frac{2}{s} & -1\\\\0 & -1 & \\frac{4 s}{3} + 1\\end{matrix}\\right]$"
      ],
      "text/plain": [
       "Matrix([\n",
       "[2/(3*s),       0,         0],\n",
       "[      0, 1 + 2/s,        -1],\n",
       "[      0,      -1, 4*s/3 + 1]])"
      ]
     },
     "execution_count": 212,
     "metadata": {},
     "output_type": "execute_result"
    }
   ],
   "source": [
    "Yden = obtenenerNcofactor(Y,(1,),(1,))\n",
    "Yden"
   ]
  },
  {
   "cell_type": "code",
   "execution_count": 213,
   "id": "e296fba7",
   "metadata": {},
   "outputs": [
    {
     "data": {
      "text/latex": [
       "$\\displaystyle \\frac{3 s}{2}$"
      ],
      "text/plain": [
       "3*s/2"
      ]
     },
     "execution_count": 213,
     "metadata": {},
     "output_type": "execute_result"
    }
   ],
   "source": [
    "Z = np.sign(0-3)*np.sign(0-1)*Ynum.det()/Yden.det()\n",
    "Z = sp.simplify(Z)\n",
    "Z"
   ]
  },
  {
   "cell_type": "markdown",
   "id": "d1381878",
   "metadata": {},
   "source": [
    "Según se puede apreciar, la impedancia de excitación del circuito equivale a la de un inductor de 1,5H. A continuación se realizan ambas simulaciones en LtSpice para comparar los resultados y verificar que es el resultado al que se arribó es el correcto:\n",
    "\n",
    "<img src=\"./rsc/sim/Ej2-Zexc.png\" align=\"center\" width=\"1283\" height=\"580\" /> \n",
    "\n",
    "Donde se puede observar que las graficas de respuesta en frecuencia son idénticas y que para un punto aleatoreo el modulo, fase y retardo de grupo son iguales."
   ]
  },
  {
   "cell_type": "markdown",
   "id": "b5bd74c8",
   "metadata": {},
   "source": [
    "<div class=\"alert alert-success text-left\">\n",
    "\n",
    "<img src=\"./rsc/logo_UTN.svg\" align=\"right\" width=\"150\" /> \n",
    "\n",
    "<center> \n",
    "    <a name=\"id3\">\n",
    "        <h1>ANEXO</h1>\n",
    "    </a>     \n",
    "</center>\n",
    "    \n",
    "</div>\n",
    "\n",
    "\n"
   ]
  },
  {
   "cell_type": "markdown",
   "id": "e6b8bf3e",
   "metadata": {},
   "source": [
    "<a name=\"id3.1\">\n",
    "   <h2>Cálculos Ejercio 1</h2>\n",
    "</a> "
   ]
  },
  {
   "cell_type": "code",
   "execution_count": 108,
   "id": "50f9da96",
   "metadata": {
    "scrolled": true
   },
   "outputs": [
    {
     "data": {
      "text/html": [
       "\n",
       "        <iframe\n",
       "            width=\"1000\"\n",
       "            height=\"1000\"\n",
       "            src=\"./rsc/ts7-ej1.pdf\"\n",
       "            frameborder=\"0\"\n",
       "            allowfullscreen\n",
       "            \n",
       "        ></iframe>\n",
       "        "
      ],
      "text/plain": [
       "<IPython.lib.display.IFrame at 0x7efecce8a0b0>"
      ]
     },
     "execution_count": 108,
     "metadata": {},
     "output_type": "execute_result"
    }
   ],
   "source": [
    "IFrame(\"./rsc/ts7-ej1.pdf\", width=1000, height=1000)"
   ]
  },
  {
   "cell_type": "markdown",
   "id": "fb20de77",
   "metadata": {},
   "source": [
    "<a name=\"id3.2\">\n",
    "   <h2>Cálculos Ejercio 2</h2>\n",
    "</a> "
   ]
  },
  {
   "cell_type": "code",
   "execution_count": 109,
   "id": "045565f7",
   "metadata": {
    "scrolled": true
   },
   "outputs": [
    {
     "data": {
      "text/html": [
       "\n",
       "        <iframe\n",
       "            width=\"1000\"\n",
       "            height=\"1000\"\n",
       "            src=\"./rsc/ts7-ej2.pdf\"\n",
       "            frameborder=\"0\"\n",
       "            allowfullscreen\n",
       "            \n",
       "        ></iframe>\n",
       "        "
      ],
      "text/plain": [
       "<IPython.lib.display.IFrame at 0x7efecce89420>"
      ]
     },
     "execution_count": 109,
     "metadata": {},
     "output_type": "execute_result"
    }
   ],
   "source": [
    "IFrame(\"./rsc/ts7-ej2.pdf\", width=1000, height=1000)"
   ]
  },
  {
   "cell_type": "markdown",
   "id": "812421ce",
   "metadata": {},
   "source": [
    "<a name=\"id3.3\">\n",
    "   <h2>Código de funciones para calcular matrices de cofactores de orden N</h2>\n",
    "</a> "
   ]
  },
  {
   "cell_type": "code",
   "execution_count": 121,
   "id": "b79eb5ff",
   "metadata": {},
   "outputs": [],
   "source": [
    "#row y col: tuplas (i,j) y (m,n)\n",
    "#mat: Matriz a calcular el 2do cofactor\n",
    "def obtenener2cofactor(mat, row, col):\n",
    "    return mat.minor_submatrix(row[0],col[0]).minor_submatrix(row[1]-1,col[1]-1)    "
   ]
  },
  {
   "cell_type": "code",
   "execution_count": 146,
   "id": "0951d93c",
   "metadata": {},
   "outputs": [],
   "source": [
    "def obtenenerNcofactor(mat, row, col):\n",
    "    for index in range(0,len(row)):\n",
    "        mat = mat.minor_submatrix(row[index]-index,col[index]-index)\n",
    "    return mat"
   ]
  },
  {
   "cell_type": "markdown",
   "id": "19fec721",
   "metadata": {},
   "source": [
    "---"
   ]
  }
 ],
 "metadata": {
  "kernelspec": {
   "display_name": "Python 3 (ipykernel)",
   "language": "python",
   "name": "python3"
  },
  "language_info": {
   "codemirror_mode": {
    "name": "ipython",
    "version": 3
   },
   "file_extension": ".py",
   "mimetype": "text/x-python",
   "name": "python",
   "nbconvert_exporter": "python",
   "pygments_lexer": "ipython3",
   "version": "3.10.7"
  }
 },
 "nbformat": 4,
 "nbformat_minor": 5
}
