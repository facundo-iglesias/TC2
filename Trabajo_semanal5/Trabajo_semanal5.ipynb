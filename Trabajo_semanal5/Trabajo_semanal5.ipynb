{
 "cells": [
  {
   "cell_type": "markdown",
   "id": "106c0926",
   "metadata": {},
   "source": [
    "<img src=\"./rsc/logo_UTN.svg\" align=\"right\" width=\"150\" /> \n",
    "\n",
    "#### Teoría de los Circuitos 2\n",
    "\n",
    "<center> <h1>Trabajo semanal 5 </h1></center>\n",
    "    "
   ]
  },
  {
   "cell_type": "markdown",
   "id": "063ac691",
   "metadata": {},
   "source": [
    "<img src=\"./rsc/consigna.png\"  /> "
   ]
  },
  {
   "cell_type": "code",
   "execution_count": 2,
   "id": "68f06eb9",
   "metadata": {},
   "outputs": [],
   "source": [
    "#LIbrerias utilizadas\n",
    "from IPython.display import IFrame\n",
    "import sympy as sp\n",
    "from sympy.abc import s\n",
    "from IPython.display import display, Math\n",
    "from sympy.parsing.sympy_parser import parse_expr\n",
    "from numpy import sqrt\n",
    "import numpy as np\n",
    "#Analyse sys\n",
    "from pytc2.sistemas_lineales import analyze_sys,  tf2sos_analog\n",
    "import scipy.signal as sig\n",
    "import numpy as np\n",
    "import matplotlib.pyplot as plt\n",
    "#Cheby\n",
    "from pytc2.general import Chebyshev_polynomials "
   ]
  },
  {
   "cell_type": "markdown",
   "id": "4011c5c1",
   "metadata": {},
   "source": [
    "### Obtención de f1 y f2"
   ]
  },
  {
   "cell_type": "code",
   "execution_count": 4,
   "id": "1ee81ae8",
   "metadata": {},
   "outputs": [
    {
     "data": {
      "text/plain": [
       "[(-24309.7263664660, -19909.7263664660), (19909.7263664660, 24309.7263664660)]"
      ]
     },
     "execution_count": 4,
     "metadata": {},
     "output_type": "execute_result"
    }
   ],
   "source": [
    "f1,f2,w = sp.symbols(\"f1,f2,w\")\n",
    "\n",
    "sistema = sp.solve([ \n",
    "                ((22*1000)/5)-f2+f1,\n",
    "                ((484*1000000)/f2)-f1\n",
    "            ], \n",
    "            [f1,f2])\n",
    "sistema"
   ]
  },
  {
   "cell_type": "markdown",
   "id": "0fa81516",
   "metadata": {},
   "source": [
    "### Obtención de orden Chebishev"
   ]
  },
  {
   "cell_type": "code",
   "execution_count": 5,
   "id": "9301d080",
   "metadata": {},
   "outputs": [
    {
     "name": "stdout",
     "output_type": "stream",
     "text": [
      "El alfa min de Omega 1 para n = 3 es de 26.808582352050262\n",
      "El alfa min de Omega 2 para n = 2 es de 24.987336741533785\n",
      "\n",
      "Se elige n = 3 tal que se supera el alfa min en ambas frecuencias\n"
     ]
    }
   ],
   "source": [
    "#Polinomio de CHebyshev\n",
    "Omega = -2.6\n",
    "eps = 0.35\n",
    "n = 3\n",
    "Cn = Chebyshev_polynomials(n)\n",
    "arg = (1+(eps*Cn)**2)\n",
    "x = (0.1225*w**2*(4*w**2 - 3)**2 + 1).subs(w,Omega)\n",
    "alfa_min = np.log10(479.576876960000)*10\n",
    "print(\"El alfa min de Omega 1 para n = 3 es de\" ,alfa_min)\n",
    "\n",
    "Omega = 5.082\n",
    "eps = 0.35\n",
    "n = 2\n",
    "Cn = Chebyshev_polynomials(n)\n",
    "arg = (1+(eps*Cn)**2)\n",
    "x = (0.49*(w**2 - 0.5)**2 + 1).subs(w,Omega)\n",
    "alfa_min = np.log10(315.307044800366)*10\n",
    "print(\"El alfa min de Omega 2 para n = 2 es de\" ,alfa_min)\n",
    "\n",
    "print(\"\\nSe elige n = 3 tal que se supera el alfa min en ambas frecuencias\")\n"
   ]
  },
  {
   "cell_type": "markdown",
   "id": "69bb550c",
   "metadata": {},
   "source": [
    "### Obtención de la función transferencia del protitpo"
   ]
  },
  {
   "cell_type": "code",
   "execution_count": 8,
   "id": "a4cce7c0",
   "metadata": {},
   "outputs": [
    {
     "name": "stdout",
     "output_type": "stream",
     "text": [
      "Polos: [-0.31322824+1.02192749j -0.62645649-0.j         -0.31322824-1.02192749j] \n",
      "\n",
      "K = 0.7156937903107974\n",
      "\n",
      "Factorización:\n"
     ]
    },
    {
     "data": {
      "text/plain": [
       "[s**2 + 0.626456486340275*s + 1.1424477292778, s + 0.626456486340275]"
      ]
     },
     "execution_count": 8,
     "metadata": {},
     "output_type": "execute_result"
    }
   ],
   "source": [
    "n = 3\n",
    "alfa_max = 0.5\n",
    "z,p,k = sig.cheb1ap(n,alfa_max)\n",
    "print(\"Polos:\",p, \"\\n\")\n",
    "print(\"K =\",k)\n",
    "\n",
    "#Factorización\n",
    "print('\\nFactorización:')\n",
    "Factorizar(p)"
   ]
  },
  {
   "cell_type": "code",
   "execution_count": 9,
   "id": "f52bc0ac",
   "metadata": {},
   "outputs": [
    {
     "data": {
      "text/latex": [
       "$\\displaystyle \\frac{1.1424477292778}{s^{2} + 0.626456486340275 s + 1.1424477292778}$"
      ],
      "text/plain": [
       "1.1424477292778/(s**2 + 0.626456486340275*s + 1.1424477292778)"
      ]
     },
     "execution_count": 9,
     "metadata": {},
     "output_type": "execute_result"
    }
   ],
   "source": [
    "s = sp.symbols('s')\n",
    "num1 = 1.1424477292778\n",
    "den1 = (s**2 + 0.626456486340275*s + 1.1424477292778)\n",
    "Parte1 = num1/den1\n",
    "Parte1"
   ]
  },
  {
   "cell_type": "code",
   "execution_count": 10,
   "id": "82c0a471",
   "metadata": {},
   "outputs": [
    {
     "data": {
      "text/latex": [
       "$\\displaystyle \\frac{0.626456486340275}{s + 0.626456486340275}$"
      ],
      "text/plain": [
       "0.626456486340275/(s + 0.626456486340275)"
      ]
     },
     "execution_count": 10,
     "metadata": {},
     "output_type": "execute_result"
    }
   ],
   "source": [
    "num2 = 0.626456486340275\n",
    "den2 = (s + 0.626456486340275)\n",
    "Parte2 = num2/den2\n",
    "Parte2"
   ]
  },
  {
   "cell_type": "markdown",
   "id": "e8ea44f7",
   "metadata": {},
   "source": [
    "### Obtención de partes del pasa-banda"
   ]
  },
  {
   "cell_type": "markdown",
   "id": "daee17ae",
   "metadata": {},
   "source": [
    "##### Desarrollo Parte 1: Pasa-banda 2do orden"
   ]
  },
  {
   "cell_type": "code",
   "execution_count": 11,
   "id": "5272c6dd",
   "metadata": {},
   "outputs": [
    {
     "data": {
      "text/latex": [
       "$\\displaystyle 25.0 s^{2} + 3.13228243170137 s + 51.1424477292778 + \\frac{3.13228243170137}{s} + \\frac{25.0}{s^{2}}$"
      ],
      "text/plain": [
       "25.0*s**2 + 3.13228243170137*s + 51.1424477292778 + 3.13228243170137/s + 25.0/s**2"
      ]
     },
     "execution_count": 11,
     "metadata": {},
     "output_type": "execute_result"
    }
   ],
   "source": [
    "nucleo = 5*(s**2+1)/s\n",
    "sp.simplify(den1.subs(s,nucleo))"
   ]
  },
  {
   "cell_type": "code",
   "execution_count": 12,
   "id": "f9d96281",
   "metadata": {},
   "outputs": [
    {
     "name": "stdout",
     "output_type": "stream",
     "text": [
      "Polos: \n",
      "[-0.03450874+1.10691778j -0.03450874-1.10691778j -0.02813691+0.90253228j\n",
      " -0.02813691-0.90253228j]\n"
     ]
    }
   ],
   "source": [
    "p1 = np.roots([25,3.13228243170137,51.1424477292778,3.13228243170137,25])\n",
    "print(\"Polos: \\n{}\".format(p1))"
   ]
  },
  {
   "cell_type": "code",
   "execution_count": 13,
   "id": "ca09001a",
   "metadata": {},
   "outputs": [
    {
     "data": {
      "text/latex": [
       "$\\displaystyle 1.0 s^{2} + 0.06901748 s + 1.22645782481652$"
      ],
      "text/plain": [
       "1.0*s**2 + 0.06901748*s + 1.22645782481652"
      ]
     },
     "execution_count": 13,
     "metadata": {},
     "output_type": "execute_result"
    }
   ],
   "source": [
    "sp.simplify((s-(-0.03450874+1.10691778j))*(s-(-0.03450874-1.10691778j)))"
   ]
  },
  {
   "cell_type": "code",
   "execution_count": 14,
   "id": "e170c44f",
   "metadata": {},
   "outputs": [
    {
     "data": {
      "text/latex": [
       "$\\displaystyle 1.0 s^{2} + 0.05627382 s + 0.815356202146346$"
      ],
      "text/plain": [
       "1.0*s**2 + 0.05627382*s + 0.815356202146346"
      ]
     },
     "execution_count": 14,
     "metadata": {},
     "output_type": "execute_result"
    }
   ],
   "source": [
    "sp.simplify((s-(-0.02813691+0.90253228j))*(s-(-0.02813691-0.90253228j)))"
   ]
  },
  {
   "cell_type": "code",
   "execution_count": 42,
   "id": "9919f06a",
   "metadata": {},
   "outputs": [
    {
     "data": {
      "text/latex": [
       "$\\displaystyle \\frac{0.045697909171112 s^{2}}{\\left(s^{2} + 0.05627382 s + 0.815356202146346\\right) \\left(s^{2} + 0.06901748 s + 1.22645782481652\\right)}$"
      ],
      "text/plain": [
       "0.045697909171112*s**2/((s**2 + 0.05627382*s + 0.815356202146346)*(s**2 + 0.06901748*s + 1.22645782481652))"
      ]
     },
     "execution_count": 42,
     "metadata": {},
     "output_type": "execute_result"
    }
   ],
   "source": [
    "T1 = s**2*(1.1424477292778/25)/((s**2+0.06901748*s+1.22645782481652)*(s**2+0.05627382*s+0.815356202146346))\n",
    "T1"
   ]
  },
  {
   "cell_type": "markdown",
   "id": "0e034c7c",
   "metadata": {},
   "source": [
    "##### Desarrollo Parte 2: Pasa-banda 1er Orden"
   ]
  },
  {
   "cell_type": "code",
   "execution_count": 43,
   "id": "512eef5f",
   "metadata": {},
   "outputs": [
    {
     "data": {
      "text/latex": [
       "$\\displaystyle \\frac{0.125291297268055 s}{1.0 s^{2} + 0.125291297268055 s + 1.0}$"
      ],
      "text/plain": [
       "0.125291297268055*s/(1.0*s**2 + 0.125291297268055*s + 1.0)"
      ]
     },
     "execution_count": 43,
     "metadata": {},
     "output_type": "execute_result"
    }
   ],
   "source": [
    "nucleo = 5*(s**2+1)/s\n",
    "aux = den2.subs(s,nucleo)\n",
    "T2=(num2/5*s)/(sp.monic(s*aux))\n",
    "T2"
   ]
  },
  {
   "cell_type": "markdown",
   "id": "d59f02f6",
   "metadata": {},
   "source": [
    "### Función transferencia completa del pasa-banda"
   ]
  },
  {
   "cell_type": "code",
   "execution_count": 47,
   "id": "1aa470ee",
   "metadata": {},
   "outputs": [
    {
     "data": {
      "text/latex": [
       "$\\displaystyle \\frac{0.06901748 s}{s^{2} + 0.06901748 s + 1.22645782481652}$"
      ],
      "text/plain": [
       "0.06901748*s/(s**2 + 0.06901748*s + 1.22645782481652)"
      ]
     },
     "execution_count": 47,
     "metadata": {},
     "output_type": "execute_result"
    }
   ],
   "source": [
    "x = 0.06901748*s/(s**2 + 0.06901748*s + 1.22645782481652)\n",
    "y = 0.05627382*s/(s**2 + 0.05627382*s + 0.815356202146346)\n",
    "z = 0.125291297268055*s/(s**2+0.125291297268055*s+1)\n",
    "x"
   ]
  },
  {
   "cell_type": "code",
   "execution_count": 48,
   "id": "8ae7e886",
   "metadata": {},
   "outputs": [
    {
     "data": {
      "text/latex": [
       "$\\displaystyle \\frac{0.05627382 s}{s^{2} + 0.05627382 s + 0.815356202146346}$"
      ],
      "text/plain": [
       "0.05627382*s/(s**2 + 0.05627382*s + 0.815356202146346)"
      ]
     },
     "execution_count": 48,
     "metadata": {},
     "output_type": "execute_result"
    }
   ],
   "source": [
    "y"
   ]
  },
  {
   "cell_type": "code",
   "execution_count": 49,
   "id": "a1e31c14",
   "metadata": {},
   "outputs": [
    {
     "data": {
      "text/latex": [
       "$\\displaystyle \\frac{0.125291297268055 s}{s^{2} + 0.125291297268055 s + 1}$"
      ],
      "text/plain": [
       "0.125291297268055*s/(s**2 + 0.125291297268055*s + 1)"
      ]
     },
     "execution_count": 49,
     "metadata": {},
     "output_type": "execute_result"
    }
   ],
   "source": [
    "z"
   ]
  },
  {
   "cell_type": "code",
   "execution_count": 60,
   "id": "e38cc76f",
   "metadata": {},
   "outputs": [
    {
     "data": {
      "text/plain": [
       "11.766053938440102"
      ]
     },
     "execution_count": 60,
     "metadata": {},
     "output_type": "execute_result"
    }
   ],
   "source": [
    "k = 0.045697909171112/(0.06901748*0.05627382)\n",
    "k"
   ]
  },
  {
   "cell_type": "markdown",
   "id": "3867138c",
   "metadata": {},
   "source": [
    "----------------------------------------------------------------------------------------------------------------"
   ]
  },
  {
   "cell_type": "code",
   "execution_count": 7,
   "id": "71a65fab",
   "metadata": {},
   "outputs": [],
   "source": [
    "def Factorizar(p):\n",
    "    filtros = list()\n",
    "    for term in p:\n",
    "        if np.imag(term) != 0:\n",
    "            pol = (s - term)*(s - np.conjugate(term))\n",
    "            filtros.append(sp.expand(pol))\n",
    "        else:\n",
    "            filtros.append(s - term)\n",
    "\n",
    "    filtros = filtros[0:int((len(filtros)+1)/2)]\n",
    "    return filtros"
   ]
  },
  {
   "cell_type": "code",
   "execution_count": null,
   "id": "631fe9f2",
   "metadata": {},
   "outputs": [],
   "source": []
  }
 ],
 "metadata": {
  "kernelspec": {
   "display_name": "Python 3 (ipykernel)",
   "language": "python",
   "name": "python3"
  },
  "language_info": {
   "codemirror_mode": {
    "name": "ipython",
    "version": 3
   },
   "file_extension": ".py",
   "mimetype": "text/x-python",
   "name": "python",
   "nbconvert_exporter": "python",
   "pygments_lexer": "ipython3",
   "version": "3.10.7"
  }
 },
 "nbformat": 4,
 "nbformat_minor": 5
}
