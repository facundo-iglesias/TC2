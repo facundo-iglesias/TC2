{
 "cells": [
  {
   "cell_type": "markdown",
   "id": "106c0926",
   "metadata": {},
   "source": [
    "<img src=\"./rsc/logo_UTN.svg\" align=\"right\" width=\"150\" /> \n",
    "\n",
    "#### Teoría de los Circuitos 2\n",
    "\n",
    "<center> <h1>Trabajo semanal 5 </h1></center>\n",
    "    "
   ]
  },
  {
   "cell_type": "markdown",
   "id": "c2dc69b4",
   "metadata": {},
   "source": [
    "<img src=\"./rsc/consigna.png\"  /> "
   ]
  },
  {
   "cell_type": "code",
   "execution_count": 2,
   "id": "696eeac1",
   "metadata": {},
   "outputs": [],
   "source": [
    "#LIbrerias utilizadas\n",
    "from IPython.display import IFrame\n",
    "import sympy as sp\n",
    "from sympy.abc import s\n",
    "from IPython.display import display, Math\n",
    "from sympy.parsing.sympy_parser import parse_expr\n",
    "from numpy import sqrt\n",
    "import numpy as np\n",
    "from numpy import pi\n",
    "#Analyse sys\n",
    "from pytc2.sistemas_lineales import analyze_sys,  tf2sos_analog\n",
    "import scipy.signal as sig\n",
    "import numpy as np\n",
    "import matplotlib.pyplot as plt\n",
    "#Cheby\n",
    "from pytc2.general import Chebyshev_polynomials "
   ]
  },
  {
   "cell_type": "markdown",
   "id": "c26726fc",
   "metadata": {},
   "source": [
    "## RESOLUCIÓN"
   ]
  },
  {
   "cell_type": "markdown",
   "id": "4011c5c1",
   "metadata": {},
   "source": [
    "### Obtención de f1 y f2 y Normalización"
   ]
  },
  {
   "cell_type": "code",
   "execution_count": 93,
   "id": "1ee81ae8",
   "metadata": {},
   "outputs": [
    {
     "name": "stdout",
     "output_type": "stream",
     "text": [
      "f0 = 22000 Hz \n",
      "f1 = 19909.72636646596 Hz \n",
      "f2 = 24309.72636646596 Hz \n",
      "fs1 = 17000 Hz \n",
      "fs2 = 36000 Hz \n"
     ]
    }
   ],
   "source": [
    "f1,f2,w = sp.symbols(\"f1,f2,w\")\n",
    "\n",
    "sistema = sp.solve([ \n",
    "                ((22*1000)/5)-f2+f1,\n",
    "                ((484*1000000)/f2)-f1\n",
    "            ], \n",
    "            [f1,f2])\n",
    "f0 = 22000\n",
    "f1 = float(sistema[1][0])\n",
    "f2 = float(sistema[1][1])\n",
    "fs1= 17000\n",
    "fs2= 36000\n",
    "\n",
    "print(\"f0 = {} Hz \".format(f0))\n",
    "print(\"f1 = {} Hz \".format(f1))\n",
    "print(\"f2 = {} Hz \".format(f2))\n",
    "print(\"fs1 = {} Hz \".format(fs1))\n",
    "print(\"fs2 = {} Hz \".format(fs2))\n"
   ]
  },
  {
   "cell_type": "code",
   "execution_count": 94,
   "id": "9d8445f8",
   "metadata": {},
   "outputs": [
    {
     "name": "stdout",
     "output_type": "stream",
     "text": [
      "w0 =  1.0\n",
      "w1 =  0.9049875621120891\n",
      "w2 =  1.1049875621120893\n",
      "ws1 =  0.7727272727272728\n",
      "ws2 =  1.6363636363636367\n"
     ]
    }
   ],
   "source": [
    "#Normalización\n",
    "w0  = 2*pi*f0\n",
    "w1  = 2*pi*f1/w0\n",
    "w2  = 2*pi*f2/w0\n",
    "ws1 = 2*pi*fs1/w0\n",
    "ws2 = 2*pi*fs2/w0\n",
    "w0  = 2*pi*f0/w0\n",
    "\n",
    "print(\"w0 = \",w0)\n",
    "print(\"w1 = \",w1)\n",
    "print(\"w2 = \",w2)\n",
    "print(\"ws1 = \",ws1)\n",
    "print(\"ws2 = \",ws2)"
   ]
  },
  {
   "cell_type": "markdown",
   "id": "6cb857a7",
   "metadata": {},
   "source": [
    "<img src=\"./rsc/plantilla.jpg\"  /> "
   ]
  },
  {
   "cell_type": "markdown",
   "id": "bab82f0a",
   "metadata": {},
   "source": [
    "##### Normalización de frecuencias aplicando nucleo\n",
    "\\begin{equation}\n",
    "\\Omega = \\frac{1}{B} \\frac{\\omega² - {\\omega_0}²}{\\omega}\n",
    "\\end{equation}\n"
   ]
  },
  {
   "cell_type": "code",
   "execution_count": 133,
   "id": "db74afde",
   "metadata": {},
   "outputs": [
    {
     "name": "stdout",
     "output_type": "stream",
     "text": [
      "OmegaS1 =  -2.6069518716577527\n",
      "OmegaS2 =  5.126262626262628\n"
     ]
    }
   ],
   "source": [
    "OmegaS1= 5*(ws1**2-1)/ws1\n",
    "OmegaS2= 5*(ws2**2-1)/ws2\n",
    "print('OmegaS1 = ',OmegaS1)\n",
    "print('OmegaS2 = ',OmegaS2)"
   ]
  },
  {
   "cell_type": "markdown",
   "id": "38bceb54",
   "metadata": {},
   "source": [
    "### Obtención de epsilon"
   ]
  },
  {
   "cell_type": "code",
   "execution_count": 134,
   "id": "21e4f62a",
   "metadata": {},
   "outputs": [
    {
     "data": {
      "text/plain": [
       "0.34931140018894796"
      ]
     },
     "execution_count": 134,
     "metadata": {},
     "output_type": "execute_result"
    }
   ],
   "source": [
    "alfa_max = 0.5\n",
    "eps  = sqrt(10**(alfa_max/10)-1)\n",
    "eps"
   ]
  },
  {
   "cell_type": "markdown",
   "id": "0fa81516",
   "metadata": {},
   "source": [
    "### Obtención de orden Chebishev"
   ]
  },
  {
   "cell_type": "code",
   "execution_count": 135,
   "id": "1b911345",
   "metadata": {},
   "outputs": [
    {
     "data": {
      "text/latex": [
       "$\\displaystyle 0.122018454301963 w^{2} \\left(4 w^{2} - 3\\right)^{2} + 1$"
      ],
      "text/plain": [
       "0.122018454301963*w**2*(4*w**2 - 3)**2 + 1"
      ]
     },
     "execution_count": 135,
     "metadata": {},
     "output_type": "execute_result"
    }
   ],
   "source": [
    "#Polinomio de Chebyshev\n",
    "n = 3\n",
    "Cn = Chebyshev_polynomials(n)\n",
    "arg = (1+(eps*Cn)**2)\n",
    "arg"
   ]
  },
  {
   "cell_type": "code",
   "execution_count": 136,
   "id": "a28bf743",
   "metadata": {},
   "outputs": [
    {
     "name": "stdout",
     "output_type": "stream",
     "text": [
      "El alfa min de Omega 1 para n = 3 es de 26.866707277839442\n",
      "El orden es correcto ya que supera la atenuación mínima en f1 de 16 dB\n"
     ]
    }
   ],
   "source": [
    "#Atenuación mínima\n",
    "arg = (0.122018454301963*w**2*(4*w**2 - 3)**2 + 1).subs(w,OmegaS1)\n",
    "alfa_min = np.log10(float(arg))*10\n",
    "print(\"El alfa min de Omega 1 para n = {} es de {}\".format(n,alfa_min))\n",
    "print(\"El orden es correcto ya que supera la atenuación mínima en f1 de 16 dB\")"
   ]
  },
  {
   "cell_type": "code",
   "execution_count": 137,
   "id": "9301d080",
   "metadata": {},
   "outputs": [
    {
     "data": {
      "text/latex": [
       "$\\displaystyle 0.122018454301963 w^{2} \\left(4 w^{2} - 3\\right)^{2} + 1$"
      ],
      "text/plain": [
       "0.122018454301963*w**2*(4*w**2 - 3)**2 + 1"
      ]
     },
     "execution_count": 137,
     "metadata": {},
     "output_type": "execute_result"
    }
   ],
   "source": [
    "#Polinomio de Chebyshev\n",
    "n = 3\n",
    "Cn = Chebyshev_polynomials(n)\n",
    "arg = (1+(eps*Cn)**2)\n",
    "arg"
   ]
  },
  {
   "cell_type": "code",
   "execution_count": 138,
   "id": "dbef6886",
   "metadata": {},
   "outputs": [
    {
     "name": "stdout",
     "output_type": "stream",
     "text": [
      "El alfa min de Omega 2 para n = 3 es de 45.24213120648894\n",
      "\n",
      "Se elige n = 3 tal que se supera el alfa min en ambas frecuencias\n"
     ]
    }
   ],
   "source": [
    "#Atenuación mínima\n",
    "arg = (0.122018454301963*w**2*(4*w**2 - 3)**2 + 1).subs(w,OmegaS2)\n",
    "alfa_min = np.log10(float(arg))*10\n",
    "print(\"El alfa min de Omega 2 para n = {} es de {}\".format(n,alfa_min))\n",
    "print(\"\\nSe elige n = 3 tal que se supera el alfa min en ambas frecuencias\")"
   ]
  },
  {
   "cell_type": "markdown",
   "id": "69bb550c",
   "metadata": {},
   "source": [
    "### Obtención de la función transferencia normalizada del prototipo pasabajo"
   ]
  },
  {
   "cell_type": "code",
   "execution_count": 140,
   "id": "a4cce7c0",
   "metadata": {},
   "outputs": [
    {
     "name": "stdout",
     "output_type": "stream",
     "text": [
      "Polos: [-0.31322824+1.02192749j -0.62645649-0.j         -0.31322824-1.02192749j] \n",
      "\n",
      "K = 0.7156937903107974\n",
      "\n",
      "Factorización:\n"
     ]
    },
    {
     "data": {
      "text/plain": [
       "[s**2 + 0.626456486340275*s + 1.1424477292778, s + 0.626456486340275]"
      ]
     },
     "execution_count": 140,
     "metadata": {},
     "output_type": "execute_result"
    }
   ],
   "source": [
    "z,p,k = sig.cheb1ap(n,alfa_max)\n",
    "print(\"Polos:\",p, \"\\n\")\n",
    "print(\"K =\",k)\n",
    "\n",
    "#Factorización\n",
    "print('\\nFactorización:')\n",
    "Factorizar(p)"
   ]
  },
  {
   "cell_type": "code",
   "execution_count": 132,
   "id": "f52bc0ac",
   "metadata": {},
   "outputs": [
    {
     "data": {
      "text/latex": [
       "$\\displaystyle \\frac{1.1424477292778}{s^{2} + 0.626456486340275 s + 1.1424477292778}$"
      ],
      "text/plain": [
       "1.1424477292778/(s**2 + 0.626456486340275*s + 1.1424477292778)"
      ]
     },
     "execution_count": 132,
     "metadata": {},
     "output_type": "execute_result"
    }
   ],
   "source": [
    "s = sp.symbols('s')\n",
    "num1 = 1.1424477292778\n",
    "den1 = (s**2 + 0.626456486340275*s + 1.1424477292778)\n",
    "Parte1 = num1/den1\n",
    "Parte1"
   ]
  },
  {
   "cell_type": "code",
   "execution_count": 122,
   "id": "82c0a471",
   "metadata": {},
   "outputs": [
    {
     "data": {
      "text/latex": [
       "$\\displaystyle \\frac{0.626456486340275}{s + 0.626456486340275}$"
      ],
      "text/plain": [
       "0.626456486340275/(s + 0.626456486340275)"
      ]
     },
     "execution_count": 122,
     "metadata": {},
     "output_type": "execute_result"
    }
   ],
   "source": [
    "num2 = 0.626456486340275\n",
    "den2 = (s + 0.626456486340275)\n",
    "Parte2 = num2/den2\n",
    "Parte2"
   ]
  },
  {
   "cell_type": "markdown",
   "id": "c86efff8",
   "metadata": {},
   "source": [
    "### Función transferencia completa del prototipo pasa bajos"
   ]
  },
  {
   "cell_type": "code",
   "execution_count": 124,
   "id": "c4a28bd8",
   "metadata": {},
   "outputs": [
    {
     "data": {
      "text/latex": [
       "$\\displaystyle \\frac{0.715693790310796}{s^{3} + 1.25291297268055 s^{2} + 1.5348954585556 s + 0.715693790310796}$"
      ],
      "text/plain": [
       "0.715693790310796/(s**3 + 1.25291297268055*s**2 + 1.5348954585556*s + 0.715693790310796)"
      ]
     },
     "execution_count": 124,
     "metadata": {},
     "output_type": "execute_result"
    }
   ],
   "source": [
    "sp.expand(Parte1 * Parte2)"
   ]
  },
  {
   "cell_type": "markdown",
   "id": "e8ea44f7",
   "metadata": {},
   "source": [
    "### Obtención de partes del pasa-banda"
   ]
  },
  {
   "cell_type": "markdown",
   "id": "daee17ae",
   "metadata": {},
   "source": [
    "##### Desarrollo Parte 1: Pasa-banda 2do orden"
   ]
  },
  {
   "cell_type": "code",
   "execution_count": 11,
   "id": "5272c6dd",
   "metadata": {},
   "outputs": [
    {
     "data": {
      "text/latex": [
       "$\\displaystyle 25.0 s^{2} + 3.13228243170137 s + 51.1424477292778 + \\frac{3.13228243170137}{s} + \\frac{25.0}{s^{2}}$"
      ],
      "text/plain": [
       "25.0*s**2 + 3.13228243170137*s + 51.1424477292778 + 3.13228243170137/s + 25.0/s**2"
      ]
     },
     "execution_count": 11,
     "metadata": {},
     "output_type": "execute_result"
    }
   ],
   "source": [
    "nucleo = 5*(s**2+1)/s\n",
    "sp.simplify(den1.subs(s,nucleo))"
   ]
  },
  {
   "cell_type": "code",
   "execution_count": 12,
   "id": "f9d96281",
   "metadata": {},
   "outputs": [
    {
     "name": "stdout",
     "output_type": "stream",
     "text": [
      "Polos: \n",
      "[-0.03450874+1.10691778j -0.03450874-1.10691778j -0.02813691+0.90253228j\n",
      " -0.02813691-0.90253228j]\n"
     ]
    }
   ],
   "source": [
    "p1 = np.roots([25,3.13228243170137,51.1424477292778,3.13228243170137,25])\n",
    "print(\"Polos: \\n{}\".format(p1))"
   ]
  },
  {
   "cell_type": "code",
   "execution_count": 13,
   "id": "ca09001a",
   "metadata": {},
   "outputs": [
    {
     "data": {
      "text/latex": [
       "$\\displaystyle 1.0 s^{2} + 0.06901748 s + 1.22645782481652$"
      ],
      "text/plain": [
       "1.0*s**2 + 0.06901748*s + 1.22645782481652"
      ]
     },
     "execution_count": 13,
     "metadata": {},
     "output_type": "execute_result"
    }
   ],
   "source": [
    "sp.simplify((s-(-0.03450874+1.10691778j))*(s-(-0.03450874-1.10691778j)))"
   ]
  },
  {
   "cell_type": "code",
   "execution_count": 14,
   "id": "e170c44f",
   "metadata": {},
   "outputs": [
    {
     "data": {
      "text/latex": [
       "$\\displaystyle 1.0 s^{2} + 0.05627382 s + 0.815356202146346$"
      ],
      "text/plain": [
       "1.0*s**2 + 0.05627382*s + 0.815356202146346"
      ]
     },
     "execution_count": 14,
     "metadata": {},
     "output_type": "execute_result"
    }
   ],
   "source": [
    "sp.simplify((s-(-0.02813691+0.90253228j))*(s-(-0.02813691-0.90253228j)))"
   ]
  },
  {
   "cell_type": "code",
   "execution_count": 151,
   "id": "9919f06a",
   "metadata": {},
   "outputs": [
    {
     "data": {
      "text/latex": [
       "$\\displaystyle \\frac{0.045697909171112 s^{2}}{\\left(s^{2} + 0.05627382 s + 0.815356202146346\\right) \\left(s^{2} + 0.06901748 s + 1.22645782481652\\right)}$"
      ],
      "text/plain": [
       "0.045697909171112*s**2/((s**2 + 0.05627382*s + 0.815356202146346)*(s**2 + 0.06901748*s + 1.22645782481652))"
      ]
     },
     "execution_count": 151,
     "metadata": {},
     "output_type": "execute_result"
    }
   ],
   "source": [
    "T1 = s**2*(1.1424477292778/25)/((s**2+0.06901748*s+1.22645782481652)*(s**2+0.05627382*s+0.815356202146346))\n",
    "T1"
   ]
  },
  {
   "cell_type": "code",
   "execution_count": 116,
   "id": "1ba19043",
   "metadata": {},
   "outputs": [
    {
     "data": {
      "text/plain": [
       "11.766053938440102"
      ]
     },
     "execution_count": 116,
     "metadata": {},
     "output_type": "execute_result"
    }
   ],
   "source": [
    "K1 =  0.045697909171112/(0.05627382*0.06901748)\n",
    "K1"
   ]
  },
  {
   "cell_type": "markdown",
   "id": "0e034c7c",
   "metadata": {},
   "source": [
    "##### Desarrollo Parte 2: Pasa-banda 1er Orden"
   ]
  },
  {
   "cell_type": "code",
   "execution_count": 43,
   "id": "512eef5f",
   "metadata": {},
   "outputs": [
    {
     "data": {
      "text/latex": [
       "$\\displaystyle \\frac{0.125291297268055 s}{1.0 s^{2} + 0.125291297268055 s + 1.0}$"
      ],
      "text/plain": [
       "0.125291297268055*s/(1.0*s**2 + 0.125291297268055*s + 1.0)"
      ]
     },
     "execution_count": 43,
     "metadata": {},
     "output_type": "execute_result"
    }
   ],
   "source": [
    "nucleo = 5*(s**2+1)/s\n",
    "aux = den2.subs(s,nucleo)\n",
    "T2=(num2/5*s)/(sp.monic(s*aux))\n",
    "T2"
   ]
  },
  {
   "cell_type": "markdown",
   "id": "d59f02f6",
   "metadata": {},
   "source": [
    "### Función transferencia completa del pasa-banda normalizado"
   ]
  },
  {
   "cell_type": "markdown",
   "id": "ffd989dd",
   "metadata": {},
   "source": [
    "\\begin{equation}\n",
    "T(s) =  \\frac{0.125291297268055𝑠}{1𝑠²+0.125291297268055𝑠+1} \n",
    "\\sqrt{11.77} \\frac{0.05627382𝑠}{𝑠²+0.05627382𝑠+0.815356202146346} \n",
    "\\sqrt{11.77} \\frac{0.06901748𝑠}{𝑠²+0.06901748𝑠+1.22645782481652}\n",
    "\\end{equation}"
   ]
  },
  {
   "cell_type": "code",
   "execution_count": 119,
   "id": "41fd0aa0",
   "metadata": {},
   "outputs": [
    {
     "data": {
      "text/plain": [
       "0.045697909171112"
      ]
     },
     "execution_count": 119,
     "metadata": {},
     "output_type": "execute_result"
    }
   ],
   "source": [
    "#Verificación constante K1\n",
    "np.sqrt(K1)*np.sqrt(K1)*0.05627382*0.06901748"
   ]
  },
  {
   "cell_type": "markdown",
   "id": "5051844b",
   "metadata": {},
   "source": [
    "### Implementación pasiva separada mediante buffers"
   ]
  },
  {
   "cell_type": "code",
   "execution_count": 3,
   "id": "aa9c5f2d",
   "metadata": {},
   "outputs": [
    {
     "data": {
      "text/html": [
       "\n",
       "        <iframe\n",
       "            width=\"1000\"\n",
       "            height=\"1000\"\n",
       "            src=\"./rsc/implementacion.pdf\"\n",
       "            frameborder=\"0\"\n",
       "            allowfullscreen\n",
       "            \n",
       "        ></iframe>\n",
       "        "
      ],
      "text/plain": [
       "<IPython.lib.display.IFrame at 0x7f8de5df2d40>"
      ]
     },
     "execution_count": 3,
     "metadata": {},
     "output_type": "execute_result"
    }
   ],
   "source": [
    "IFrame(\"./rsc/implementacion.pdf\", width=1000, height=1000)"
   ]
  },
  {
   "cell_type": "markdown",
   "id": "83382abd",
   "metadata": {},
   "source": [
    "#### Bloque 1"
   ]
  },
  {
   "cell_type": "markdown",
   "id": "b8320895",
   "metadata": {},
   "source": [
    "<img src=\"./rsc/sim/bloque1.png\"/> \n",
    "Frecuencia central del filtro\n",
    "\\begin{equation}\n",
    "f_0 = \\frac{\\omega_0}{2\\pi} = \\frac{1}{2\\pi} = 159 mHz \n",
    "\\end{equation}\n",
    "Ancho de banda del filtro\n",
    "\\begin{equation}\n",
    "B = f2_{-3dB} - f1_{-3dB} = 19.37871 mHz \n",
    "\\end{equation}\n",
    "Factor de calidad del filtro\n",
    "\\begin{equation}\n",
    "Q = \\frac{\\omega_0}{B} = \\frac{1}{2\\pi0.01937} = 8,21 \\rightarrow Q_{teorico} = 8  \n",
    "\\end{equation}"
   ]
  },
  {
   "cell_type": "markdown",
   "id": "1a1f5eaa",
   "metadata": {},
   "source": [
    "#### Bloque 2"
   ]
  },
  {
   "cell_type": "markdown",
   "id": "1d700641",
   "metadata": {},
   "source": [
    "<img src=\"./rsc/sim/bloque2.png\"  /> \n",
    "Frecuencia central del filtro\n",
    "\\begin{equation}\n",
    "f_0 = \\frac{\\omega_0}{2\\pi} = \\frac{0,9}{2\\pi} = 143 mHz \n",
    "\\end{equation}\n",
    "Ancho de banda del filtro\n",
    "\\begin{equation}\n",
    "B = f2_{-3dB} - f1_{-3dB} =  8.79 mHz \n",
    "\\end{equation}\n",
    "Factor de calidad del filtro\n",
    "\\begin{equation}\n",
    "Q = \\frac{\\omega_0}{B} = \\frac{0,9}{2\\pi0,00879} = 16,29  \\rightarrow Q_{teorico} = 16,074  \n",
    "\\end{equation}"
   ]
  },
  {
   "cell_type": "markdown",
   "id": "52a98acb",
   "metadata": {},
   "source": [
    "#### Bloque 3"
   ]
  },
  {
   "cell_type": "markdown",
   "id": "3f7c9088",
   "metadata": {},
   "source": [
    "<img src=\"./rsc/sim/bloque3.png\"  /> \n",
    "Frecuencia central del filtro\n",
    "\\begin{equation}\n",
    "f_0 = \\frac{\\omega_0}{2\\pi} = \\frac{1,1}{2\\pi} = 175 mHz \n",
    "\\end{equation}\n",
    "Ancho de banda del filtro\n",
    "\\begin{equation}\n",
    "B = f2_{-3dB} - f1_{-3dB} =  10.901 mHz \n",
    "\\end{equation}\n",
    "Factor de calidad del filtro\n",
    "\\begin{equation}\n",
    "Q = \\frac{\\omega_0}{B} = \\frac{1,1}{2\\pi0,0109} = 16,06  \\rightarrow Q_{teorico} = 15,9  \n",
    "\\end{equation}"
   ]
  },
  {
   "cell_type": "markdown",
   "id": "a75058e1",
   "metadata": {},
   "source": [
    "### Circuito acoplado (normalizado)\n",
    "<img src=\"./rsc/sim/circuitoAcoplado1.png\"  /> \n",
    "Se añade una etapa de ganancia para llevar el nivel de la transferencia a 0 dB.\n",
    "Frecuencia central del filtro\n",
    "\\begin{equation}\n",
    "w_0 = 1 \\rightarrow f_0 = \\frac{\\omega_0}{2\\pi} = \\frac{1}{2\\pi} = 159 mHz \n",
    "\\end{equation}"
   ]
  },
  {
   "cell_type": "markdown",
   "id": "75841e0a",
   "metadata": {},
   "source": [
    "<img src=\"./rsc/sim/circuitoAcoplado2.png\"  /> \n",
    "Frecuencias de corte del filtro\n",
    "\\begin{equation}\n",
    "f_1 = 2\\pi0,9 = 144 mHz\n",
    "\\end{equation}\n",
    "\\begin{equation}\n",
    "f_2 = 2\\pi1,1 = 175 mHz\n",
    "\\end{equation}\n",
    "\n",
    "Ancho de banda del filtro\n",
    "\\begin{equation}\n",
    "B = f_2 - f_1 = 0,03105 Hz\n",
    "\\end{equation}\n",
    "\n",
    "Factor de calidad del filtro:\n",
    "\\begin{equation}\n",
    "Q = \\frac{\\omega_0}{B}  = \\frac{1}{2\\pi0,03105} = 5,12   \n",
    "\\end{equation}"
   ]
  },
  {
   "cell_type": "markdown",
   "id": "cc92b2fd",
   "metadata": {},
   "source": [
    "<img src=\"./rsc/sim/circuitoAcoplado3.png\"  /> \n",
    "Banda suprimida del filtro:\n",
    "\\begin{equation}\n",
    "f_{s1} = 0,77x159 mHz = 122 mHz   \n",
    "\\end{equation}\n",
    "\\begin{equation}\n",
    "f_{s2} = 1,63x159mHz = 259 mHz\n",
    "\\end{equation}\n",
    "Atenuación en banda suprimida del filtro:\n",
    "\\begin{equation}\n",
    "|T(f_{s1}| = -27,72 \\rightarrow |T(f_{s1}|_{teorica} = -26,86dB \\rightarrow |T(f_{s1}|_{requerida} = -17dB \n",
    "\\end{equation}\n",
    "\\begin{equation}\n",
    "|T(f_{s2}| = -45,04 \\rightarrow |T(f_{s2}|_{teorica} = -45,24dB \\rightarrow |T(f_{s2}|_{teorica} = -36dB\n",
    "\\end{equation}"
   ]
  },
  {
   "cell_type": "markdown",
   "id": "a17d58d9",
   "metadata": {},
   "source": [
    "## Desnormalización de los componentes"
   ]
  },
  {
   "cell_type": "markdown",
   "id": "e2f091b1",
   "metadata": {},
   "source": [
    "Norma de frecuencia:\n",
    "\\begin{equation}\n",
    "\\Omega = 2 \\pi f_0 = 2 \\pi 22000 Hz = 138230,07\n",
    "\\end{equation}\n",
    "Desnormalización de componentes:\n",
    "\\begin{equation}\n",
    "C = \\frac{C_N}{\\Omega_N} \\space\\space\\space L= \\frac{L_N}{\\Omega_N} \n",
    "\\end{equation}"
   ]
  },
  {
   "cell_type": "code",
   "execution_count": 10,
   "id": "8d24877f",
   "metadata": {},
   "outputs": [
    {
     "name": "stdout",
     "output_type": "stream",
     "text": [
      "C1 7.234315595086153e-06\n",
      "L1 7.234315595086153e-06\n",
      "C2 7.234315595086153e-06\n",
      "L2 8.876432892014758e-06\n",
      "C3 7.234315595086153e-06\n",
      "L3 5.900741858287972e-06\n",
      "R1 8\n",
      "R2 17.857\n",
      "R3 14.28\n"
     ]
    }
   ],
   "source": [
    "f0 = 22000 #Hz\n",
    "norma = 2*np.pi*f0\n",
    "\n",
    "resistivos = {\n",
    "    \"R1\": 8,\n",
    "    \"R2\":17.857,\n",
    "    \"R3\":14.28\n",
    "}\n",
    "\n",
    "reactivos = {\n",
    "    \"C1\":1,\n",
    "    \"L1\":1,\n",
    "    \"C2\":1,\n",
    "    \"L2\":1.22699,\n",
    "    \"C3\":1,\n",
    "    \"L3\":0.81566}\n",
    "\n",
    "for c in reactivos:\n",
    "    reactivos[c] = reactivos[c]/norma\n",
    "    print(c,reactivos[c])\n",
    "for c in resistivos:\n",
    "    print(c,resistivos[c])\n"
   ]
  },
  {
   "cell_type": "markdown",
   "id": "c43b908d",
   "metadata": {},
   "source": [
    "## Simulación de circuito desnormalizado"
   ]
  },
  {
   "cell_type": "markdown",
   "id": "02d24f8c",
   "metadata": {},
   "source": [
    "<img src=\"./rsc/sim/circuitoDesnormalizado1.png\"  /> \n",
    "Frecuencia central del filtro:\n",
    "\\begin{equation}\n",
    "f_0 = 22,014 kHz \n",
    "\\end{equation}\n",
    "Atenuación en banda central del filtro:\n",
    "\\begin{equation}\n",
    "|T(f_0)| = -0,023dB \\space\\space |T(f_0)|_{teorica}=0dB  \n",
    "\\end{equation}\n"
   ]
  },
  {
   "cell_type": "markdown",
   "id": "46abd469",
   "metadata": {},
   "source": [
    "<img src=\"./rsc/sim/circuitoDesnormalizado2.png\"  /> \n",
    "Frecuencia de corte inferior del filtro:\n",
    "\\begin{equation}\n",
    "f_1 = 19,925 kHz  \\space\\space\\space\\space\\space |T(f_1)| = 0,47 dB \\space\\space\\space |T(f_1)|_{teorico} = 0,5dB\n",
    "\\end{equation}\n",
    "Frecuencia de corte superior del filtro:\n",
    "\\begin{equation}\n",
    "f_2 = 24,20 kHz  \\space\\space\\space\\space\\space |T(f_2)| = 0,42 dB \\space\\space\\space |T(f_2)|_{teorico} = 0,5dB\n",
    "\\end{equation}"
   ]
  },
  {
   "cell_type": "markdown",
   "id": "74cd22c2",
   "metadata": {},
   "source": [
    "<img src=\"./rsc/sim/circuitoDesnormalizado3.png\"  /> \n",
    "Frecuencia suprimida inferior del filtro:\n",
    "\\begin{equation}\n",
    "f_{s1} = 17,013 kHz \\space\\space\\space\\space |T(f_{s1})| = -26,71 dB \\space\\space\\space |T(f_{s1})|_{teorico} = 26,866dB \\space\\space\\space\\space |T(f_{s1})| = -16 dB\n",
    "\\end{equation}\n",
    "\n",
    "Frecuencia suprimida inferior del filtro:\n",
    "\\begin{equation}\n",
    "f_{s1} = 36,026 kHz \\space\\space\\space\\space |T(f_{s1})| = -45,23 dB \\space\\space\\space |T(f_{s1})|_{teorico} = 45,24dB \\space\\space\\space\\space |T(f_{s1})| = -24 dB\n",
    "\\end{equation}\n"
   ]
  },
  {
   "cell_type": "markdown",
   "id": "3867138c",
   "metadata": {},
   "source": [
    "----------------------------------------------------------------------------------------------------------------"
   ]
  },
  {
   "cell_type": "code",
   "execution_count": 108,
   "id": "71a65fab",
   "metadata": {},
   "outputs": [],
   "source": [
    "def Factorizar(p):\n",
    "    filtros = list()\n",
    "    for term in p:\n",
    "        if np.imag(term) != 0:\n",
    "            pol = (s - term)*(s - np.conjugate(term))\n",
    "            filtros.append(sp.expand(pol))\n",
    "        else:\n",
    "            filtros.append(s - term)\n",
    "\n",
    "    filtros = filtros[0:int((len(filtros)+1)/2)]\n",
    "    return filtros"
   ]
  }
 ],
 "metadata": {
  "kernelspec": {
   "display_name": "Python 3 (ipykernel)",
   "language": "python",
   "name": "python3"
  },
  "language_info": {
   "codemirror_mode": {
    "name": "ipython",
    "version": 3
   },
   "file_extension": ".py",
   "mimetype": "text/x-python",
   "name": "python",
   "nbconvert_exporter": "python",
   "pygments_lexer": "ipython3",
   "version": "3.10.7"
  }
 },
 "nbformat": 4,
 "nbformat_minor": 5
}
