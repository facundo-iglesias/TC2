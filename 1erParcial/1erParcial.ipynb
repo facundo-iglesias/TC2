{
 "cells": [
  {
   "cell_type": "markdown",
   "id": "9c0cba7c",
   "metadata": {},
   "source": [
    "<div class=\"alert alert-info text-left\">\n",
    "\n",
    "<img src=\"./rsc/logo_UTN.svg\" align=\"right\" width=\"150\" /> \n",
    "\n",
    "<center> <h1>Primer Parcial</h1></center>\n",
    "    \n",
    "<h3> Teoría de circuitos 2 </h3>\n",
    "<h3> 10 de julio de 2023 </h3>\n",
    "<h3> Facundo N. Iglesias </h3>\n",
    "\n",
    "    \n",
    "</div>"
   ]
  },
  {
   "cell_type": "code",
   "execution_count": 26,
   "id": "5b258219",
   "metadata": {},
   "outputs": [],
   "source": [
    "from IPython.display import IFrame, display, Math\n",
    "from numpy import sqrt\n",
    "import numpy as np\n",
    "import matplotlib.pyplot as plt\n",
    "from pytc2.general import Chebyshev_polynomials \n",
    "from pytc2.sistemas_lineales import analyze_sys,  tf2sos_analog\n",
    "import scipy.signal as sig\n",
    "import sympy as sp\n",
    "from sympy.abc import s\n",
    "from sympy.parsing.sympy_parser import parse_expr\n",
    "from sympy.solvers import solve"
   ]
  },
  {
   "cell_type": "markdown",
   "id": "f433b501",
   "metadata": {},
   "source": [
    "<div class=\"alert alert-info text-left\">\n",
    "\n",
    "<img src=\"./rsc/logo_UTN.svg\" align=\"right\" width=\"150\" /> \n",
    "\n",
    "<center> <h1>Ejercicio 1</h1></center>\n",
    "    \n",
    "</div>\n",
    "<img src=\"./rsc/consigna1.png\"  /> \n"
   ]
  },
  {
   "cell_type": "markdown",
   "id": "d8e0ae82",
   "metadata": {},
   "source": [
    "<div class=\"alert alert-info text-left\">\n",
    "\n",
    "<img src=\"./rsc/logo_UTN.svg\" align=\"right\" width=\"150\" /> \n",
    "\n",
    "<center> <h1>Punto a</h1></center>\n",
    "    \n",
    "</div>"
   ]
  },
  {
   "cell_type": "markdown",
   "id": "b825e0f3",
   "metadata": {},
   "source": [
    "### Plantilla de diseño del filtro:\n",
    "<img src=\"./rsc/plantillaHP.png\"  /> \n",
    "A partir de la plantilla se determina que es un filtro de tipo pasa-altos.\n"
   ]
  },
  {
   "cell_type": "markdown",
   "id": "52e32c4d",
   "metadata": {},
   "source": [
    "### Plantilla del filtro pasa-bajos prototipo\n",
    "<img src=\"./rsc/plantillaLP.png\"  /> \n"
   ]
  },
  {
   "cell_type": "markdown",
   "id": "605afe98",
   "metadata": {},
   "source": [
    "## Cálculo de epsilon y del orden del filtro para máxima planicidad:"
   ]
  },
  {
   "cell_type": "markdown",
   "id": "be5f7bf2",
   "metadata": {},
   "source": [
    "#### Cálculo de epsilon\n",
    "\n",
    "\\begin{equation}\n",
    "\\alpha_{dB} = 10log(1+\\epsilon²\\omega^{2n})\n",
    "\\end{equation}\n",
    "\n",
    "\\begin{equation}\n",
    "\\alpha_{máx} = 10log(1+\\epsilon²\\omega^{2n})\n",
    "\\end{equation}\n",
    "\n",
    "\\begin{equation}\n",
    "\\epsilon = \\sqrt{10^{\\frac{\\alpha_{máx}}{10}}-1}\n",
    "\\end{equation}\n"
   ]
  },
  {
   "cell_type": "code",
   "execution_count": 7,
   "id": "60cc99cd",
   "metadata": {},
   "outputs": [
    {
     "data": {
      "text/plain": [
       "0.34931140018894796"
      ]
     },
     "execution_count": 7,
     "metadata": {},
     "output_type": "execute_result"
    }
   ],
   "source": [
    "alfa_max = 0.5\n",
    "eps  = sqrt(10**(alfa_max/10)-1)\n",
    "eps"
   ]
  },
  {
   "cell_type": "markdown",
   "id": "b52b941f",
   "metadata": {},
   "source": [
    "#### Cálculo del orden \"n\" del filtro\n",
    "\n",
    "\\begin{equation}\n",
    "\\alpha_{dB}|_{n} = 10log(1+(0,35)².3^{2n})\n",
    "\\end{equation}"
   ]
  },
  {
   "cell_type": "code",
   "execution_count": 12,
   "id": "3e6a1169",
   "metadata": {},
   "outputs": [
    {
     "data": {
      "text/plain": [
       "19.54008183864117"
      ]
     },
     "execution_count": 12,
     "metadata": {},
     "output_type": "execute_result"
    }
   ],
   "source": [
    "n = 3\n",
    "alfa_min = 10*np.log10(1+((eps)**2)*3**(2*n))\n",
    "alfa_min"
   ]
  },
  {
   "cell_type": "markdown",
   "id": "82e4631d",
   "metadata": {},
   "source": [
    "Para un orden 3 la atenuación supera el alfa minimo de diseño de 16 dB"
   ]
  },
  {
   "cell_type": "markdown",
   "id": "b9857d10",
   "metadata": {},
   "source": [
    "#### Normalización por omega de Butterworth\n",
    "\n",
    "\\begin{equation}\n",
    "\\omega_B = \\omega_p \\epsilon^{\\frac{+1}{n}} \n",
    "\\end{equation}"
   ]
  },
  {
   "cell_type": "code",
   "execution_count": 14,
   "id": "57b3eb8c",
   "metadata": {},
   "outputs": [
    {
     "data": {
      "text/plain": [
       "0.7042674013446432"
      ]
     },
     "execution_count": 14,
     "metadata": {},
     "output_type": "execute_result"
    }
   ],
   "source": [
    "w_B = 1*eps**(1/n)\n",
    "w_B"
   ]
  },
  {
   "cell_type": "markdown",
   "id": "0a973e0c",
   "metadata": {},
   "source": [
    "## Función transferencia del filtro pasa-bajos prototipo y pasa-altos de diseño"
   ]
  },
  {
   "cell_type": "code",
   "execution_count": 17,
   "id": "b40e9b0e",
   "metadata": {
    "scrolled": true
   },
   "outputs": [
    {
     "data": {
      "text/html": [
       "\n",
       "        <iframe\n",
       "            width=\"1000\"\n",
       "            height=\"1000\"\n",
       "            src=\"./rsc/res1.pdf\"\n",
       "            frameborder=\"0\"\n",
       "            allowfullscreen\n",
       "            \n",
       "        ></iframe>\n",
       "        "
      ],
      "text/plain": [
       "<IPython.lib.display.IFrame at 0x7f8ae363a020>"
      ]
     },
     "execution_count": 17,
     "metadata": {},
     "output_type": "execute_result"
    }
   ],
   "source": [
    "IFrame(\"./rsc/res1.pdf\", width=1000, height=1000)"
   ]
  },
  {
   "cell_type": "markdown",
   "id": "3b28b7ee",
   "metadata": {},
   "source": [
    "La transferencia del filtro pasa-altos normalizado resulta:\n",
    "\\begin{equation}\n",
    "\\boxed{T(s) = \\frac{s}{s+1} \\frac{s²}{s²+s+1}}\n",
    "\\end{equation}\n",
    "\n",
    "Donde se puede observar que ambos bloques del filtro tienen una frecuencia de corte de:\n",
    "\\begin{equation}\n",
    "\\omega_0 = 1\n",
    "\\end{equation}\n",
    "Y un factor de selectividad del bloque de segundo orden es:\n",
    "\\begin{equation}\n",
    "Q = 1\n",
    "\\end{equation}\n",
    "\n",
    "\n"
   ]
  },
  {
   "cell_type": "markdown",
   "id": "48cbcde8",
   "metadata": {},
   "source": [
    "### Simulación"
   ]
  },
  {
   "cell_type": "code",
   "execution_count": 16,
   "id": "060d7625",
   "metadata": {},
   "outputs": [
    {
     "data": {
      "image/png": "[encoded data removed]",
      "text/plain": [
       "<Figure size 640x480 with 2 Axes>"
      ]
     },
     "metadata": {},
     "output_type": "display_data"
    },
    {
     "data": {
      "image/png": "[encoded data removed]",
      "text/plain": [
       "<Figure size 640x480 with 1 Axes>"
      ]
     },
     "metadata": {},
     "output_type": "display_data"
    },
    {
     "data": {
      "image/png": "[encoded data removed]",
      "text/plain": [
       "<Figure size 640x480 with 1 Axes>"
      ]
     },
     "metadata": {},
     "output_type": "display_data"
    }
   ],
   "source": [
    "num_hp, den_hp = sig.lp2hp(num_lp, den_lp)\n",
    "analyze_sys([sig.TransferFunction(num_hp, den_hp)], ['hp_norm'])"
   ]
  },
  {
   "cell_type": "markdown",
   "id": "7fc8fec6",
   "metadata": {},
   "source": [
    "<div class=\"alert alert-info text-left\">\n",
    "\n",
    "<img src=\"./rsc/logo_UTN.svg\" align=\"right\" width=\"150\" /> \n",
    "\n",
    "<center> <h1>Punto B</h1></center>\n",
    "    \n",
    "</div>"
   ]
  },
  {
   "cell_type": "markdown",
   "id": "a3229dd6",
   "metadata": {},
   "source": [
    "## Implementación mediante red pasiva"
   ]
  },
  {
   "cell_type": "markdown",
   "id": "2a977048",
   "metadata": {},
   "source": [
    "Primero desnormalizamos en frecuencia por la omega de Butterworth\n",
    "\\begin{equation}\n",
    "C =  \\frac{\\bar{C}}{\\Omega_w} = \\frac{1}{0.704} = 1,42 F\n",
    "\\end{equation} \n",
    "\n",
    "\\begin{equation}\n",
    "L =  \\frac{\\bar{L}}{\\Omega_w} = \\frac{1}{0.704} = 1,42 H\n",
    "\\end{equation} \n",
    "\n"
   ]
  },
  {
   "cell_type": "markdown",
   "id": "57ff05eb",
   "metadata": {},
   "source": [
    "<img src=\"./rsc/sim/sim1.png\"  /> \n",
    "Donde podemos observar que cumple con la atenuación minima de 19,45 dB en la frecuencia de 1/3 rad/s\n",
    "<img src=\"./rsc/sim/sim2.png\"  /> \n",
    "Y también cumple con la atenuacion maxima de 0,5 dB en la banda de paso."
   ]
  },
  {
   "cell_type": "markdown",
   "id": "3a6516d3",
   "metadata": {},
   "source": [
    "<div class=\"alert alert-info text-left\">\n",
    "\n",
    "<img src=\"./rsc/logo_UTN.svg\" align=\"right\" width=\"150\" /> \n",
    "\n",
    "<center> <h1>Punto C</h1></center>\n",
    "    \n",
    "</div>"
   ]
  },
  {
   "cell_type": "markdown",
   "id": "54658d32",
   "metadata": {},
   "source": [
    "## Activación del inductor en derivación mediante GIC de Antoniou configurado como Girador"
   ]
  },
  {
   "cell_type": "markdown",
   "id": "3f5a1ff2",
   "metadata": {},
   "source": [
    "<img src=\"./rsc/sim/sim3.png\"  /> \n",
    "<img src=\"./rsc/sim/sim4.png\"  /> \n",
    "Se observa que nuevamente el filtro cumple con lo solicitado"
   ]
  },
  {
   "cell_type": "markdown",
   "id": "4473777f",
   "metadata": {},
   "source": [
    "<div class=\"alert alert-info text-left\">\n",
    "\n",
    "<img src=\"./rsc/logo_UTN.svg\" align=\"right\" width=\"150\" /> \n",
    "\n",
    "<center> <h1>Ejercicio 2</h1></center>\n",
    "    \n",
    "</div>\n",
    "<img src=\"./rsc/consigna2.png\"  /> \n"
   ]
  },
  {
   "cell_type": "markdown",
   "id": "a89fd30d",
   "metadata": {},
   "source": [
    "<div class=\"alert alert-info text-left\">\n",
    "\n",
    "<img src=\"./rsc/logo_UTN.svg\" align=\"right\" width=\"150\" /> \n",
    "\n",
    "<center> <h1>Punto A</h1></center>\n",
    "    \n",
    "</div>"
   ]
  },
  {
   "cell_type": "markdown",
   "id": "6b1489d4",
   "metadata": {},
   "source": [
    "A partir de la caracteristica de fase (rotación de 2 pi) y que la transferencia debe ser de 2do orden, se determina que la transferencia es de un filtro pasa-todo "
   ]
  },
  {
   "cell_type": "markdown",
   "id": "9aab290d",
   "metadata": {},
   "source": [
    "### Transferencia Pasa-todo\n",
    "\\begin{equation}\n",
    "T(s) = K \\frac{s²-s\\frac{\\omega0}{Q}+\\omega_0²}{s²+s\\frac{\\omega0}{Q}+\\omega_0²}\n",
    "\\end{equation}"
   ]
  },
  {
   "cell_type": "markdown",
   "id": "bef3f197",
   "metadata": {},
   "source": [
    "Como la transición de fase en -pi se da a frecuencia unitaria el filtro está normalizado en frecuencia wo=1 y\n",
    "para que los polos sean de máxima planicidad se adopta para el coeficiente lineal raiz de 2.\n",
    "\\begin{equation}\n",
    "T(s) =  \\frac{s²-s\\sqrt{2}+1}{s²+s\\sqrt{2}+1}\n",
    "\\end{equation}\n",
    "\n",
    "Como K es igual a 1 la ganancia es de 0dB en la banda de paso y el factor de calidad del filtro es de:\n",
    "\\begin{equation}\n",
    "Q = \\frac{1}{\\sqrt{2}} = 0,707\n",
    "\\end{equation}"
   ]
  },
  {
   "cell_type": "markdown",
   "id": "ef5d99e8",
   "metadata": {},
   "source": [
    "<div class=\"alert alert-info text-left\">\n",
    "\n",
    "<img src=\"./rsc/logo_UTN.svg\" align=\"right\" width=\"150\" /> \n",
    "\n",
    "<center> <h1>Punto B</h1></center>\n",
    "    \n",
    "</div>\n"
   ]
  },
  {
   "cell_type": "code",
   "execution_count": 61,
   "id": "168003cc",
   "metadata": {
    "scrolled": true
   },
   "outputs": [
    {
     "data": {
      "text/html": [
       "\n",
       "        <iframe\n",
       "            width=\"1000\"\n",
       "            height=\"1000\"\n",
       "            src=\"./rsc/lattice.pdf\"\n",
       "            frameborder=\"0\"\n",
       "            allowfullscreen\n",
       "            \n",
       "        ></iframe>\n",
       "        "
      ],
      "text/plain": [
       "<IPython.lib.display.IFrame at 0x7f8adeb9edd0>"
      ]
     },
     "execution_count": 61,
     "metadata": {},
     "output_type": "execute_result"
    }
   ],
   "source": [
    "IFrame(\"./rsc/lattice.pdf\", width=1000, height=1000)"
   ]
  },
  {
   "cell_type": "markdown",
   "id": "51b43be8",
   "metadata": {},
   "source": [
    "<div class=\"alert alert-info text-left\">\n",
    "\n",
    "<img src=\"./rsc/logo_UTN.svg\" align=\"right\" width=\"150\" /> \n",
    "\n",
    "<center> <h1>Punto D</h1></center>\n",
    "    \n",
    "</div>"
   ]
  },
  {
   "cell_type": "markdown",
   "id": "d65ec01c",
   "metadata": {},
   "source": [
    "## Implementación de la bicuadratica con circuito basado en GIC"
   ]
  },
  {
   "cell_type": "markdown",
   "id": "7b7b9140",
   "metadata": {},
   "source": [
    "<img src=\"./rsc/circuito_propuesto.png\"  /> \n",
    "\n"
   ]
  },
  {
   "cell_type": "code",
   "execution_count": 30,
   "id": "944def92",
   "metadata": {},
   "outputs": [
    {
     "data": {
      "text/latex": [
       "$\\displaystyle \\frac{C_{1} C_{2} R_{1} R_{2} R_{3} R_{5} s^{2} - C_{2} R_{1} R_{3} R_{4} s + R_{2} R_{4}}{C_{1} C_{2} R_{1} R_{2} R_{3} R_{5} s^{2} + C_{2} R_{1} R_{3} R_{5} s + R_{2} R_{4}}$"
      ],
      "text/plain": [
       "(C1*C2*R1*R2*R3*R5*s**2 - C2*R1*R3*R4*s + R2*R4)/(C1*C2*R1*R2*R3*R5*s**2 + C2*R1*R3*R5*s + R2*R4)"
      ]
     },
     "execution_count": 30,
     "metadata": {},
     "output_type": "execute_result"
    }
   ],
   "source": [
    "V1, V2, Vx, Vy = sp.symbols(\"V1, V2, Vx, Vy\")\n",
    "Y1, Y2, Y3, Y4, Y5, YC1, YC2, C1, C2, R1, R2, R3, R4, R5, Y, C, R = sp.symbols(\"Y1, Y2, Y3, Y4, Y5, YC1, YC2, C1, C2, R1, R2, R3, R4, R5, Y, C, R \")\n",
    "\n",
    "sistema = sp.solve([\n",
    "                   Vx*(YC1+Y2+Y1)-V1*YC1-Vy*Y1,\n",
    "                   Vx*(YC2+Y3)-Vy*YC2-V2*Y3,\n",
    "                   Vx*(Y4+Y5)-V2*Y4-V1*Y5\n",
    "            ], \n",
    "            [V1,V2,Vx,Vy])\n",
    "\n",
    "transf_func = sistema[V2]/sistema[V1]\n",
    "transf_func = sp.simplify(transf_func) \n",
    "\n",
    "tf = transf_func.subs(Y1,1/R1)\n",
    "tf = tf.subs(Y2,1/R2)\n",
    "tf = tf.subs(Y3,1/R3)\n",
    "tf = tf.subs(Y4,1/R4)\n",
    "tf = tf.subs(Y5,1/R5)\n",
    "tf = tf.subs(YC1,s*C1)\n",
    "tf = tf.subs(YC2,s*C2)\n",
    "tf = sp.simplify(tf)\n",
    "tf"
   ]
  },
  {
   "cell_type": "markdown",
   "id": "1bce0024",
   "metadata": {},
   "source": [
    "Para que cumpla con la transferencia de un pasa-todo \n",
    "\\begin{equation}\n",
    "R_4 = R_5\n",
    "\\end{equation}"
   ]
  },
  {
   "cell_type": "code",
   "execution_count": 31,
   "id": "2080c0df",
   "metadata": {},
   "outputs": [
    {
     "data": {
      "text/latex": [
       "$\\displaystyle \\frac{C_{1} C_{2} R R_{1} R_{2} R_{3} s^{2} - C_{2} R R_{1} R_{3} s + R R_{2}}{C_{1} C_{2} R R_{1} R_{2} R_{3} s^{2} + C_{2} R R_{1} R_{3} s + R R_{2}}$"
      ],
      "text/plain": [
       "(C1*C2*R*R1*R2*R3*s**2 - C2*R*R1*R3*s + R*R2)/(C1*C2*R*R1*R2*R3*s**2 + C2*R*R1*R3*s + R*R2)"
      ]
     },
     "execution_count": 31,
     "metadata": {},
     "output_type": "execute_result"
    }
   ],
   "source": [
    "tf = tf.subs(R4,R)\n",
    "tf = tf.subs(R5,R)\n",
    "tf"
   ]
  },
  {
   "cell_type": "code",
   "execution_count": 34,
   "id": "1a400011",
   "metadata": {},
   "outputs": [
    {
     "data": {
      "text/latex": [
       "$\\displaystyle \\frac{1}{C_{1} R_{2}}$"
      ],
      "text/plain": [
       "1/(C1*R2)"
      ]
     },
     "execution_count": 34,
     "metadata": {},
     "output_type": "execute_result"
    }
   ],
   "source": [
    "(C2*R*R1*R3)/(C1*C2*R*R1*R2*R3)"
   ]
  },
  {
   "cell_type": "markdown",
   "id": "cc9f5297",
   "metadata": {},
   "source": [
    "\\begin{equation}\n",
    "\\boxed{T(s) = \\frac{ s² - s \\frac{1}{C_1R_2} + \\frac{1}{C_1C_2R_1R_3} }{  s² + s \\frac{1}{C_1R_2} + \\frac{1}{C_1C_2R_1R_3} }}\n",
    "\\end{equation}"
   ]
  },
  {
   "cell_type": "markdown",
   "id": "9cd727f4",
   "metadata": {},
   "source": [
    "Adoptando:\n",
    "\\begin{equation}\n",
    "C_1 = 1F \\rightarrow R_2 = 1\\sqrt{2} \\Omega\n",
    "\\end{equation}\n",
    "\n",
    "\\begin{equation}\n",
    "R_4 = R_5 = 1\\Omega\n",
    "\\end{equation}\n",
    "\n",
    "\\begin{equation}\n",
    "C_2 = 1F \\rightarrow R_1 = 1\n",
    "\\end{equation}\n",
    "\n"
   ]
  },
  {
   "cell_type": "markdown",
   "id": "7dd7d751",
   "metadata": {},
   "source": [
    "A continuación se observa que el circuito cumple con la caracteristica de fase\n",
    "<img src=\"./rsc/sim/sim5.png\"  /> \n"
   ]
  },
  {
   "cell_type": "markdown",
   "id": "3bbac573",
   "metadata": {},
   "source": [
    "<div class=\"alert alert-info text-left\">\n",
    "\n",
    "<img src=\"./rsc/logo_UTN.svg\" align=\"right\" width=\"150\" /> \n",
    "\n",
    "<center> <h1>Punto E</h1></center>\n",
    "    \n",
    "</div>"
   ]
  },
  {
   "cell_type": "markdown",
   "id": "60b22b60",
   "metadata": {},
   "source": [
    "## Sensibilidades"
   ]
  },
  {
   "cell_type": "code",
   "execution_count": 47,
   "id": "1a721dc8",
   "metadata": {},
   "outputs": [
    {
     "data": {
      "text/latex": [
       "$\\displaystyle \\frac{1}{C_{1} R_{2}}$"
      ],
      "text/plain": [
       "1/(C1*R2)"
      ]
     },
     "execution_count": 47,
     "metadata": {},
     "output_type": "execute_result"
    }
   ],
   "source": [
    "w0_Q = (C2*R*R1*R3)/(C1*C2*R*R1*R2*R3)\n",
    "w0_Q "
   ]
  },
  {
   "cell_type": "code",
   "execution_count": 50,
   "id": "493bfadb",
   "metadata": {},
   "outputs": [
    {
     "data": {
      "text/latex": [
       "$\\displaystyle \\frac{1}{C_{1} C_{2} R_{1} R_{3}}$"
      ],
      "text/plain": [
       "1/(C1*C2*R1*R3)"
      ]
     },
     "execution_count": 50,
     "metadata": {},
     "output_type": "execute_result"
    }
   ],
   "source": [
    "w0_2 = 1/(C1*C2*R1*R3)\n",
    "w0_2"
   ]
  },
  {
   "cell_type": "code",
   "execution_count": 60,
   "id": "9ccaf4ab",
   "metadata": {
    "scrolled": true
   },
   "outputs": [
    {
     "data": {
      "text/html": [
       "\n",
       "        <iframe\n",
       "            width=\"1000\"\n",
       "            height=\"1000\"\n",
       "            src=\"./rsc/sens.pdf\"\n",
       "            frameborder=\"0\"\n",
       "            allowfullscreen\n",
       "            \n",
       "        ></iframe>\n",
       "        "
      ],
      "text/plain": [
       "<IPython.lib.display.IFrame at 0x7f8adeb9d2d0>"
      ]
     },
     "execution_count": 60,
     "metadata": {},
     "output_type": "execute_result"
    }
   ],
   "source": [
    "IFrame(\"./rsc/sens.pdf\", width=1000, height=1000)"
   ]
  },
  {
   "cell_type": "markdown",
   "id": "de7e1e51",
   "metadata": {},
   "source": [
    "Otra sensibilidad que resultaría interesante calcular sería la correspondiente a w0 con respecto a C1, ya que dicho componente afecta tanto a la frecuencia de corte como al factor de selectividad."
   ]
  },
  {
   "cell_type": "markdown",
   "id": "ceae97c5",
   "metadata": {},
   "source": [
    "<div class=\"alert alert-info text-left\">\n",
    "\n",
    "<img src=\"./rsc/logo_UTN.svg\" align=\"right\" width=\"150\" /> \n",
    "\n",
    "<center> <h1>Punto F</h1></center>\n",
    "    \n",
    "</div>"
   ]
  },
  {
   "cell_type": "markdown",
   "id": "c8148134",
   "metadata": {},
   "source": [
    "## Desnormalización"
   ]
  },
  {
   "cell_type": "code",
   "execution_count": 54,
   "id": "ffa37f03",
   "metadata": {
    "scrolled": true
   },
   "outputs": [
    {
     "data": {
      "text/html": [
       "\n",
       "        <iframe\n",
       "            width=\"1000\"\n",
       "            height=\"1000\"\n",
       "            src=\"./rsc/desnorm.pdf\"\n",
       "            frameborder=\"0\"\n",
       "            allowfullscreen\n",
       "            \n",
       "        ></iframe>\n",
       "        "
      ],
      "text/plain": [
       "<IPython.lib.display.IFrame at 0x7f8adeb9f850>"
      ]
     },
     "execution_count": 54,
     "metadata": {},
     "output_type": "execute_result"
    }
   ],
   "source": [
    "IFrame(\"./rsc/desnorm.pdf\", width=1000, height=1000)"
   ]
  },
  {
   "cell_type": "markdown",
   "id": "1f3c28f4",
   "metadata": {},
   "source": [
    "Se verifica que ahora el cruce por -pi se da en 10 kHz, es decir que ahora los polos se ubican alrededor de una circunferencia con dicho radio\n",
    "<img src=\"./rsc/sim/sim6.png\"  /> \n"
   ]
  },
  {
   "cell_type": "markdown",
   "id": "74c4b5ee",
   "metadata": {},
   "source": [
    "<div class=\"alert alert-info text-left\">\n",
    "\n",
    "<img src=\"./rsc/logo_UTN.svg\" align=\"right\" width=\"150\" /> \n",
    "\n",
    "<center> <h1>Punto C</h1></center>\n",
    "    \n",
    "</div>\n"
   ]
  },
  {
   "cell_type": "code",
   "execution_count": 62,
   "id": "437e268b",
   "metadata": {
    "scrolled": true
   },
   "outputs": [
    {
     "data": {
      "text/html": [
       "\n",
       "        <iframe\n",
       "            width=\"1000\"\n",
       "            height=\"1000\"\n",
       "            src=\"./rsc/parametrosy.pdf\"\n",
       "            frameborder=\"0\"\n",
       "            allowfullscreen\n",
       "            \n",
       "        ></iframe>\n",
       "        "
      ],
      "text/plain": [
       "<IPython.lib.display.IFrame at 0x7f8adeb9e980>"
      ]
     },
     "execution_count": 62,
     "metadata": {},
     "output_type": "execute_result"
    }
   ],
   "source": [
    "IFrame(\"./rsc/parametrosy.pdf\", width=1000, height=1000)"
   ]
  }
 ],
 "metadata": {
  "kernelspec": {
   "display_name": "Python 3 (ipykernel)",
   "language": "python",
   "name": "python3"
  },
  "language_info": {
   "codemirror_mode": {
    "name": "ipython",
    "version": 3
   },
   "file_extension": ".py",
   "mimetype": "text/x-python",
   "name": "python",
   "nbconvert_exporter": "python",
   "pygments_lexer": "ipython3",
   "version": "3.10.7"
  }
 },
 "nbformat": 4,
 "nbformat_minor": 5
}
